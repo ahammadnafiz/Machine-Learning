{
 "cells": [
  {
   "cell_type": "code",
   "execution_count": 20,
   "id": "dbe45ac4",
   "metadata": {},
   "outputs": [],
   "source": [
    "import pandas as pd\n",
    "import numpy as np\n",
    "import matplotlib.pyplot as plt\n",
    "import seaborn as sns"
   ]
  },
  {
   "cell_type": "code",
   "execution_count": 2,
   "id": "ed62393d",
   "metadata": {},
   "outputs": [],
   "source": [
    "from sklearn.model_selection import train_test_split\n",
    "from sklearn.impute import SimpleImputer\n",
    "from sklearn.compose import ColumnTransformer"
   ]
  },
  {
   "cell_type": "code",
   "execution_count": 5,
   "id": "e0ad8259",
   "metadata": {},
   "outputs": [],
   "source": [
    "df = pd.read_csv('Datasets/titanic_toy.csv')"
   ]
  },
  {
   "cell_type": "code",
   "execution_count": 6,
   "id": "c3f56a39",
   "metadata": {},
   "outputs": [
    {
     "data": {
      "text/html": [
       "<div>\n",
       "<style scoped>\n",
       "    .dataframe tbody tr th:only-of-type {\n",
       "        vertical-align: middle;\n",
       "    }\n",
       "\n",
       "    .dataframe tbody tr th {\n",
       "        vertical-align: top;\n",
       "    }\n",
       "\n",
       "    .dataframe thead th {\n",
       "        text-align: right;\n",
       "    }\n",
       "</style>\n",
       "<table border=\"1\" class=\"dataframe\">\n",
       "  <thead>\n",
       "    <tr style=\"text-align: right;\">\n",
       "      <th></th>\n",
       "      <th>Age</th>\n",
       "      <th>Fare</th>\n",
       "      <th>Family</th>\n",
       "      <th>Survived</th>\n",
       "    </tr>\n",
       "  </thead>\n",
       "  <tbody>\n",
       "    <tr>\n",
       "      <th>0</th>\n",
       "      <td>22.0</td>\n",
       "      <td>7.2500</td>\n",
       "      <td>1</td>\n",
       "      <td>0</td>\n",
       "    </tr>\n",
       "    <tr>\n",
       "      <th>1</th>\n",
       "      <td>38.0</td>\n",
       "      <td>71.2833</td>\n",
       "      <td>1</td>\n",
       "      <td>1</td>\n",
       "    </tr>\n",
       "    <tr>\n",
       "      <th>2</th>\n",
       "      <td>26.0</td>\n",
       "      <td>7.9250</td>\n",
       "      <td>0</td>\n",
       "      <td>1</td>\n",
       "    </tr>\n",
       "    <tr>\n",
       "      <th>3</th>\n",
       "      <td>35.0</td>\n",
       "      <td>53.1000</td>\n",
       "      <td>1</td>\n",
       "      <td>1</td>\n",
       "    </tr>\n",
       "    <tr>\n",
       "      <th>4</th>\n",
       "      <td>35.0</td>\n",
       "      <td>8.0500</td>\n",
       "      <td>0</td>\n",
       "      <td>0</td>\n",
       "    </tr>\n",
       "  </tbody>\n",
       "</table>\n",
       "</div>"
      ],
      "text/plain": [
       "    Age     Fare  Family  Survived\n",
       "0  22.0   7.2500       1         0\n",
       "1  38.0  71.2833       1         1\n",
       "2  26.0   7.9250       0         1\n",
       "3  35.0  53.1000       1         1\n",
       "4  35.0   8.0500       0         0"
      ]
     },
     "execution_count": 6,
     "metadata": {},
     "output_type": "execute_result"
    }
   ],
   "source": [
    "df.head()"
   ]
  },
  {
   "cell_type": "code",
   "execution_count": 7,
   "id": "4d064406",
   "metadata": {},
   "outputs": [
    {
     "name": "stdout",
     "output_type": "stream",
     "text": [
      "<class 'pandas.core.frame.DataFrame'>\n",
      "RangeIndex: 891 entries, 0 to 890\n",
      "Data columns (total 4 columns):\n",
      " #   Column    Non-Null Count  Dtype  \n",
      "---  ------    --------------  -----  \n",
      " 0   Age       714 non-null    float64\n",
      " 1   Fare      846 non-null    float64\n",
      " 2   Family    891 non-null    int64  \n",
      " 3   Survived  891 non-null    int64  \n",
      "dtypes: float64(2), int64(2)\n",
      "memory usage: 28.0 KB\n"
     ]
    }
   ],
   "source": [
    "df.info()"
   ]
  },
  {
   "cell_type": "code",
   "execution_count": 9,
   "id": "33275ffb",
   "metadata": {},
   "outputs": [
    {
     "data": {
      "text/plain": [
       "Age         0.198653\n",
       "Fare        0.050505\n",
       "Family      0.000000\n",
       "Survived    0.000000\n",
       "dtype: float64"
      ]
     },
     "execution_count": 9,
     "metadata": {},
     "output_type": "execute_result"
    }
   ],
   "source": [
    "df.isnull().mean()"
   ]
  },
  {
   "cell_type": "code",
   "execution_count": 10,
   "id": "ed81d78a",
   "metadata": {},
   "outputs": [],
   "source": [
    "X = df.drop(columns=['Survived'])\n",
    "y = df['Survived']"
   ]
  },
  {
   "cell_type": "code",
   "execution_count": 11,
   "id": "41605180",
   "metadata": {},
   "outputs": [],
   "source": [
    "X_train,X_test,y_train,y_test = train_test_split(X,y,test_size=0.2,random_state=42)"
   ]
  },
  {
   "cell_type": "code",
   "execution_count": 12,
   "id": "fda114db",
   "metadata": {},
   "outputs": [
    {
     "data": {
      "text/plain": [
       "((712, 3), (179, 3))"
      ]
     },
     "execution_count": 12,
     "metadata": {},
     "output_type": "execute_result"
    }
   ],
   "source": [
    "X_train.shape, X_test.shape"
   ]
  },
  {
   "cell_type": "code",
   "execution_count": 13,
   "id": "736b6a06",
   "metadata": {},
   "outputs": [],
   "source": [
    "mean_age = X_train['Age'].mean()\n",
    "median_age = X_train['Age'].median()\n",
    "\n",
    "mean_fare = X_train['Fare'].mean()\n",
    "median_fare = X_train['Fare'].median()"
   ]
  },
  {
   "cell_type": "code",
   "execution_count": 14,
   "id": "44629119",
   "metadata": {},
   "outputs": [],
   "source": [
    "X_train['Age_median'] = X_train['Age'].fillna(median_age)\n",
    "X_train['Age_mean'] = X_train['Age'].fillna(mean_age)\n",
    "\n",
    "X_train['Fare_median'] = X_train['Fare'].fillna(median_fare)\n",
    "X_train['Fare_mean'] = X_train['Fare'].fillna(mean_fare)"
   ]
  },
  {
   "cell_type": "code",
   "execution_count": 18,
   "id": "a0623071",
   "metadata": {},
   "outputs": [
    {
     "data": {
      "text/html": [
       "<div>\n",
       "<style scoped>\n",
       "    .dataframe tbody tr th:only-of-type {\n",
       "        vertical-align: middle;\n",
       "    }\n",
       "\n",
       "    .dataframe tbody tr th {\n",
       "        vertical-align: top;\n",
       "    }\n",
       "\n",
       "    .dataframe thead th {\n",
       "        text-align: right;\n",
       "    }\n",
       "</style>\n",
       "<table border=\"1\" class=\"dataframe\">\n",
       "  <thead>\n",
       "    <tr style=\"text-align: right;\">\n",
       "      <th></th>\n",
       "      <th>Age</th>\n",
       "      <th>Fare</th>\n",
       "      <th>Family</th>\n",
       "      <th>Age_median</th>\n",
       "      <th>Age_mean</th>\n",
       "      <th>Fare_median</th>\n",
       "      <th>Fare_mean</th>\n",
       "    </tr>\n",
       "  </thead>\n",
       "  <tbody>\n",
       "    <tr>\n",
       "      <th>438</th>\n",
       "      <td>64.0</td>\n",
       "      <td>263.0000</td>\n",
       "      <td>5</td>\n",
       "      <td>64.0</td>\n",
       "      <td>64.0</td>\n",
       "      <td>263.0000</td>\n",
       "      <td>263.0000</td>\n",
       "    </tr>\n",
       "    <tr>\n",
       "      <th>123</th>\n",
       "      <td>32.5</td>\n",
       "      <td>13.0000</td>\n",
       "      <td>0</td>\n",
       "      <td>32.5</td>\n",
       "      <td>32.5</td>\n",
       "      <td>13.0000</td>\n",
       "      <td>13.0000</td>\n",
       "    </tr>\n",
       "    <tr>\n",
       "      <th>242</th>\n",
       "      <td>29.0</td>\n",
       "      <td>10.5000</td>\n",
       "      <td>0</td>\n",
       "      <td>29.0</td>\n",
       "      <td>29.0</td>\n",
       "      <td>10.5000</td>\n",
       "      <td>10.5000</td>\n",
       "    </tr>\n",
       "    <tr>\n",
       "      <th>100</th>\n",
       "      <td>28.0</td>\n",
       "      <td>7.8958</td>\n",
       "      <td>0</td>\n",
       "      <td>28.0</td>\n",
       "      <td>28.0</td>\n",
       "      <td>7.8958</td>\n",
       "      <td>7.8958</td>\n",
       "    </tr>\n",
       "    <tr>\n",
       "      <th>592</th>\n",
       "      <td>47.0</td>\n",
       "      <td>7.2500</td>\n",
       "      <td>0</td>\n",
       "      <td>47.0</td>\n",
       "      <td>47.0</td>\n",
       "      <td>7.2500</td>\n",
       "      <td>7.2500</td>\n",
       "    </tr>\n",
       "  </tbody>\n",
       "</table>\n",
       "</div>"
      ],
      "text/plain": [
       "      Age      Fare  Family  Age_median  Age_mean  Fare_median  Fare_mean\n",
       "438  64.0  263.0000       5        64.0      64.0     263.0000   263.0000\n",
       "123  32.5   13.0000       0        32.5      32.5      13.0000    13.0000\n",
       "242  29.0   10.5000       0        29.0      29.0      10.5000    10.5000\n",
       "100  28.0    7.8958       0        28.0      28.0       7.8958     7.8958\n",
       "592  47.0    7.2500       0        47.0      47.0       7.2500     7.2500"
      ]
     },
     "execution_count": 18,
     "metadata": {},
     "output_type": "execute_result"
    }
   ],
   "source": [
    "X_train.sample(5)"
   ]
  },
  {
   "cell_type": "code",
   "execution_count": 19,
   "id": "1b555f3d",
   "metadata": {},
   "outputs": [
    {
     "name": "stdout",
     "output_type": "stream",
     "text": [
      "Original Age variable variance:  210.2517072477438\n",
      "Age Variance after median imputation:  169.20731007048096\n",
      "Age Variance after mean imputation:  168.8519336687225\n",
      "Original Fare variable variance:  2761.031434948639\n",
      "Fare Variance after median imputation:  2637.01248167777\n",
      "Fare Variance after mean imputation:  2621.2323749512393\n"
     ]
    }
   ],
   "source": [
    "print('Original Age variable variance: ', X_train['Age'].var())\n",
    "print('Age Variance after median imputation: ', X_train['Age_median'].var())\n",
    "print('Age Variance after mean imputation: ', X_train['Age_mean'].var())\n",
    "\n",
    "print('Original Fare variable variance: ', X_train['Fare'].var())\n",
    "print('Fare Variance after median imputation: ', X_train['Fare_median'].var())\n",
    "print('Fare Variance after mean imputation: ', X_train['Fare_mean'].var())"
   ]
  },
  {
   "cell_type": "code",
   "execution_count": 23,
   "id": "07fafd80",
   "metadata": {},
   "outputs": [
    {
     "name": "stderr",
     "output_type": "stream",
     "text": [
      "D:\\anaconda\\Lib\\site-packages\\seaborn\\_oldcore.py:1119: FutureWarning: use_inf_as_na option is deprecated and will be removed in a future version. Convert inf values to NaN before operating instead.\n",
      "  with pd.option_context('mode.use_inf_as_na', True):\n",
      "D:\\anaconda\\Lib\\site-packages\\seaborn\\_oldcore.py:1119: FutureWarning: use_inf_as_na option is deprecated and will be removed in a future version. Convert inf values to NaN before operating instead.\n",
      "  with pd.option_context('mode.use_inf_as_na', True):\n",
      "D:\\anaconda\\Lib\\site-packages\\seaborn\\_oldcore.py:1119: FutureWarning: use_inf_as_na option is deprecated and will be removed in a future version. Convert inf values to NaN before operating instead.\n",
      "  with pd.option_context('mode.use_inf_as_na', True):\n"
     ]
    },
    {
     "data": {
      "image/png": "[encoded data removed]",
      "text/plain": [
       "<Figure size 1200x500 with 1 Axes>"
      ]
     },
     "metadata": {},
     "output_type": "display_data"
    }
   ],
   "source": [
    "fig, ax = plt.subplots(ncols=1, figsize=(12, 5))\n",
    "\n",
    "sns.kdeplot(X_train['Age'], ax=ax, color='teal', label='Age')\n",
    "sns.kdeplot(X_train['Age_mean'], ax=ax, color='orange', label='Mean Age')\n",
    "sns.kdeplot(X_train['Age_median'], ax=ax, color='red', label='Median Age')\n",
    "\n",
    "# Add the legend\n",
    "ax.legend()\n",
    "\n",
    "plt.show()"
   ]
  },
  {
   "cell_type": "code",
   "execution_count": 24,
   "id": "961da615",
   "metadata": {},
   "outputs": [
    {
     "name": "stderr",
     "output_type": "stream",
     "text": [
      "D:\\anaconda\\Lib\\site-packages\\seaborn\\_oldcore.py:1119: FutureWarning: use_inf_as_na option is deprecated and will be removed in a future version. Convert inf values to NaN before operating instead.\n",
      "  with pd.option_context('mode.use_inf_as_na', True):\n",
      "D:\\anaconda\\Lib\\site-packages\\seaborn\\_oldcore.py:1119: FutureWarning: use_inf_as_na option is deprecated and will be removed in a future version. Convert inf values to NaN before operating instead.\n",
      "  with pd.option_context('mode.use_inf_as_na', True):\n",
      "D:\\anaconda\\Lib\\site-packages\\seaborn\\_oldcore.py:1119: FutureWarning: use_inf_as_na option is deprecated and will be removed in a future version. Convert inf values to NaN before operating instead.\n",
      "  with pd.option_context('mode.use_inf_as_na', True):\n"
     ]
    },
    {
     "data": {
      "image/png": "[encoded data removed]",
      "text/plain": [
       "<Figure size 1200x500 with 1 Axes>"
      ]
     },
     "metadata": {},
     "output_type": "display_data"
    }
   ],
   "source": [
    "fig, ax = plt.subplots(ncols=1, figsize=(12, 5))\n",
    "\n",
    "sns.kdeplot(X_train['Fare'], ax=ax, color='teal', label='Fare')\n",
    "sns.kdeplot(X_train['Fare_mean'], ax=ax, color='orange', label='Fare Age')\n",
    "sns.kdeplot(X_train['Fare_median'], ax=ax, color='red', label='Fare Age')\n",
    "\n",
    "# Add the legend\n",
    "ax.legend()\n",
    "\n",
    "plt.show()"
   ]
  },
  {
   "cell_type": "code",
   "execution_count": 25,
   "id": "f24a0594",
   "metadata": {},
   "outputs": [
    {
     "data": {
      "text/html": [
       "<div>\n",
       "<style scoped>\n",
       "    .dataframe tbody tr th:only-of-type {\n",
       "        vertical-align: middle;\n",
       "    }\n",
       "\n",
       "    .dataframe tbody tr th {\n",
       "        vertical-align: top;\n",
       "    }\n",
       "\n",
       "    .dataframe thead th {\n",
       "        text-align: right;\n",
       "    }\n",
       "</style>\n",
       "<table border=\"1\" class=\"dataframe\">\n",
       "  <thead>\n",
       "    <tr style=\"text-align: right;\">\n",
       "      <th></th>\n",
       "      <th>Age</th>\n",
       "      <th>Fare</th>\n",
       "      <th>Family</th>\n",
       "      <th>Age_median</th>\n",
       "      <th>Age_mean</th>\n",
       "      <th>Fare_median</th>\n",
       "      <th>Fare_mean</th>\n",
       "    </tr>\n",
       "  </thead>\n",
       "  <tbody>\n",
       "    <tr>\n",
       "      <th>Age</th>\n",
       "      <td>210.251707</td>\n",
       "      <td>75.481375</td>\n",
       "      <td>-6.993325</td>\n",
       "      <td>210.251707</td>\n",
       "      <td>210.251707</td>\n",
       "      <td>70.082085</td>\n",
       "      <td>71.193767</td>\n",
       "    </tr>\n",
       "    <tr>\n",
       "      <th>Fare</th>\n",
       "      <td>75.481375</td>\n",
       "      <td>2761.031435</td>\n",
       "      <td>18.599163</td>\n",
       "      <td>63.938058</td>\n",
       "      <td>60.224654</td>\n",
       "      <td>2761.031435</td>\n",
       "      <td>2761.031435</td>\n",
       "    </tr>\n",
       "    <tr>\n",
       "      <th>Family</th>\n",
       "      <td>-6.993325</td>\n",
       "      <td>18.599163</td>\n",
       "      <td>2.830892</td>\n",
       "      <td>-5.587710</td>\n",
       "      <td>-5.616299</td>\n",
       "      <td>17.672035</td>\n",
       "      <td>17.657433</td>\n",
       "    </tr>\n",
       "    <tr>\n",
       "      <th>Age_median</th>\n",
       "      <td>210.251707</td>\n",
       "      <td>63.938058</td>\n",
       "      <td>-5.587710</td>\n",
       "      <td>169.207310</td>\n",
       "      <td>168.851934</td>\n",
       "      <td>59.728510</td>\n",
       "      <td>60.700688</td>\n",
       "    </tr>\n",
       "    <tr>\n",
       "      <th>Age_mean</th>\n",
       "      <td>210.251707</td>\n",
       "      <td>60.224654</td>\n",
       "      <td>-5.616299</td>\n",
       "      <td>168.851934</td>\n",
       "      <td>168.851934</td>\n",
       "      <td>56.282518</td>\n",
       "      <td>57.175304</td>\n",
       "    </tr>\n",
       "    <tr>\n",
       "      <th>Fare_median</th>\n",
       "      <td>70.082085</td>\n",
       "      <td>2761.031435</td>\n",
       "      <td>17.672035</td>\n",
       "      <td>59.728510</td>\n",
       "      <td>56.282518</td>\n",
       "      <td>2637.012482</td>\n",
       "      <td>2621.232375</td>\n",
       "    </tr>\n",
       "    <tr>\n",
       "      <th>Fare_mean</th>\n",
       "      <td>71.193767</td>\n",
       "      <td>2761.031435</td>\n",
       "      <td>17.657433</td>\n",
       "      <td>60.700688</td>\n",
       "      <td>57.175304</td>\n",
       "      <td>2621.232375</td>\n",
       "      <td>2621.232375</td>\n",
       "    </tr>\n",
       "  </tbody>\n",
       "</table>\n",
       "</div>"
      ],
      "text/plain": [
       "                    Age         Fare     Family  Age_median    Age_mean  \\\n",
       "Age          210.251707    75.481375  -6.993325  210.251707  210.251707   \n",
       "Fare          75.481375  2761.031435  18.599163   63.938058   60.224654   \n",
       "Family        -6.993325    18.599163   2.830892   -5.587710   -5.616299   \n",
       "Age_median   210.251707    63.938058  -5.587710  169.207310  168.851934   \n",
       "Age_mean     210.251707    60.224654  -5.616299  168.851934  168.851934   \n",
       "Fare_median   70.082085  2761.031435  17.672035   59.728510   56.282518   \n",
       "Fare_mean     71.193767  2761.031435  17.657433   60.700688   57.175304   \n",
       "\n",
       "             Fare_median    Fare_mean  \n",
       "Age            70.082085    71.193767  \n",
       "Fare         2761.031435  2761.031435  \n",
       "Family         17.672035    17.657433  \n",
       "Age_median     59.728510    60.700688  \n",
       "Age_mean       56.282518    57.175304  \n",
       "Fare_median  2637.012482  2621.232375  \n",
       "Fare_mean    2621.232375  2621.232375  "
      ]
     },
     "execution_count": 25,
     "metadata": {},
     "output_type": "execute_result"
    }
   ],
   "source": [
    "X_train.cov()"
   ]
  },
  {
   "cell_type": "code",
   "execution_count": 26,
   "id": "c42cbe69",
   "metadata": {},
   "outputs": [
    {
     "data": {
      "text/html": [
       "<div>\n",
       "<style scoped>\n",
       "    .dataframe tbody tr th:only-of-type {\n",
       "        vertical-align: middle;\n",
       "    }\n",
       "\n",
       "    .dataframe tbody tr th {\n",
       "        vertical-align: top;\n",
       "    }\n",
       "\n",
       "    .dataframe thead th {\n",
       "        text-align: right;\n",
       "    }\n",
       "</style>\n",
       "<table border=\"1\" class=\"dataframe\">\n",
       "  <thead>\n",
       "    <tr style=\"text-align: right;\">\n",
       "      <th></th>\n",
       "      <th>Age</th>\n",
       "      <th>Fare</th>\n",
       "      <th>Family</th>\n",
       "      <th>Age_median</th>\n",
       "      <th>Age_mean</th>\n",
       "      <th>Fare_median</th>\n",
       "      <th>Fare_mean</th>\n",
       "    </tr>\n",
       "  </thead>\n",
       "  <tbody>\n",
       "    <tr>\n",
       "      <th>Age</th>\n",
       "      <td>1.000000</td>\n",
       "      <td>0.091482</td>\n",
       "      <td>-0.319651</td>\n",
       "      <td>1.000000</td>\n",
       "      <td>1.000000</td>\n",
       "      <td>0.087232</td>\n",
       "      <td>0.088944</td>\n",
       "    </tr>\n",
       "    <tr>\n",
       "      <th>Fare</th>\n",
       "      <td>0.091482</td>\n",
       "      <td>1.000000</td>\n",
       "      <td>0.207193</td>\n",
       "      <td>0.093496</td>\n",
       "      <td>0.088151</td>\n",
       "      <td>1.000000</td>\n",
       "      <td>1.000000</td>\n",
       "    </tr>\n",
       "    <tr>\n",
       "      <th>Family</th>\n",
       "      <td>-0.319651</td>\n",
       "      <td>0.207193</td>\n",
       "      <td>1.000000</td>\n",
       "      <td>-0.255307</td>\n",
       "      <td>-0.256883</td>\n",
       "      <td>0.204536</td>\n",
       "      <td>0.204981</td>\n",
       "    </tr>\n",
       "    <tr>\n",
       "      <th>Age_median</th>\n",
       "      <td>1.000000</td>\n",
       "      <td>0.093496</td>\n",
       "      <td>-0.255307</td>\n",
       "      <td>1.000000</td>\n",
       "      <td>0.998949</td>\n",
       "      <td>0.089416</td>\n",
       "      <td>0.091145</td>\n",
       "    </tr>\n",
       "    <tr>\n",
       "      <th>Age_mean</th>\n",
       "      <td>1.000000</td>\n",
       "      <td>0.088151</td>\n",
       "      <td>-0.256883</td>\n",
       "      <td>0.998949</td>\n",
       "      <td>1.000000</td>\n",
       "      <td>0.084346</td>\n",
       "      <td>0.085941</td>\n",
       "    </tr>\n",
       "    <tr>\n",
       "      <th>Fare_median</th>\n",
       "      <td>0.087232</td>\n",
       "      <td>1.000000</td>\n",
       "      <td>0.204536</td>\n",
       "      <td>0.089416</td>\n",
       "      <td>0.084346</td>\n",
       "      <td>1.000000</td>\n",
       "      <td>0.997003</td>\n",
       "    </tr>\n",
       "    <tr>\n",
       "      <th>Fare_mean</th>\n",
       "      <td>0.088944</td>\n",
       "      <td>1.000000</td>\n",
       "      <td>0.204981</td>\n",
       "      <td>0.091145</td>\n",
       "      <td>0.085941</td>\n",
       "      <td>0.997003</td>\n",
       "      <td>1.000000</td>\n",
       "    </tr>\n",
       "  </tbody>\n",
       "</table>\n",
       "</div>"
      ],
      "text/plain": [
       "                  Age      Fare    Family  Age_median  Age_mean  Fare_median  \\\n",
       "Age          1.000000  0.091482 -0.319651    1.000000  1.000000     0.087232   \n",
       "Fare         0.091482  1.000000  0.207193    0.093496  0.088151     1.000000   \n",
       "Family      -0.319651  0.207193  1.000000   -0.255307 -0.256883     0.204536   \n",
       "Age_median   1.000000  0.093496 -0.255307    1.000000  0.998949     0.089416   \n",
       "Age_mean     1.000000  0.088151 -0.256883    0.998949  1.000000     0.084346   \n",
       "Fare_median  0.087232  1.000000  0.204536    0.089416  0.084346     1.000000   \n",
       "Fare_mean    0.088944  1.000000  0.204981    0.091145  0.085941     0.997003   \n",
       "\n",
       "             Fare_mean  \n",
       "Age           0.088944  \n",
       "Fare          1.000000  \n",
       "Family        0.204981  \n",
       "Age_median    0.091145  \n",
       "Age_mean      0.085941  \n",
       "Fare_median   0.997003  \n",
       "Fare_mean     1.000000  "
      ]
     },
     "execution_count": 26,
     "metadata": {},
     "output_type": "execute_result"
    }
   ],
   "source": [
    "X_train.corr()"
   ]
  },
  {
   "cell_type": "code",
   "execution_count": 28,
   "id": "d576f4c0",
   "metadata": {},
   "outputs": [
    {
     "data": {
      "image/png": "[encoded data removed]",
      "text/plain": [
       "<Figure size 640x480 with 1 Axes>"
      ]
     },
     "metadata": {},
     "output_type": "display_data"
    }
   ],
   "source": [
    "sns.boxplot(X_train[['Age', 'Age_median', 'Age_mean']])\n",
    "plt.show()"
   ]
  },
  {
   "cell_type": "code",
   "execution_count": 29,
   "id": "be94dc6a",
   "metadata": {},
   "outputs": [
    {
     "data": {
      "image/png": "[encoded data removed]",
      "text/plain": [
       "<Figure size 640x480 with 1 Axes>"
      ]
     },
     "metadata": {},
     "output_type": "display_data"
    }
   ],
   "source": [
    "sns.boxplot(X_train[['Fare', 'Fare_median', 'Fare_mean']])\n",
    "plt.show()"
   ]
  },
  {
   "cell_type": "markdown",
   "id": "f77bb83c",
   "metadata": {},
   "source": [
    "## Using Sklearn"
   ]
  },
  {
   "cell_type": "code",
   "execution_count": 37,
   "id": "888adf3f",
   "metadata": {},
   "outputs": [],
   "source": [
    "X_train,X_test,y_train,y_test = train_test_split(X,y,test_size=0.2,random_state=42)"
   ]
  },
  {
   "cell_type": "code",
   "execution_count": 38,
   "id": "3ff20bcb",
   "metadata": {},
   "outputs": [],
   "source": [
    "mean_imputer = SimpleImputer(strategy='mean')\n",
    "median_imputer = SimpleImputer(strategy='median')"
   ]
  },
  {
   "cell_type": "code",
   "execution_count": 39,
   "id": "f6a8cd61",
   "metadata": {},
   "outputs": [],
   "source": [
    "transformer = ColumnTransformer([\n",
    "    ('mean_imputer', mean_imputer, ['Fare']),\n",
    "    ('median_imputer', median_imputer, ['Age'])\n",
    "], remainder='passthrough')"
   ]
  },
  {
   "cell_type": "code",
   "execution_count": 40,
   "id": "00a24042",
   "metadata": {},
   "outputs": [
    {
     "data": {
      "text/html": [
       "<style>#sk-container-id-2 {color: black;}#sk-container-id-2 pre{padding: 0;}#sk-container-id-2 div.sk-toggleable {background-color: white;}#sk-container-id-2 label.sk-toggleable__label {cursor: pointer;display: block;width: 100%;margin-bottom: 0;padding: 0.3em;box-sizing: border-box;text-align: center;}#sk-container-id-2 label.sk-toggleable__label-arrow:before {content: \"▸\";float: left;margin-right: 0.25em;color: #696969;}#sk-container-id-2 label.sk-toggleable__label-arrow:hover:before {color: black;}#sk-container-id-2 div.sk-estimator:hover label.sk-toggleable__label-arrow:before {color: black;}#sk-container-id-2 div.sk-toggleable__content {max-height: 0;max-width: 0;overflow: hidden;text-align: left;background-color: #f0f8ff;}#sk-container-id-2 div.sk-toggleable__content pre {margin: 0.2em;color: black;border-radius: 0.25em;background-color: #f0f8ff;}#sk-container-id-2 input.sk-toggleable__control:checked~div.sk-toggleable__content {max-height: 200px;max-width: 100%;overflow: auto;}#sk-container-id-2 input.sk-toggleable__control:checked~label.sk-toggleable__label-arrow:before {content: \"▾\";}#sk-container-id-2 div.sk-estimator input.sk-toggleable__control:checked~label.sk-toggleable__label {background-color: #d4ebff;}#sk-container-id-2 div.sk-label input.sk-toggleable__control:checked~label.sk-toggleable__label {background-color: #d4ebff;}#sk-container-id-2 input.sk-hidden--visually {border: 0;clip: rect(1px 1px 1px 1px);clip: rect(1px, 1px, 1px, 1px);height: 1px;margin: -1px;overflow: hidden;padding: 0;position: absolute;width: 1px;}#sk-container-id-2 div.sk-estimator {font-family: monospace;background-color: #f0f8ff;border: 1px dotted black;border-radius: 0.25em;box-sizing: border-box;margin-bottom: 0.5em;}#sk-container-id-2 div.sk-estimator:hover {background-color: #d4ebff;}#sk-container-id-2 div.sk-parallel-item::after {content: \"\";width: 100%;border-bottom: 1px solid gray;flex-grow: 1;}#sk-container-id-2 div.sk-label:hover label.sk-toggleable__label {background-color: #d4ebff;}#sk-container-id-2 div.sk-serial::before {content: \"\";position: absolute;border-left: 1px solid gray;box-sizing: border-box;top: 0;bottom: 0;left: 50%;z-index: 0;}#sk-container-id-2 div.sk-serial {display: flex;flex-direction: column;align-items: center;background-color: white;padding-right: 0.2em;padding-left: 0.2em;position: relative;}#sk-container-id-2 div.sk-item {position: relative;z-index: 1;}#sk-container-id-2 div.sk-parallel {display: flex;align-items: stretch;justify-content: center;background-color: white;position: relative;}#sk-container-id-2 div.sk-item::before, #sk-container-id-2 div.sk-parallel-item::before {content: \"\";position: absolute;border-left: 1px solid gray;box-sizing: border-box;top: 0;bottom: 0;left: 50%;z-index: -1;}#sk-container-id-2 div.sk-parallel-item {display: flex;flex-direction: column;z-index: 1;position: relative;background-color: white;}#sk-container-id-2 div.sk-parallel-item:first-child::after {align-self: flex-end;width: 50%;}#sk-container-id-2 div.sk-parallel-item:last-child::after {align-self: flex-start;width: 50%;}#sk-container-id-2 div.sk-parallel-item:only-child::after {width: 0;}#sk-container-id-2 div.sk-dashed-wrapped {border: 1px dashed gray;margin: 0 0.4em 0.5em 0.4em;box-sizing: border-box;padding-bottom: 0.4em;background-color: white;}#sk-container-id-2 div.sk-label label {font-family: monospace;font-weight: bold;display: inline-block;line-height: 1.2em;}#sk-container-id-2 div.sk-label-container {text-align: center;}#sk-container-id-2 div.sk-container {/* jupyter's `normalize.less` sets `[hidden] { display: none; }` but bootstrap.min.css set `[hidden] { display: none !important; }` so we also need the `!important` here to be able to override the default hidden behavior on the sphinx rendered scikit-learn.org. See: https://github.com/scikit-learn/scikit-learn/issues/21755 */display: inline-block !important;position: relative;}#sk-container-id-2 div.sk-text-repr-fallback {display: none;}</style><div id=\"sk-container-id-2\" class=\"sk-top-container\"><div class=\"sk-text-repr-fallback\"><pre>ColumnTransformer(remainder=&#x27;passthrough&#x27;,\n",
       "                  transformers=[(&#x27;mean_imputer&#x27;, SimpleImputer(), [&#x27;Fare&#x27;]),\n",
       "                                (&#x27;median_imputer&#x27;,\n",
       "                                 SimpleImputer(strategy=&#x27;median&#x27;), [&#x27;Age&#x27;])])</pre><b>In a Jupyter environment, please rerun this cell to show the HTML representation or trust the notebook. <br />On GitHub, the HTML representation is unable to render, please try loading this page with nbviewer.org.</b></div><div class=\"sk-container\" hidden><div class=\"sk-item sk-dashed-wrapped\"><div class=\"sk-label-container\"><div class=\"sk-label sk-toggleable\"><input class=\"sk-toggleable__control sk-hidden--visually\" id=\"sk-estimator-id-8\" type=\"checkbox\" ><label for=\"sk-estimator-id-8\" class=\"sk-toggleable__label sk-toggleable__label-arrow\">ColumnTransformer</label><div class=\"sk-toggleable__content\"><pre>ColumnTransformer(remainder=&#x27;passthrough&#x27;,\n",
       "                  transformers=[(&#x27;mean_imputer&#x27;, SimpleImputer(), [&#x27;Fare&#x27;]),\n",
       "                                (&#x27;median_imputer&#x27;,\n",
       "                                 SimpleImputer(strategy=&#x27;median&#x27;), [&#x27;Age&#x27;])])</pre></div></div></div><div class=\"sk-parallel\"><div class=\"sk-parallel-item\"><div class=\"sk-item\"><div class=\"sk-label-container\"><div class=\"sk-label sk-toggleable\"><input class=\"sk-toggleable__control sk-hidden--visually\" id=\"sk-estimator-id-9\" type=\"checkbox\" ><label for=\"sk-estimator-id-9\" class=\"sk-toggleable__label sk-toggleable__label-arrow\">mean_imputer</label><div class=\"sk-toggleable__content\"><pre>[&#x27;Fare&#x27;]</pre></div></div></div><div class=\"sk-serial\"><div class=\"sk-item\"><div class=\"sk-estimator sk-toggleable\"><input class=\"sk-toggleable__control sk-hidden--visually\" id=\"sk-estimator-id-10\" type=\"checkbox\" ><label for=\"sk-estimator-id-10\" class=\"sk-toggleable__label sk-toggleable__label-arrow\">SimpleImputer</label><div class=\"sk-toggleable__content\"><pre>SimpleImputer()</pre></div></div></div></div></div></div><div class=\"sk-parallel-item\"><div class=\"sk-item\"><div class=\"sk-label-container\"><div class=\"sk-label sk-toggleable\"><input class=\"sk-toggleable__control sk-hidden--visually\" id=\"sk-estimator-id-11\" type=\"checkbox\" ><label for=\"sk-estimator-id-11\" class=\"sk-toggleable__label sk-toggleable__label-arrow\">median_imputer</label><div class=\"sk-toggleable__content\"><pre>[&#x27;Age&#x27;]</pre></div></div></div><div class=\"sk-serial\"><div class=\"sk-item\"><div class=\"sk-estimator sk-toggleable\"><input class=\"sk-toggleable__control sk-hidden--visually\" id=\"sk-estimator-id-12\" type=\"checkbox\" ><label for=\"sk-estimator-id-12\" class=\"sk-toggleable__label sk-toggleable__label-arrow\">SimpleImputer</label><div class=\"sk-toggleable__content\"><pre>SimpleImputer(strategy=&#x27;median&#x27;)</pre></div></div></div></div></div></div><div class=\"sk-parallel-item\"><div class=\"sk-item\"><div class=\"sk-label-container\"><div class=\"sk-label sk-toggleable\"><input class=\"sk-toggleable__control sk-hidden--visually\" id=\"sk-estimator-id-13\" type=\"checkbox\" ><label for=\"sk-estimator-id-13\" class=\"sk-toggleable__label sk-toggleable__label-arrow\">remainder</label><div class=\"sk-toggleable__content\"><pre>[&#x27;Family&#x27;]</pre></div></div></div><div class=\"sk-serial\"><div class=\"sk-item\"><div class=\"sk-estimator sk-toggleable\"><input class=\"sk-toggleable__control sk-hidden--visually\" id=\"sk-estimator-id-14\" type=\"checkbox\" ><label for=\"sk-estimator-id-14\" class=\"sk-toggleable__label sk-toggleable__label-arrow\">passthrough</label><div class=\"sk-toggleable__content\"><pre>passthrough</pre></div></div></div></div></div></div></div></div></div></div>"
      ],
      "text/plain": [
       "ColumnTransformer(remainder='passthrough',\n",
       "                  transformers=[('mean_imputer', SimpleImputer(), ['Fare']),\n",
       "                                ('median_imputer',\n",
       "                                 SimpleImputer(strategy='median'), ['Age'])])"
      ]
     },
     "execution_count": 40,
     "metadata": {},
     "output_type": "execute_result"
    }
   ],
   "source": [
    "transformer.fit(X_train)"
   ]
  },
  {
   "cell_type": "code",
   "execution_count": 41,
   "id": "4eb372db",
   "metadata": {},
   "outputs": [
    {
     "data": {
      "text/plain": [
       "{'mean_imputer': SimpleImputer(),\n",
       " 'median_imputer': SimpleImputer(strategy='median'),\n",
       " 'remainder': 'passthrough'}"
      ]
     },
     "execution_count": 41,
     "metadata": {},
     "output_type": "execute_result"
    }
   ],
   "source": [
    "transformer.named_transformers_"
   ]
  },
  {
   "cell_type": "code",
   "execution_count": 42,
   "id": "a458fed5",
   "metadata": {},
   "outputs": [
    {
     "data": {
      "text/plain": [
       "array([32.51778772])"
      ]
     },
     "execution_count": 42,
     "metadata": {},
     "output_type": "execute_result"
    }
   ],
   "source": [
    "transformer.named_transformers_['mean_imputer'].statistics_"
   ]
  },
  {
   "cell_type": "code",
   "execution_count": 43,
   "id": "e6e39552",
   "metadata": {},
   "outputs": [
    {
     "data": {
      "text/plain": [
       "array([28.])"
      ]
     },
     "execution_count": 43,
     "metadata": {},
     "output_type": "execute_result"
    }
   ],
   "source": [
    "transformer.named_transformers_['median_imputer'].statistics_"
   ]
  },
  {
   "cell_type": "code",
   "execution_count": 44,
   "id": "2a770d6a",
   "metadata": {},
   "outputs": [],
   "source": [
    "X_train = transformer.transform(X_train)\n",
    "X_test = transformer.transform(X_test)"
   ]
  },
  {
   "cell_type": "code",
   "execution_count": 45,
   "id": "442f48fe",
   "metadata": {},
   "outputs": [
    {
     "data": {
      "text/plain": [
       "array([[ 28.5       ,  45.5       ,   0.        ],\n",
       "       [ 13.        ,  23.        ,   0.        ],\n",
       "       [  7.925     ,  32.        ,   0.        ],\n",
       "       ...,\n",
       "       [ 32.51778772,  41.        ,   2.        ],\n",
       "       [120.        ,  14.        ,   3.        ],\n",
       "       [ 77.2875    ,  21.        ,   1.        ]])"
      ]
     },
     "execution_count": 45,
     "metadata": {},
     "output_type": "execute_result"
    }
   ],
   "source": [
    "X_train"
   ]
  }
 ],
 "metadata": {
  "kernelspec": {
   "display_name": "Python 3 (ipykernel)",
   "language": "python",
   "name": "python3"
  },
  "language_info": {
   "codemirror_mode": {
    "name": "ipython",
    "version": 3
   },
   "file_extension": ".py",
   "mimetype": "text/x-python",
   "name": "python",
   "nbconvert_exporter": "python",
   "pygments_lexer": "ipython3",
   "version": "3.11.5"
  }
 },
 "nbformat": 4,
 "nbformat_minor": 5
}
