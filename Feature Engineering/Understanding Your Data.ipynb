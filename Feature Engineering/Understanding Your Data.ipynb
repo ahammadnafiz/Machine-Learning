{
 "cells": [
  {
   "cell_type": "code",
   "execution_count": 1,
   "id": "74dffae8",
   "metadata": {},
   "outputs": [],
   "source": [
    "import numpy as np\n",
    "import pandas as pd"
   ]
  },
  {
   "cell_type": "code",
   "execution_count": 2,
   "id": "74041d60",
   "metadata": {},
   "outputs": [],
   "source": [
    "df = pd.read_csv('Datasets/batighor_books_data_cleaned.csv')"
   ]
  },
  {
   "cell_type": "markdown",
   "id": "484e3e92",
   "metadata": {},
   "source": [
    "## What is the structure of the dataset?"
   ]
  },
  {
   "cell_type": "code",
   "execution_count": 13,
   "id": "2362e031",
   "metadata": {},
   "outputs": [
    {
     "name": "stdout",
     "output_type": "stream",
     "text": [
      "<class 'pandas.core.frame.DataFrame'>\n",
      "RangeIndex: 342 entries, 0 to 341\n",
      "Data columns (total 7 columns):\n",
      " #   Column             Non-Null Count  Dtype  \n",
      "---  ------             --------------  -----  \n",
      " 0   Title              342 non-null    object \n",
      " 1   Author             342 non-null    object \n",
      " 2   Total Ratings      298 non-null    float64\n",
      " 3   Original Price     342 non-null    float64\n",
      " 4   Discounted Price   342 non-null    float64\n",
      " 5   Category           342 non-null    object \n",
      " 6   Number of Reviews  308 non-null    object \n",
      "dtypes: float64(3), object(4)\n",
      "memory usage: 18.8+ KB\n"
     ]
    }
   ],
   "source": [
    "# What is the full structure of the dataset?\n",
    "df.info()"
   ]
  },
  {
   "cell_type": "code",
   "execution_count": 3,
   "id": "35bebdf0",
   "metadata": {},
   "outputs": [
    {
     "data": {
      "text/plain": [
       "(342, 7)"
      ]
     },
     "execution_count": 3,
     "metadata": {},
     "output_type": "execute_result"
    }
   ],
   "source": [
    "# How many rows and columns does the dataset have?\n",
    "df.shape"
   ]
  },
  {
   "cell_type": "code",
   "execution_count": 4,
   "id": "0d44cd4a",
   "metadata": {},
   "outputs": [
    {
     "data": {
      "text/plain": [
       "Index(['Title', 'Author', 'Total Ratings', 'Original Price',\n",
       "       'Discounted Price', 'Category', 'Number of Reviews'],\n",
       "      dtype='object')"
      ]
     },
     "execution_count": 4,
     "metadata": {},
     "output_type": "execute_result"
    }
   ],
   "source": [
    "# What are the column names?\n",
    "df.columns"
   ]
  },
  {
   "cell_type": "code",
   "execution_count": 5,
   "id": "8dc267aa",
   "metadata": {},
   "outputs": [
    {
     "data": {
      "text/plain": [
       "Title                 object\n",
       "Author                object\n",
       "Total Ratings        float64\n",
       "Original Price       float64\n",
       "Discounted Price     float64\n",
       "Category              object\n",
       "Number of Reviews     object\n",
       "dtype: object"
      ]
     },
     "execution_count": 5,
     "metadata": {},
     "output_type": "execute_result"
    }
   ],
   "source": [
    "# What are the data types of each column?\n",
    "df.dtypes"
   ]
  },
  {
   "cell_type": "code",
   "execution_count": 6,
   "id": "1d887661",
   "metadata": {},
   "outputs": [
    {
     "data": {
      "text/plain": [
       "RangeIndex(start=0, stop=342, step=1)"
      ]
     },
     "execution_count": 6,
     "metadata": {},
     "output_type": "execute_result"
    }
   ],
   "source": [
    "# What does the index look like?\n",
    "df.index"
   ]
  },
  {
   "cell_type": "markdown",
   "id": "8d941d96",
   "metadata": {},
   "source": [
    "## What does the data look like?"
   ]
  },
  {
   "cell_type": "code",
   "execution_count": 7,
   "id": "5eb42e9d",
   "metadata": {},
   "outputs": [
    {
     "data": {
      "text/html": [
       "<div>\n",
       "<style scoped>\n",
       "    .dataframe tbody tr th:only-of-type {\n",
       "        vertical-align: middle;\n",
       "    }\n",
       "\n",
       "    .dataframe tbody tr th {\n",
       "        vertical-align: top;\n",
       "    }\n",
       "\n",
       "    .dataframe thead th {\n",
       "        text-align: right;\n",
       "    }\n",
       "</style>\n",
       "<table border=\"1\" class=\"dataframe\">\n",
       "  <thead>\n",
       "    <tr style=\"text-align: right;\">\n",
       "      <th></th>\n",
       "      <th>Title</th>\n",
       "      <th>Author</th>\n",
       "      <th>Total Ratings</th>\n",
       "      <th>Original Price</th>\n",
       "      <th>Discounted Price</th>\n",
       "      <th>Category</th>\n",
       "      <th>Number of Reviews</th>\n",
       "    </tr>\n",
       "  </thead>\n",
       "  <tbody>\n",
       "    <tr>\n",
       "      <th>0</th>\n",
       "      <td>কসমোজাহি</td>\n",
       "      <td>মোহাম্মদ নাজিম উদ্দিন</td>\n",
       "      <td>9.0</td>\n",
       "      <td>380.0</td>\n",
       "      <td>298.0</td>\n",
       "      <td>থ্রিলার</td>\n",
       "      <td>5</td>\n",
       "    </tr>\n",
       "    <tr>\n",
       "      <th>1</th>\n",
       "      <td>কন্ট্রোল</td>\n",
       "      <td>মোহাম্মদ নাজিম উদ্দিন</td>\n",
       "      <td>11.0</td>\n",
       "      <td>650.0</td>\n",
       "      <td>510.0</td>\n",
       "      <td>রহস্য ও গোয়েন্দা</td>\n",
       "      <td>7</td>\n",
       "    </tr>\n",
       "    <tr>\n",
       "      <th>2</th>\n",
       "      <td>ম্যালিস</td>\n",
       "      <td>কেইগো হিগাশিনো</td>\n",
       "      <td>3.0</td>\n",
       "      <td>400.0</td>\n",
       "      <td>314.0</td>\n",
       "      <td>রহস্য, গোয়েন্দা, ভৌতিক, মিথ, থ্রিলার, ও অ্যাডভ...</td>\n",
       "      <td>4</td>\n",
       "    </tr>\n",
       "    <tr>\n",
       "      <th>3</th>\n",
       "      <td>উজিরে আজম</td>\n",
       "      <td>হাসান ইনাম</td>\n",
       "      <td>5.0</td>\n",
       "      <td>220.0</td>\n",
       "      <td>172.0</td>\n",
       "      <td>থ্রিলার</td>\n",
       "      <td>1</td>\n",
       "    </tr>\n",
       "    <tr>\n",
       "      <th>4</th>\n",
       "      <td>মৃত কৈটভ</td>\n",
       "      <td>সৌরভ চক্রবর্তী</td>\n",
       "      <td>NaN</td>\n",
       "      <td>350.0</td>\n",
       "      <td>274.0</td>\n",
       "      <td>অতিপ্রাকৃত ও ভৌতিক</td>\n",
       "      <td>NaN</td>\n",
       "    </tr>\n",
       "  </tbody>\n",
       "</table>\n",
       "</div>"
      ],
      "text/plain": [
       "       Title                 Author  Total Ratings  Original Price  \\\n",
       "0   কসমোজাহি  মোহাম্মদ নাজিম উদ্দিন            9.0           380.0   \n",
       "1   কন্ট্রোল  মোহাম্মদ নাজিম উদ্দিন           11.0           650.0   \n",
       "2    ম্যালিস         কেইগো হিগাশিনো            3.0           400.0   \n",
       "3  উজিরে আজম             হাসান ইনাম            5.0           220.0   \n",
       "4   মৃত কৈটভ         সৌরভ চক্রবর্তী            NaN           350.0   \n",
       "\n",
       "   Discounted Price                                           Category  \\\n",
       "0             298.0                                            থ্রিলার   \n",
       "1             510.0                                   রহস্য ও গোয়েন্দা   \n",
       "2             314.0  রহস্য, গোয়েন্দা, ভৌতিক, মিথ, থ্রিলার, ও অ্যাডভ...   \n",
       "3             172.0                                            থ্রিলার   \n",
       "4             274.0                                 অতিপ্রাকৃত ও ভৌতিক   \n",
       "\n",
       "  Number of Reviews  \n",
       "0                 5  \n",
       "1                 7  \n",
       "2                 4  \n",
       "3                 1  \n",
       "4               NaN  "
      ]
     },
     "execution_count": 7,
     "metadata": {},
     "output_type": "execute_result"
    }
   ],
   "source": [
    "# What do the first few rows of the dataset look like?\n",
    "df.head()"
   ]
  },
  {
   "cell_type": "code",
   "execution_count": 8,
   "id": "790c55c2",
   "metadata": {},
   "outputs": [
    {
     "data": {
      "text/html": [
       "<div>\n",
       "<style scoped>\n",
       "    .dataframe tbody tr th:only-of-type {\n",
       "        vertical-align: middle;\n",
       "    }\n",
       "\n",
       "    .dataframe tbody tr th {\n",
       "        vertical-align: top;\n",
       "    }\n",
       "\n",
       "    .dataframe thead th {\n",
       "        text-align: right;\n",
       "    }\n",
       "</style>\n",
       "<table border=\"1\" class=\"dataframe\">\n",
       "  <thead>\n",
       "    <tr style=\"text-align: right;\">\n",
       "      <th></th>\n",
       "      <th>Title</th>\n",
       "      <th>Author</th>\n",
       "      <th>Total Ratings</th>\n",
       "      <th>Original Price</th>\n",
       "      <th>Discounted Price</th>\n",
       "      <th>Category</th>\n",
       "      <th>Number of Reviews</th>\n",
       "    </tr>\n",
       "  </thead>\n",
       "  <tbody>\n",
       "    <tr>\n",
       "      <th>337</th>\n",
       "      <td>সন্ধ্যার মেঘের রঙ অন্ধকার হলে</td>\n",
       "      <td>পান্থ রহমান রেজা</td>\n",
       "      <td>NaN</td>\n",
       "      <td>80.0</td>\n",
       "      <td>56.0</td>\n",
       "      <td>সমকালীন গল্প</td>\n",
       "      <td>NaN</td>\n",
       "    </tr>\n",
       "    <tr>\n",
       "      <th>338</th>\n",
       "      <td>বৃষ্টির মেয়েটা ব্যাঙের ছেলেটা</td>\n",
       "      <td>ইমরুল ইউসুফ</td>\n",
       "      <td>NaN</td>\n",
       "      <td>120.0</td>\n",
       "      <td>84.0</td>\n",
       "      <td>বাংলা কবিতা</td>\n",
       "      <td>NaN</td>\n",
       "    </tr>\n",
       "    <tr>\n",
       "      <th>339</th>\n",
       "      <td>তোমার চুল আকাশে হেলান দিয়ে নক্ষত্র দেখে</td>\n",
       "      <td>ইমরুল ইউসুফ</td>\n",
       "      <td>NaN</td>\n",
       "      <td>60.0</td>\n",
       "      <td>42.0</td>\n",
       "      <td>বাংলা কবিতা</td>\n",
       "      <td>NaN</td>\n",
       "    </tr>\n",
       "    <tr>\n",
       "      <th>340</th>\n",
       "      <td>নাদা পথ চলে একা</td>\n",
       "      <td>ওমর ফারুক</td>\n",
       "      <td>NaN</td>\n",
       "      <td>80.0</td>\n",
       "      <td>56.0</td>\n",
       "      <td>বাংলা কবিতা</td>\n",
       "      <td>NaN</td>\n",
       "    </tr>\n",
       "    <tr>\n",
       "      <th>341</th>\n",
       "      <td>যযুধা</td>\n",
       "      <td>প্রিন্স আশরাফ</td>\n",
       "      <td>NaN</td>\n",
       "      <td>200.0</td>\n",
       "      <td>140.0</td>\n",
       "      <td>সমকালীন উপন্যাস</td>\n",
       "      <td>NaN</td>\n",
       "    </tr>\n",
       "  </tbody>\n",
       "</table>\n",
       "</div>"
      ],
      "text/plain": [
       "                                       Title            Author  Total Ratings  \\\n",
       "337            সন্ধ্যার মেঘের রঙ অন্ধকার হলে  পান্থ রহমান রেজা            NaN   \n",
       "338            বৃষ্টির মেয়েটা ব্যাঙের ছেলেটা       ইমরুল ইউসুফ            NaN   \n",
       "339  তোমার চুল আকাশে হেলান দিয়ে নক্ষত্র দেখে       ইমরুল ইউসুফ            NaN   \n",
       "340                          নাদা পথ চলে একা         ওমর ফারুক            NaN   \n",
       "341                                    যযুধা     প্রিন্স আশরাফ            NaN   \n",
       "\n",
       "     Original Price  Discounted Price         Category Number of Reviews  \n",
       "337            80.0              56.0     সমকালীন গল্প               NaN  \n",
       "338           120.0              84.0      বাংলা কবিতা               NaN  \n",
       "339            60.0              42.0      বাংলা কবিতা               NaN  \n",
       "340            80.0              56.0      বাংলা কবিতা               NaN  \n",
       "341           200.0             140.0  সমকালীন উপন্যাস               NaN  "
      ]
     },
     "execution_count": 8,
     "metadata": {},
     "output_type": "execute_result"
    }
   ],
   "source": [
    "# What do the last few rows of the dataset look like?\n",
    "df.tail()"
   ]
  },
  {
   "cell_type": "markdown",
   "id": "ef537e07",
   "metadata": {},
   "source": [
    "##  Are there any missing values?"
   ]
  },
  {
   "cell_type": "code",
   "execution_count": 9,
   "id": "d9be1081",
   "metadata": {},
   "outputs": [
    {
     "data": {
      "text/plain": [
       "Title                 0\n",
       "Author                0\n",
       "Total Ratings        44\n",
       "Original Price        0\n",
       "Discounted Price      0\n",
       "Category              0\n",
       "Number of Reviews    34\n",
       "dtype: int64"
      ]
     },
     "execution_count": 9,
     "metadata": {},
     "output_type": "execute_result"
    }
   ],
   "source": [
    "# How many missing values are there in each column?\n",
    "df.isnull().sum()"
   ]
  },
  {
   "cell_type": "code",
   "execution_count": 10,
   "id": "d89bddc0",
   "metadata": {},
   "outputs": [
    {
     "data": {
      "text/plain": [
       "Title                 0.000000\n",
       "Author                0.000000\n",
       "Total Ratings        12.865497\n",
       "Original Price        0.000000\n",
       "Discounted Price      0.000000\n",
       "Category              0.000000\n",
       "Number of Reviews     9.941520\n",
       "dtype: float64"
      ]
     },
     "execution_count": 10,
     "metadata": {},
     "output_type": "execute_result"
    }
   ],
   "source": [
    "# What percentage of the data is missing?\n",
    "(df.isnull().sum() / df.shape[0]) * 100"
   ]
  },
  {
   "cell_type": "markdown",
   "id": "d3b9820d",
   "metadata": {},
   "source": [
    "## What are the basic statistics of the dataset?"
   ]
  },
  {
   "cell_type": "code",
   "execution_count": 11,
   "id": "af93b2a0",
   "metadata": {
    "scrolled": true
   },
   "outputs": [
    {
     "data": {
      "text/html": [
       "<div>\n",
       "<style scoped>\n",
       "    .dataframe tbody tr th:only-of-type {\n",
       "        vertical-align: middle;\n",
       "    }\n",
       "\n",
       "    .dataframe tbody tr th {\n",
       "        vertical-align: top;\n",
       "    }\n",
       "\n",
       "    .dataframe thead th {\n",
       "        text-align: right;\n",
       "    }\n",
       "</style>\n",
       "<table border=\"1\" class=\"dataframe\">\n",
       "  <thead>\n",
       "    <tr style=\"text-align: right;\">\n",
       "      <th></th>\n",
       "      <th>Total Ratings</th>\n",
       "      <th>Original Price</th>\n",
       "      <th>Discounted Price</th>\n",
       "    </tr>\n",
       "  </thead>\n",
       "  <tbody>\n",
       "    <tr>\n",
       "      <th>count</th>\n",
       "      <td>298.000000</td>\n",
       "      <td>342.000000</td>\n",
       "      <td>342.000000</td>\n",
       "    </tr>\n",
       "    <tr>\n",
       "      <th>mean</th>\n",
       "      <td>24.090604</td>\n",
       "      <td>347.865497</td>\n",
       "      <td>265.754386</td>\n",
       "    </tr>\n",
       "    <tr>\n",
       "      <th>std</th>\n",
       "      <td>52.584149</td>\n",
       "      <td>321.840117</td>\n",
       "      <td>241.536391</td>\n",
       "    </tr>\n",
       "    <tr>\n",
       "      <th>min</th>\n",
       "      <td>1.000000</td>\n",
       "      <td>60.000000</td>\n",
       "      <td>42.000000</td>\n",
       "    </tr>\n",
       "    <tr>\n",
       "      <th>25%</th>\n",
       "      <td>4.250000</td>\n",
       "      <td>200.000000</td>\n",
       "      <td>157.000000</td>\n",
       "    </tr>\n",
       "    <tr>\n",
       "      <th>50%</th>\n",
       "      <td>9.000000</td>\n",
       "      <td>280.000000</td>\n",
       "      <td>210.000000</td>\n",
       "    </tr>\n",
       "    <tr>\n",
       "      <th>75%</th>\n",
       "      <td>18.000000</td>\n",
       "      <td>400.000000</td>\n",
       "      <td>314.000000</td>\n",
       "    </tr>\n",
       "    <tr>\n",
       "      <th>max</th>\n",
       "      <td>487.000000</td>\n",
       "      <td>3850.000000</td>\n",
       "      <td>3010.000000</td>\n",
       "    </tr>\n",
       "  </tbody>\n",
       "</table>\n",
       "</div>"
      ],
      "text/plain": [
       "       Total Ratings  Original Price  Discounted Price\n",
       "count     298.000000      342.000000        342.000000\n",
       "mean       24.090604      347.865497        265.754386\n",
       "std        52.584149      321.840117        241.536391\n",
       "min         1.000000       60.000000         42.000000\n",
       "25%         4.250000      200.000000        157.000000\n",
       "50%         9.000000      280.000000        210.000000\n",
       "75%        18.000000      400.000000        314.000000\n",
       "max       487.000000     3850.000000       3010.000000"
      ]
     },
     "execution_count": 11,
     "metadata": {},
     "output_type": "execute_result"
    }
   ],
   "source": [
    "# What are the summary statistics (mean, median, etc.) of the numerical columns?\n",
    "df.describe()"
   ]
  },
  {
   "cell_type": "markdown",
   "id": "aa6c30bb",
   "metadata": {},
   "source": [
    "## How is the data distributed?"
   ]
  },
  {
   "cell_type": "code",
   "execution_count": 14,
   "id": "7010c75b",
   "metadata": {},
   "outputs": [
    {
     "data": {
      "text/plain": [
       "Category\n",
       "থ্রিলার                                                                  110\n",
       "রহস্য, গোয়েন্দা, ভৌতিক, মিথ, থ্রিলার, ও অ্যাডভেঞ্চার: অনুবাদ ও ইংরেজি     74\n",
       "সমকালীন উপন্যাস                                                           29\n",
       "অনুবাদ উপন্যাস                                                            16\n",
       "থ্রিলার ও অ্যাডভেঞ্চার উপন্যাস                                            14\n",
       "রহস্য ও গোয়েন্দা                                                          14\n",
       "সায়েন্স ফিকশন                                                             13\n",
       "অতিপ্রাকৃত ও ভৌতিক                                                        11\n",
       "বাংলা কবিতা                                                                9\n",
       "শিশু-কিশোর: রহস্য, গোয়েন্দা, ভৌতিক, থ্রিলার ও অ্যাডভেঞ্চার                 6\n",
       "রহস্য,গোয়েন্দা,ভৌতিক ও থ্রিলার কালেকশন                                     5\n",
       "প্যারাসাইকোলজিকাল উপন্যাস                                                  4\n",
       "অনুবাদ সায়েন্স ফিকশন                                                       4\n",
       "সমকালীন গল্প                                                               4\n",
       "অতিপ্রাকৃত ও ভৌতিক উপন্যাস                                                 3\n",
       "রহস্য, ভৌতিক, থ্রিলার ও অ্যাডভেঞ্চার সমগ্র/সংকলন                           3\n",
       "সাহিত্য সমালোচনা বিষয়ক প্রবন্ধ                                             2\n",
       "বয়স যখন ১২-১৭: উপন্যাস                                                     2\n",
       "জীবনী ও স্মৃতিচারণ: বিবিধ                                                  2\n",
       "অনুবাদ গল্প                                                                2\n",
       "উপন্যাস কালেকশন                                                            2\n",
       "মহাকাশ বিজ্ঞান ও জ্যোতির্বিদ্যা                                            1\n",
       "শিশু-কিশোর: সায়েন্স ফিকশন                                                  1\n",
       "সাহিত্য ম্যাগাজিন: বিশেষ সংস্করণ                                           1\n",
       "মুক্তিযুদ্ধের উপন্যাস                                                      1\n",
       "আমেরিকা ভ্রমণ                                                              1\n",
       "থ্রিলার ও অ্যাডভেঞ্চার গল্প                                                1\n",
       "পেশাগত স্মৃতিচারণ ও অভিজ্ঞতা                                               1\n",
       "রহস্য ও গোয়েন্দা উপন্যাস                                                  1\n",
       "স্বাস্থ্যবিধি ও পরামর্শ                                                    1\n",
       "গল্প সমগ্র                                                                 1\n",
       "বিবিধ বিষয়ক বই                                                             1\n",
       "অনুবাদ কবিতা                                                               1\n",
       "রোমান্টিক উপন্যাস                                                          1\n",
       "Name: count, dtype: int64"
      ]
     },
     "execution_count": 14,
     "metadata": {},
     "output_type": "execute_result"
    }
   ],
   "source": [
    "# What is the distribution of values in a particular column?\n",
    "df['Category'].value_counts()"
   ]
  },
  {
   "cell_type": "code",
   "execution_count": 15,
   "id": "e62aea94",
   "metadata": {},
   "outputs": [
    {
     "data": {
      "text/plain": [
       "<Axes: >"
      ]
     },
     "execution_count": 15,
     "metadata": {},
     "output_type": "execute_result"
    },
    {
     "data": {
      "image/png": "[encoded data removed]",
      "text/plain": [
       "<Figure size 640x480 with 1 Axes>"
      ]
     },
     "metadata": {},
     "output_type": "display_data"
    }
   ],
   "source": [
    "# What is the histogram of a numerical column?\n",
    "df['Total Ratings'].hist()"
   ]
  },
  {
   "cell_type": "code",
   "execution_count": 17,
   "id": "88fd2177",
   "metadata": {},
   "outputs": [
    {
     "data": {
      "text/plain": [
       "array(['থ্রিলার', 'রহস্য ও গোয়েন্দা',\n",
       "       'রহস্য, গোয়েন্দা, ভৌতিক, মিথ, থ্রিলার, ও অ্যাডভেঞ্চার: অনুবাদ ও ইংরেজি',\n",
       "       'অতিপ্রাকৃত ও ভৌতিক', 'প্যারাসাইকোলজিকাল উপন্যাস',\n",
       "       'রহস্য,গোয়েন্দা,ভৌতিক ও থ্রিলার কালেকশন', 'উপন্যাস কালেকশন',\n",
       "       'অনুবাদ গল্প', 'অতিপ্রাকৃত ও ভৌতিক উপন্যাস', 'অনুবাদ উপন্যাস',\n",
       "       'সমকালীন উপন্যাস', 'অনুবাদ সায়েন্স ফিকশন', 'সায়েন্স ফিকশন',\n",
       "       'সাহিত্য ম্যাগাজিন: বিশেষ সংস্করণ',\n",
       "       'মহাকাশ বিজ্ঞান ও জ্যোতির্বিদ্যা', 'সমকালীন গল্প',\n",
       "       'থ্রিলার ও অ্যাডভেঞ্চার উপন্যাস', 'জীবনী ও স্মৃতিচারণ: বিবিধ',\n",
       "       'শিশু-কিশোর: রহস্য, গোয়েন্দা, ভৌতিক, থ্রিলার ও অ্যাডভেঞ্চার',\n",
       "       'বয়স যখন ১২-১৭: উপন্যাস', 'শিশু-কিশোর: সায়েন্স ফিকশন',\n",
       "       'রহস্য, ভৌতিক, থ্রিলার ও অ্যাডভেঞ্চার সমগ্র/সংকলন',\n",
       "       'মুক্তিযুদ্ধের উপন্যাস', 'আমেরিকা ভ্রমণ', 'বাংলা কবিতা',\n",
       "       'থ্রিলার ও অ্যাডভেঞ্চার গল্প', 'পেশাগত স্মৃতিচারণ ও অভিজ্ঞতা',\n",
       "       'রহস্য ও গোয়েন্দা উপন্যাস', 'স্বাস্থ্যবিধি ও পরামর্শ',\n",
       "       'গল্প সমগ্র', 'বিবিধ বিষয়ক বই', 'সাহিত্য সমালোচনা বিষয়ক প্রবন্ধ',\n",
       "       'অনুবাদ কবিতা', 'রোমান্টিক উপন্যাস'], dtype=object)"
      ]
     },
     "execution_count": 17,
     "metadata": {},
     "output_type": "execute_result"
    }
   ],
   "source": [
    "# What are the unique values in a column?\n",
    "df['Category'].unique()"
   ]
  },
  {
   "cell_type": "code",
   "execution_count": 18,
   "id": "68bca67d",
   "metadata": {},
   "outputs": [
    {
     "data": {
      "text/plain": [
       "Title                341\n",
       "Author               138\n",
       "Total Ratings         69\n",
       "Original Price        54\n",
       "Discounted Price      81\n",
       "Category              34\n",
       "Number of Reviews     57\n",
       "dtype: int64"
      ]
     },
     "execution_count": 18,
     "metadata": {},
     "output_type": "execute_result"
    }
   ],
   "source": [
    "# How many unique values are there in each column?\n",
    "df.nunique()"
   ]
  },
  {
   "cell_type": "markdown",
   "id": "f2c71867",
   "metadata": {},
   "source": [
    "## Are there any duplicates?"
   ]
  },
  {
   "cell_type": "code",
   "execution_count": 19,
   "id": "44974da3",
   "metadata": {},
   "outputs": [
    {
     "data": {
      "text/plain": [
       "0"
      ]
     },
     "execution_count": 19,
     "metadata": {},
     "output_type": "execute_result"
    }
   ],
   "source": [
    "# Are there any duplicate rows in the dataset?\n",
    "df.duplicated().sum()"
   ]
  },
  {
   "cell_type": "code",
   "execution_count": 20,
   "id": "ccd385c9",
   "metadata": {},
   "outputs": [
    {
     "data": {
      "text/html": [
       "<div>\n",
       "<style scoped>\n",
       "    .dataframe tbody tr th:only-of-type {\n",
       "        vertical-align: middle;\n",
       "    }\n",
       "\n",
       "    .dataframe tbody tr th {\n",
       "        vertical-align: top;\n",
       "    }\n",
       "\n",
       "    .dataframe thead th {\n",
       "        text-align: right;\n",
       "    }\n",
       "</style>\n",
       "<table border=\"1\" class=\"dataframe\">\n",
       "  <thead>\n",
       "    <tr style=\"text-align: right;\">\n",
       "      <th></th>\n",
       "      <th>Title</th>\n",
       "      <th>Author</th>\n",
       "      <th>Total Ratings</th>\n",
       "      <th>Original Price</th>\n",
       "      <th>Discounted Price</th>\n",
       "      <th>Category</th>\n",
       "      <th>Number of Reviews</th>\n",
       "    </tr>\n",
       "  </thead>\n",
       "  <tbody>\n",
       "    <tr>\n",
       "      <th>0</th>\n",
       "      <td>কসমোজাহি</td>\n",
       "      <td>মোহাম্মদ নাজিম উদ্দিন</td>\n",
       "      <td>9.0</td>\n",
       "      <td>380.0</td>\n",
       "      <td>298.0</td>\n",
       "      <td>থ্রিলার</td>\n",
       "      <td>5</td>\n",
       "    </tr>\n",
       "    <tr>\n",
       "      <th>1</th>\n",
       "      <td>কন্ট্রোল</td>\n",
       "      <td>মোহাম্মদ নাজিম উদ্দিন</td>\n",
       "      <td>11.0</td>\n",
       "      <td>650.0</td>\n",
       "      <td>510.0</td>\n",
       "      <td>রহস্য ও গোয়েন্দা</td>\n",
       "      <td>7</td>\n",
       "    </tr>\n",
       "    <tr>\n",
       "      <th>2</th>\n",
       "      <td>ম্যালিস</td>\n",
       "      <td>কেইগো হিগাশিনো</td>\n",
       "      <td>3.0</td>\n",
       "      <td>400.0</td>\n",
       "      <td>314.0</td>\n",
       "      <td>রহস্য, গোয়েন্দা, ভৌতিক, মিথ, থ্রিলার, ও অ্যাডভ...</td>\n",
       "      <td>4</td>\n",
       "    </tr>\n",
       "    <tr>\n",
       "      <th>3</th>\n",
       "      <td>উজিরে আজম</td>\n",
       "      <td>হাসান ইনাম</td>\n",
       "      <td>5.0</td>\n",
       "      <td>220.0</td>\n",
       "      <td>172.0</td>\n",
       "      <td>থ্রিলার</td>\n",
       "      <td>1</td>\n",
       "    </tr>\n",
       "    <tr>\n",
       "      <th>4</th>\n",
       "      <td>মৃত কৈটভ</td>\n",
       "      <td>সৌরভ চক্রবর্তী</td>\n",
       "      <td>NaN</td>\n",
       "      <td>350.0</td>\n",
       "      <td>274.0</td>\n",
       "      <td>অতিপ্রাকৃত ও ভৌতিক</td>\n",
       "      <td>NaN</td>\n",
       "    </tr>\n",
       "    <tr>\n",
       "      <th>...</th>\n",
       "      <td>...</td>\n",
       "      <td>...</td>\n",
       "      <td>...</td>\n",
       "      <td>...</td>\n",
       "      <td>...</td>\n",
       "      <td>...</td>\n",
       "      <td>...</td>\n",
       "    </tr>\n",
       "    <tr>\n",
       "      <th>337</th>\n",
       "      <td>সন্ধ্যার মেঘের রঙ অন্ধকার হলে</td>\n",
       "      <td>পান্থ রহমান রেজা</td>\n",
       "      <td>NaN</td>\n",
       "      <td>80.0</td>\n",
       "      <td>56.0</td>\n",
       "      <td>সমকালীন গল্প</td>\n",
       "      <td>NaN</td>\n",
       "    </tr>\n",
       "    <tr>\n",
       "      <th>338</th>\n",
       "      <td>বৃষ্টির মেয়েটা ব্যাঙের ছেলেটা</td>\n",
       "      <td>ইমরুল ইউসুফ</td>\n",
       "      <td>NaN</td>\n",
       "      <td>120.0</td>\n",
       "      <td>84.0</td>\n",
       "      <td>বাংলা কবিতা</td>\n",
       "      <td>NaN</td>\n",
       "    </tr>\n",
       "    <tr>\n",
       "      <th>339</th>\n",
       "      <td>তোমার চুল আকাশে হেলান দিয়ে নক্ষত্র দেখে</td>\n",
       "      <td>ইমরুল ইউসুফ</td>\n",
       "      <td>NaN</td>\n",
       "      <td>60.0</td>\n",
       "      <td>42.0</td>\n",
       "      <td>বাংলা কবিতা</td>\n",
       "      <td>NaN</td>\n",
       "    </tr>\n",
       "    <tr>\n",
       "      <th>340</th>\n",
       "      <td>নাদা পথ চলে একা</td>\n",
       "      <td>ওমর ফারুক</td>\n",
       "      <td>NaN</td>\n",
       "      <td>80.0</td>\n",
       "      <td>56.0</td>\n",
       "      <td>বাংলা কবিতা</td>\n",
       "      <td>NaN</td>\n",
       "    </tr>\n",
       "    <tr>\n",
       "      <th>341</th>\n",
       "      <td>যযুধা</td>\n",
       "      <td>প্রিন্স আশরাফ</td>\n",
       "      <td>NaN</td>\n",
       "      <td>200.0</td>\n",
       "      <td>140.0</td>\n",
       "      <td>সমকালীন উপন্যাস</td>\n",
       "      <td>NaN</td>\n",
       "    </tr>\n",
       "  </tbody>\n",
       "</table>\n",
       "<p>342 rows × 7 columns</p>\n",
       "</div>"
      ],
      "text/plain": [
       "                                       Title                 Author  \\\n",
       "0                                   কসমোজাহি  মোহাম্মদ নাজিম উদ্দিন   \n",
       "1                                   কন্ট্রোল  মোহাম্মদ নাজিম উদ্দিন   \n",
       "2                                    ম্যালিস         কেইগো হিগাশিনো   \n",
       "3                                  উজিরে আজম             হাসান ইনাম   \n",
       "4                                   মৃত কৈটভ         সৌরভ চক্রবর্তী   \n",
       "..                                       ...                    ...   \n",
       "337            সন্ধ্যার মেঘের রঙ অন্ধকার হলে       পান্থ রহমান রেজা   \n",
       "338            বৃষ্টির মেয়েটা ব্যাঙের ছেলেটা            ইমরুল ইউসুফ   \n",
       "339  তোমার চুল আকাশে হেলান দিয়ে নক্ষত্র দেখে            ইমরুল ইউসুফ   \n",
       "340                          নাদা পথ চলে একা              ওমর ফারুক   \n",
       "341                                    যযুধা          প্রিন্স আশরাফ   \n",
       "\n",
       "     Total Ratings  Original Price  Discounted Price  \\\n",
       "0              9.0           380.0             298.0   \n",
       "1             11.0           650.0             510.0   \n",
       "2              3.0           400.0             314.0   \n",
       "3              5.0           220.0             172.0   \n",
       "4              NaN           350.0             274.0   \n",
       "..             ...             ...               ...   \n",
       "337            NaN            80.0              56.0   \n",
       "338            NaN           120.0              84.0   \n",
       "339            NaN            60.0              42.0   \n",
       "340            NaN            80.0              56.0   \n",
       "341            NaN           200.0             140.0   \n",
       "\n",
       "                                              Category Number of Reviews  \n",
       "0                                              থ্রিলার                 5  \n",
       "1                                     রহস্য ও গোয়েন্দা                 7  \n",
       "2    রহস্য, গোয়েন্দা, ভৌতিক, মিথ, থ্রিলার, ও অ্যাডভ...                 4  \n",
       "3                                              থ্রিলার                 1  \n",
       "4                                   অতিপ্রাকৃত ও ভৌতিক               NaN  \n",
       "..                                                 ...               ...  \n",
       "337                                       সমকালীন গল্প               NaN  \n",
       "338                                        বাংলা কবিতা               NaN  \n",
       "339                                        বাংলা কবিতা               NaN  \n",
       "340                                        বাংলা কবিতা               NaN  \n",
       "341                                    সমকালীন উপন্যাস               NaN  \n",
       "\n",
       "[342 rows x 7 columns]"
      ]
     },
     "execution_count": 20,
     "metadata": {},
     "output_type": "execute_result"
    }
   ],
   "source": [
    "# How can I remove duplicate rows?\n",
    "df.drop_duplicates()"
   ]
  },
  {
   "cell_type": "markdown",
   "id": "c38f72c2",
   "metadata": {},
   "source": [
    "## How are different columns related?"
   ]
  },
  {
   "cell_type": "code",
   "execution_count": 22,
   "id": "9bf9a6f2",
   "metadata": {},
   "outputs": [
    {
     "data": {
      "text/html": [
       "<div>\n",
       "<style scoped>\n",
       "    .dataframe tbody tr th:only-of-type {\n",
       "        vertical-align: middle;\n",
       "    }\n",
       "\n",
       "    .dataframe tbody tr th {\n",
       "        vertical-align: top;\n",
       "    }\n",
       "\n",
       "    .dataframe thead th {\n",
       "        text-align: right;\n",
       "    }\n",
       "</style>\n",
       "<table border=\"1\" class=\"dataframe\">\n",
       "  <thead>\n",
       "    <tr style=\"text-align: right;\">\n",
       "      <th></th>\n",
       "      <th>Total Ratings</th>\n",
       "      <th>Original Price</th>\n",
       "      <th>Discounted Price</th>\n",
       "    </tr>\n",
       "  </thead>\n",
       "  <tbody>\n",
       "    <tr>\n",
       "      <th>Total Ratings</th>\n",
       "      <td>1.000000</td>\n",
       "      <td>0.135049</td>\n",
       "      <td>0.151958</td>\n",
       "    </tr>\n",
       "    <tr>\n",
       "      <th>Original Price</th>\n",
       "      <td>0.135049</td>\n",
       "      <td>1.000000</td>\n",
       "      <td>0.996876</td>\n",
       "    </tr>\n",
       "    <tr>\n",
       "      <th>Discounted Price</th>\n",
       "      <td>0.151958</td>\n",
       "      <td>0.996876</td>\n",
       "      <td>1.000000</td>\n",
       "    </tr>\n",
       "  </tbody>\n",
       "</table>\n",
       "</div>"
      ],
      "text/plain": [
       "                  Total Ratings  Original Price  Discounted Price\n",
       "Total Ratings          1.000000        0.135049          0.151958\n",
       "Original Price         0.135049        1.000000          0.996876\n",
       "Discounted Price       0.151958        0.996876          1.000000"
      ]
     },
     "execution_count": 22,
     "metadata": {},
     "output_type": "execute_result"
    }
   ],
   "source": [
    "# What is the correlation between numerical columns?\n",
    "numerical_df = df.select_dtypes(include=['number'])\n",
    "correlation_matrix = numerical_df.corr()\n",
    "correlation_matrix"
   ]
  },
  {
   "cell_type": "code",
   "execution_count": 23,
   "id": "7f7d270f",
   "metadata": {},
   "outputs": [
    {
     "data": {
      "text/html": [
       "<style type=\"text/css\">\n",
       "#T_10c44_row0_col0, #T_10c44_row1_col1, #T_10c44_row1_col2, #T_10c44_row2_col1, #T_10c44_row2_col2 {\n",
       "  background-color: #b40426;\n",
       "  color: #f1f1f1;\n",
       "}\n",
       "#T_10c44_row0_col1, #T_10c44_row0_col2, #T_10c44_row1_col0 {\n",
       "  background-color: #3b4cc0;\n",
       "  color: #f1f1f1;\n",
       "}\n",
       "#T_10c44_row2_col0 {\n",
       "  background-color: #4055c8;\n",
       "  color: #f1f1f1;\n",
       "}\n",
       "</style>\n",
       "<table id=\"T_10c44\">\n",
       "  <thead>\n",
       "    <tr>\n",
       "      <th class=\"blank level0\" >&nbsp;</th>\n",
       "      <th id=\"T_10c44_level0_col0\" class=\"col_heading level0 col0\" >Total Ratings</th>\n",
       "      <th id=\"T_10c44_level0_col1\" class=\"col_heading level0 col1\" >Original Price</th>\n",
       "      <th id=\"T_10c44_level0_col2\" class=\"col_heading level0 col2\" >Discounted Price</th>\n",
       "    </tr>\n",
       "  </thead>\n",
       "  <tbody>\n",
       "    <tr>\n",
       "      <th id=\"T_10c44_level0_row0\" class=\"row_heading level0 row0\" >Total Ratings</th>\n",
       "      <td id=\"T_10c44_row0_col0\" class=\"data row0 col0\" >1.000000</td>\n",
       "      <td id=\"T_10c44_row0_col1\" class=\"data row0 col1\" >0.135049</td>\n",
       "      <td id=\"T_10c44_row0_col2\" class=\"data row0 col2\" >0.151958</td>\n",
       "    </tr>\n",
       "    <tr>\n",
       "      <th id=\"T_10c44_level0_row1\" class=\"row_heading level0 row1\" >Original Price</th>\n",
       "      <td id=\"T_10c44_row1_col0\" class=\"data row1 col0\" >0.135049</td>\n",
       "      <td id=\"T_10c44_row1_col1\" class=\"data row1 col1\" >1.000000</td>\n",
       "      <td id=\"T_10c44_row1_col2\" class=\"data row1 col2\" >0.996876</td>\n",
       "    </tr>\n",
       "    <tr>\n",
       "      <th id=\"T_10c44_level0_row2\" class=\"row_heading level0 row2\" >Discounted Price</th>\n",
       "      <td id=\"T_10c44_row2_col0\" class=\"data row2 col0\" >0.151958</td>\n",
       "      <td id=\"T_10c44_row2_col1\" class=\"data row2 col1\" >0.996876</td>\n",
       "      <td id=\"T_10c44_row2_col2\" class=\"data row2 col2\" >1.000000</td>\n",
       "    </tr>\n",
       "  </tbody>\n",
       "</table>\n"
      ],
      "text/plain": [
       "<pandas.io.formats.style.Styler at 0x1f917ea0310>"
      ]
     },
     "execution_count": 23,
     "metadata": {},
     "output_type": "execute_result"
    }
   ],
   "source": [
    "# How can I visualize the correlation matrix?\n",
    "correlation_matrix.style.background_gradient(cmap='coolwarm')"
   ]
  }
 ],
 "metadata": {
  "kernelspec": {
   "display_name": "Python 3 (ipykernel)",
   "language": "python",
   "name": "python3"
  },
  "language_info": {
   "codemirror_mode": {
    "name": "ipython",
    "version": 3
   },
   "file_extension": ".py",
   "mimetype": "text/x-python",
   "name": "python",
   "nbconvert_exporter": "python",
   "pygments_lexer": "ipython3",
   "version": "3.11.5"
  }
 },
 "nbformat": 4,
 "nbformat_minor": 5
}
