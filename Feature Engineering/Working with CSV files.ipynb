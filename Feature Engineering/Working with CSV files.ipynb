{
 "cells": [
  {
   "cell_type": "code",
   "execution_count": 1,
   "id": "007bbcdc",
   "metadata": {},
   "outputs": [],
   "source": [
    "import pandas as pd"
   ]
  },
  {
   "cell_type": "code",
   "execution_count": 2,
   "id": "dae67eef",
   "metadata": {},
   "outputs": [],
   "source": [
    "df = pd.read_csv('Datasets/aug_train.csv')"
   ]
  },
  {
   "cell_type": "markdown",
   "id": "997deb9d",
   "metadata": {},
   "source": [
    "## Opening a csv file from an URL"
   ]
  },
  {
   "cell_type": "code",
   "execution_count": 4,
   "id": "3b976515",
   "metadata": {},
   "outputs": [],
   "source": [
    "import requests\n",
    "from io import StringIO\n",
    "from requests.exceptions import HTTPError, Timeout, RequestException\n",
    "\n",
    "def load_csv_from_url(url, delimiter=',', encoding='utf-8', timeout=10, headers=None):\n",
    "    \"\"\"\n",
    "    Load a CSV file from a URL into a Pandas DataFrame with robust error handling.\n",
    "\n",
    "    Parameters:\n",
    "    - url: str, the URL to the CSV file.\n",
    "    - delimiter: str, the delimiter used in the CSV file (default is comma).\n",
    "    - encoding: str, the encoding of the CSV file (default is 'utf-8').\n",
    "    - timeout: int, the time (in seconds) to wait for a response from the server (default is 10).\n",
    "    - headers: dict, HTTP headers to include with the request (default is None).\n",
    "\n",
    "    Returns:\n",
    "    - df: DataFrame, the loaded DataFrame, or None if an error occurred.\n",
    "    \"\"\"\n",
    "    try:\n",
    "        # Set a default User-Agent header if none is provided\n",
    "        if headers is None:\n",
    "            headers = {\"User-Agent\": \"Mozilla/5.0 (Windows NT 10.0; Win64; x64) AppleWebKit/537.36 (KHTML, like Gecko) Chrome/91.0.4472.124 Safari/537.36\"}\n",
    "\n",
    "        # Attempt to retrieve the CSV file from the URL\n",
    "        response = requests.get(url, headers=headers, timeout=timeout)\n",
    "        response.raise_for_status()  # Check for HTTP errors\n",
    "\n",
    "        # Convert the response text into a file-like object\n",
    "        data = StringIO(response.text)\n",
    "\n",
    "        # Attempt to load the CSV into a DataFrame\n",
    "        df = pd.read_csv(data, delimiter=delimiter, encoding=encoding)\n",
    "\n",
    "        print(f\"Successfully loaded CSV from {url}\")\n",
    "        return df\n",
    "\n",
    "    except HTTPError as http_err:\n",
    "        print(f\"HTTP error occurred: {http_err}\")\n",
    "    except Timeout as timeout_err:\n",
    "        print(f\"Request timed out: {timeout_err}\")\n",
    "    except pd.errors.ParserError as parse_err:\n",
    "        print(f\"Error parsing CSV: {parse_err}. Check if the delimiter '{delimiter}' or encoding '{encoding}' is correct.\")\n",
    "    except pd.errors.EmptyDataError:\n",
    "        print(\"No data: The file is empty or all data is NaN.\")\n",
    "    except RequestException as req_err:\n",
    "        print(f\"Error during requests to {url}: {req_err}\")\n",
    "    except Exception as err:\n",
    "        print(f\"An unexpected error occurred: {err}\")\n",
    "\n",
    "    return None"
   ]
  },
  {
   "cell_type": "code",
   "execution_count": 6,
   "id": "b8aca20e",
   "metadata": {},
   "outputs": [
    {
     "name": "stdout",
     "output_type": "stream",
     "text": [
      "Successfully loaded CSV from https://raw.githubusercontent.com/cs109/2014_data/master/countries.csv\n"
     ]
    },
    {
     "data": {
      "text/html": [
       "<div>\n",
       "<style scoped>\n",
       "    .dataframe tbody tr th:only-of-type {\n",
       "        vertical-align: middle;\n",
       "    }\n",
       "\n",
       "    .dataframe tbody tr th {\n",
       "        vertical-align: top;\n",
       "    }\n",
       "\n",
       "    .dataframe thead th {\n",
       "        text-align: right;\n",
       "    }\n",
       "</style>\n",
       "<table border=\"1\" class=\"dataframe\">\n",
       "  <thead>\n",
       "    <tr style=\"text-align: right;\">\n",
       "      <th></th>\n",
       "      <th>Country</th>\n",
       "      <th>Region</th>\n",
       "    </tr>\n",
       "  </thead>\n",
       "  <tbody>\n",
       "    <tr>\n",
       "      <th>0</th>\n",
       "      <td>Algeria</td>\n",
       "      <td>AFRICA</td>\n",
       "    </tr>\n",
       "    <tr>\n",
       "      <th>1</th>\n",
       "      <td>Angola</td>\n",
       "      <td>AFRICA</td>\n",
       "    </tr>\n",
       "    <tr>\n",
       "      <th>2</th>\n",
       "      <td>Benin</td>\n",
       "      <td>AFRICA</td>\n",
       "    </tr>\n",
       "    <tr>\n",
       "      <th>3</th>\n",
       "      <td>Botswana</td>\n",
       "      <td>AFRICA</td>\n",
       "    </tr>\n",
       "    <tr>\n",
       "      <th>4</th>\n",
       "      <td>Burkina</td>\n",
       "      <td>AFRICA</td>\n",
       "    </tr>\n",
       "    <tr>\n",
       "      <th>...</th>\n",
       "      <td>...</td>\n",
       "      <td>...</td>\n",
       "    </tr>\n",
       "    <tr>\n",
       "      <th>189</th>\n",
       "      <td>Paraguay</td>\n",
       "      <td>SOUTH AMERICA</td>\n",
       "    </tr>\n",
       "    <tr>\n",
       "      <th>190</th>\n",
       "      <td>Peru</td>\n",
       "      <td>SOUTH AMERICA</td>\n",
       "    </tr>\n",
       "    <tr>\n",
       "      <th>191</th>\n",
       "      <td>Suriname</td>\n",
       "      <td>SOUTH AMERICA</td>\n",
       "    </tr>\n",
       "    <tr>\n",
       "      <th>192</th>\n",
       "      <td>Uruguay</td>\n",
       "      <td>SOUTH AMERICA</td>\n",
       "    </tr>\n",
       "    <tr>\n",
       "      <th>193</th>\n",
       "      <td>Venezuela</td>\n",
       "      <td>SOUTH AMERICA</td>\n",
       "    </tr>\n",
       "  </tbody>\n",
       "</table>\n",
       "<p>194 rows × 2 columns</p>\n",
       "</div>"
      ],
      "text/plain": [
       "       Country         Region\n",
       "0      Algeria         AFRICA\n",
       "1       Angola         AFRICA\n",
       "2        Benin         AFRICA\n",
       "3     Botswana         AFRICA\n",
       "4      Burkina         AFRICA\n",
       "..         ...            ...\n",
       "189   Paraguay  SOUTH AMERICA\n",
       "190       Peru  SOUTH AMERICA\n",
       "191   Suriname  SOUTH AMERICA\n",
       "192    Uruguay  SOUTH AMERICA\n",
       "193  Venezuela  SOUTH AMERICA\n",
       "\n",
       "[194 rows x 2 columns]"
      ]
     },
     "execution_count": 6,
     "metadata": {},
     "output_type": "execute_result"
    }
   ],
   "source": [
    "url = 'https://raw.githubusercontent.com/cs109/2014_data/master/countries.csv'\n",
    "df = load_csv_from_url(url)\n",
    "df"
   ]
  }
 ],
 "metadata": {
  "kernelspec": {
   "display_name": "Python 3 (ipykernel)",
   "language": "python",
   "name": "python3"
  },
  "language_info": {
   "codemirror_mode": {
    "name": "ipython",
    "version": 3
   },
   "file_extension": ".py",
   "mimetype": "text/x-python",
   "name": "python",
   "nbconvert_exporter": "python",
   "pygments_lexer": "ipython3",
   "version": "3.11.5"
  }
 },
 "nbformat": 4,
 "nbformat_minor": 5
}
