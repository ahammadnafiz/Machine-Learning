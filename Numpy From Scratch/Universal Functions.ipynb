{
 "cells": [
  {
   "cell_type": "markdown",
   "id": "71de3b20",
   "metadata": {},
   "source": [
    "## Universal Functions\n",
    " A universal function, or ufunc, is a function that performs element-wise operations\n",
    " on data in ndarrays."
   ]
  },
  {
   "cell_type": "code",
   "execution_count": 1,
   "id": "ab70df93",
   "metadata": {},
   "outputs": [],
   "source": [
    "import numpy as np"
   ]
  },
  {
   "cell_type": "code",
   "execution_count": 2,
   "id": "e051e157",
   "metadata": {},
   "outputs": [
    {
     "data": {
      "text/plain": [
       "array([0, 1, 2, 3, 4, 5, 6, 7, 8, 9])"
      ]
     },
     "execution_count": 2,
     "metadata": {},
     "output_type": "execute_result"
    }
   ],
   "source": [
    "arr = np.arange(10)\n",
    "arr"
   ]
  },
  {
   "cell_type": "code",
   "execution_count": 3,
   "id": "33a08cd1",
   "metadata": {},
   "outputs": [
    {
     "data": {
      "text/plain": [
       "array([0.        , 1.        , 1.41421356, 1.73205081, 2.        ,\n",
       "       2.23606798, 2.44948974, 2.64575131, 2.82842712, 3.        ])"
      ]
     },
     "execution_count": 3,
     "metadata": {},
     "output_type": "execute_result"
    }
   ],
   "source": [
    "np.sqrt(arr)"
   ]
  },
  {
   "cell_type": "code",
   "execution_count": 4,
   "id": "7d8d40bc",
   "metadata": {},
   "outputs": [
    {
     "data": {
      "text/plain": [
       "array([1.00000000e+00, 2.71828183e+00, 7.38905610e+00, 2.00855369e+01,\n",
       "       5.45981500e+01, 1.48413159e+02, 4.03428793e+02, 1.09663316e+03,\n",
       "       2.98095799e+03, 8.10308393e+03])"
      ]
     },
     "execution_count": 4,
     "metadata": {},
     "output_type": "execute_result"
    }
   ],
   "source": [
    "np.exp(arr)"
   ]
  },
  {
   "cell_type": "code",
   "execution_count": 5,
   "id": "2020902a",
   "metadata": {},
   "outputs": [],
   "source": [
    "x = np.random.randn(6)\n",
    "y = np.random.randn(6)"
   ]
  },
  {
   "cell_type": "markdown",
   "id": "9c388ba4",
   "metadata": {},
   "source": [
    "Here, numpy.maximum computed the element-wise maximum of the elements in x and\n",
    " y."
   ]
  },
  {
   "cell_type": "code",
   "execution_count": 6,
   "id": "49077579",
   "metadata": {},
   "outputs": [
    {
     "data": {
      "text/plain": [
       "array([0.70471803, 1.72530091, 0.16225562, 0.93902531, 0.45485075,\n",
       "       1.35208327])"
      ]
     },
     "execution_count": 6,
     "metadata": {},
     "output_type": "execute_result"
    }
   ],
   "source": [
    "np.maximum(x, y)"
   ]
  },
  {
   "cell_type": "markdown",
   "id": "2b0e17b6",
   "metadata": {},
   "source": [
    " modf is one example, a vec\n",
    "torized version of the built-in Python divmod; it returns the fractional and integral\n",
    " parts of a floating-point array:"
   ]
  },
  {
   "cell_type": "code",
   "execution_count": 7,
   "id": "1b8b1541",
   "metadata": {},
   "outputs": [
    {
     "data": {
      "text/plain": [
       "array([-1.47444101,  2.32195106,  4.86167004,  3.75945476, -2.11529395,\n",
       "       -6.28735339, -5.33073862])"
      ]
     },
     "execution_count": 7,
     "metadata": {},
     "output_type": "execute_result"
    }
   ],
   "source": [
    "arr = np.random.randn(7)*4\n",
    "arr"
   ]
  },
  {
   "cell_type": "code",
   "execution_count": 8,
   "id": "f9aa316a",
   "metadata": {},
   "outputs": [],
   "source": [
    "reminder, whole_part = np.modf(arr)"
   ]
  },
  {
   "cell_type": "code",
   "execution_count": 9,
   "id": "dc2225f0",
   "metadata": {},
   "outputs": [
    {
     "data": {
      "text/plain": [
       "array([-0.47444101,  0.32195106,  0.86167004,  0.75945476, -0.11529395,\n",
       "       -0.28735339, -0.33073862])"
      ]
     },
     "execution_count": 9,
     "metadata": {},
     "output_type": "execute_result"
    }
   ],
   "source": [
    "reminder"
   ]
  },
  {
   "cell_type": "code",
   "execution_count": 10,
   "id": "aed085ba",
   "metadata": {},
   "outputs": [
    {
     "data": {
      "text/plain": [
       "array([-1.,  2.,  4.,  3., -2., -6., -5.])"
      ]
     },
     "execution_count": 10,
     "metadata": {},
     "output_type": "execute_result"
    }
   ],
   "source": [
    "whole_part"
   ]
  },
  {
   "cell_type": "markdown",
   "id": "c0b16870",
   "metadata": {},
   "source": [
    "### Ufuncs\n",
    "![Ufuncs](Assets/ufunc.png)"
   ]
  },
  {
   "cell_type": "code",
   "execution_count": 11,
   "id": "4a23e954",
   "metadata": {},
   "outputs": [
    {
     "name": "stdout",
     "output_type": "stream",
     "text": [
      "[5 7 9]\n"
     ]
    }
   ],
   "source": [
    "a = np.array([1, 2, 3])\n",
    "b = np.array([4, 5, 6])\n",
    "result = np.add(a, b)\n",
    "print(result) "
   ]
  },
  {
   "cell_type": "code",
   "execution_count": 12,
   "id": "0230f6c1",
   "metadata": {},
   "outputs": [
    {
     "name": "stdout",
     "output_type": "stream",
     "text": [
      "[-3 -3 -3]\n"
     ]
    }
   ],
   "source": [
    "result = np.subtract(a, b)\n",
    "print(result)"
   ]
  },
  {
   "cell_type": "code",
   "execution_count": 13,
   "id": "2289c298",
   "metadata": {},
   "outputs": [
    {
     "name": "stdout",
     "output_type": "stream",
     "text": [
      "[ 4 10 18]\n"
     ]
    }
   ],
   "source": [
    "result = np.multiply(a, b)\n",
    "print(result)"
   ]
  },
  {
   "cell_type": "code",
   "execution_count": 14,
   "id": "b5071fbd",
   "metadata": {},
   "outputs": [
    {
     "name": "stdout",
     "output_type": "stream",
     "text": [
      "[0.0000000e+00 1.0000000e+00 1.2246468e-16]\n"
     ]
    }
   ],
   "source": [
    "angles = np.array([0, np.pi / 2, np.pi])\n",
    "result = np.sin(angles)\n",
    "print(result)"
   ]
  },
  {
   "cell_type": "markdown",
   "id": "df4897f4",
   "metadata": {},
   "source": [
    "### Binary universal functions\n",
    "![Bin](Assets/bin_1.png)\n",
    "![Bin](Assets/bin_2.png)"
   ]
  }
 ],
 "metadata": {
  "kernelspec": {
   "display_name": "Python 3 (ipykernel)",
   "language": "python",
   "name": "python3"
  },
  "language_info": {
   "codemirror_mode": {
    "name": "ipython",
    "version": 3
   },
   "file_extension": ".py",
   "mimetype": "text/x-python",
   "name": "python",
   "nbconvert_exporter": "python",
   "pygments_lexer": "ipython3",
   "version": "3.11.5"
  }
 },
 "nbformat": 4,
 "nbformat_minor": 5
}
