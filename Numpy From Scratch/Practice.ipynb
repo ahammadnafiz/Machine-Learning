{
 "cells": [
  {
   "cell_type": "code",
   "execution_count": 1,
   "id": "3ba283f0",
   "metadata": {},
   "outputs": [],
   "source": [
    "import numpy as np"
   ]
  },
  {
   "cell_type": "code",
   "execution_count": 2,
   "id": "780c4d4c",
   "metadata": {},
   "outputs": [],
   "source": [
    "c = np.array([[[  0,  1,  2],  # a 3D array (two stacked 2D arrays)\n",
    "               [ 10, 12, 13]],\n",
    "              [[100, 101, 102],\n",
    "               [110, 112, 113]]])"
   ]
  },
  {
   "cell_type": "code",
   "execution_count": 4,
   "id": "c31848a1",
   "metadata": {},
   "outputs": [
    {
     "name": "stdout",
     "output_type": "stream",
     "text": [
      "0\n",
      "1\n",
      "2\n",
      "10\n",
      "12\n",
      "13\n",
      "100\n",
      "101\n",
      "102\n",
      "110\n",
      "112\n",
      "113\n"
     ]
    }
   ],
   "source": [
    "for i in c.flat:\n",
    "    print(i)"
   ]
  },
  {
   "cell_type": "code",
   "execution_count": 7,
   "id": "cc18af9e",
   "metadata": {},
   "outputs": [
    {
     "data": {
      "text/plain": [
       "array([[  0],\n",
       "       [  1],\n",
       "       [  2],\n",
       "       [ 10],\n",
       "       [ 12],\n",
       "       [ 13],\n",
       "       [100],\n",
       "       [101],\n",
       "       [102],\n",
       "       [110],\n",
       "       [112],\n",
       "       [113]])"
      ]
     },
     "execution_count": 7,
     "metadata": {},
     "output_type": "execute_result"
    }
   ],
   "source": [
    "c.reshape(-1, 1)"
   ]
  },
  {
   "cell_type": "code",
   "execution_count": 12,
   "id": "befceeb3",
   "metadata": {},
   "outputs": [
    {
     "data": {
      "text/plain": [
       "(2, 1, 2, 3)"
      ]
     },
     "execution_count": 12,
     "metadata": {},
     "output_type": "execute_result"
    }
   ],
   "source": [
    "c[:, np.newaxis].shape"
   ]
  },
  {
   "cell_type": "code",
   "execution_count": 13,
   "id": "c409b9a9",
   "metadata": {},
   "outputs": [
    {
     "data": {
      "text/plain": [
       "array([[[  0,   0,   0],\n",
       "        [255,   0,   0],\n",
       "        [  0, 255,   0],\n",
       "        [  0,   0,   0]],\n",
       "\n",
       "       [[  0,   0,   0],\n",
       "        [  0,   0, 255],\n",
       "        [255, 255, 255],\n",
       "        [  0,   0,   0]]])"
      ]
     },
     "execution_count": 13,
     "metadata": {},
     "output_type": "execute_result"
    }
   ],
   "source": [
    "palette = np.array([[0, 0, 0],         # black\n",
    "                    [255, 0, 0],       # red\n",
    "                    [0, 255, 0],       # green\n",
    "                    [0, 0, 255],       # blue\n",
    "                    [255, 255, 255]])  # white\n",
    "image = np.array([[0, 1, 2, 0],  # each value corresponds to a color in the palette\n",
    "                  [0, 3, 4, 0]])\n",
    "palette[image]  # the (2, 4, 3) color image"
   ]
  },
  {
   "cell_type": "code",
   "execution_count": 20,
   "id": "593d582c",
   "metadata": {},
   "outputs": [
    {
     "name": "stdout",
     "output_type": "stream",
     "text": [
      "(4, 1)\n"
     ]
    },
    {
     "data": {
      "text/plain": [
       "array([[ 1.,  1.,  1.],\n",
       "       [12., 12., 12.],\n",
       "       [23., 23., 23.],\n",
       "       [34., 34., 34.]])"
      ]
     },
     "execution_count": 20,
     "metadata": {},
     "output_type": "execute_result"
    }
   ],
   "source": [
    "a = np.array([[ 0.0,  0.0,  0.0],\n",
    "              [10.0, 10.0, 10.0],\n",
    "              [20.0, 20.0, 20.0],\n",
    "              [30.0, 30.0, 30.0]])\n",
    "b = np.array([1.0, 2.0, 3.0, 4.0])\n",
    "b = b[:, np.newaxis]\n",
    "print(b.shape)\n",
    "a + b"
   ]
  }
 ],
 "metadata": {
  "kernelspec": {
   "display_name": "Python 3 (ipykernel)",
   "language": "python",
   "name": "python3"
  },
  "language_info": {
   "codemirror_mode": {
    "name": "ipython",
    "version": 3
   },
   "file_extension": ".py",
   "mimetype": "text/x-python",
   "name": "python",
   "nbconvert_exporter": "python",
   "pygments_lexer": "ipython3",
   "version": "3.11.5"
  }
 },
 "nbformat": 4,
 "nbformat_minor": 5
}
