{
 "cells": [
  {
   "cell_type": "code",
   "execution_count": 1,
   "id": "704f56fc",
   "metadata": {},
   "outputs": [],
   "source": [
    "import numpy as np\n",
    "import pandas as pd\n",
    "import matplotlib.pyplot as plt\n",
    "import seaborn as sns"
   ]
  },
  {
   "cell_type": "code",
   "execution_count": 26,
   "id": "8024c996",
   "metadata": {},
   "outputs": [],
   "source": [
    "import warnings\n",
    "warnings.filterwarnings('ignore', category=FutureWarning, module='seaborn')\n",
    "sns.set_palette(\"pastel\")\n",
    "\n",
    "# Set a base style\n",
    "sns.set_style(\"whitegrid\")\n",
    "\n",
    "# Customize specific style parameters\n",
    "custom_params = {\n",
    "    \"axes.spines.right\": False,\n",
    "    \"axes.spines.top\": False,\n",
    "    \"axes.grid\": True,\n",
    "    \"grid.linestyle\": \"--\",\n",
    "    \"grid.color\": \"#cccccc\",\n",
    "    \"axes.facecolor\": \"#f0f0f0\",\n",
    "    \"axes.labelsize\": 14,\n",
    "    \"axes.titlesize\": 16,\n",
    "    \"xtick.labelsize\": 12,\n",
    "    \"ytick.labelsize\": 12\n",
    "}\n",
    "sns.set_context(\"notebook\", rc=custom_params)"
   ]
  },
  {
   "cell_type": "code",
   "execution_count": 3,
   "id": "e9072fbe",
   "metadata": {},
   "outputs": [],
   "source": [
    "df = pd.read_csv('Datasets/winequality-red.csv')"
   ]
  },
  {
   "cell_type": "code",
   "execution_count": 4,
   "id": "9ec5cc30",
   "metadata": {},
   "outputs": [
    {
     "data": {
      "text/html": [
       "<div>\n",
       "<style scoped>\n",
       "    .dataframe tbody tr th:only-of-type {\n",
       "        vertical-align: middle;\n",
       "    }\n",
       "\n",
       "    .dataframe tbody tr th {\n",
       "        vertical-align: top;\n",
       "    }\n",
       "\n",
       "    .dataframe thead th {\n",
       "        text-align: right;\n",
       "    }\n",
       "</style>\n",
       "<table border=\"1\" class=\"dataframe\">\n",
       "  <thead>\n",
       "    <tr style=\"text-align: right;\">\n",
       "      <th></th>\n",
       "      <th>fixed acidity</th>\n",
       "      <th>volatile acidity</th>\n",
       "      <th>citric acid</th>\n",
       "      <th>residual sugar</th>\n",
       "      <th>chlorides</th>\n",
       "      <th>free sulfur dioxide</th>\n",
       "      <th>total sulfur dioxide</th>\n",
       "      <th>density</th>\n",
       "      <th>pH</th>\n",
       "      <th>sulphates</th>\n",
       "      <th>alcohol</th>\n",
       "      <th>quality</th>\n",
       "    </tr>\n",
       "  </thead>\n",
       "  <tbody>\n",
       "    <tr>\n",
       "      <th>0</th>\n",
       "      <td>7.4</td>\n",
       "      <td>0.70</td>\n",
       "      <td>0.00</td>\n",
       "      <td>1.9</td>\n",
       "      <td>0.076</td>\n",
       "      <td>11.0</td>\n",
       "      <td>34.0</td>\n",
       "      <td>0.9978</td>\n",
       "      <td>3.51</td>\n",
       "      <td>0.56</td>\n",
       "      <td>9.4</td>\n",
       "      <td>5</td>\n",
       "    </tr>\n",
       "    <tr>\n",
       "      <th>1</th>\n",
       "      <td>7.8</td>\n",
       "      <td>0.88</td>\n",
       "      <td>0.00</td>\n",
       "      <td>2.6</td>\n",
       "      <td>0.098</td>\n",
       "      <td>25.0</td>\n",
       "      <td>67.0</td>\n",
       "      <td>0.9968</td>\n",
       "      <td>3.20</td>\n",
       "      <td>0.68</td>\n",
       "      <td>9.8</td>\n",
       "      <td>5</td>\n",
       "    </tr>\n",
       "    <tr>\n",
       "      <th>2</th>\n",
       "      <td>7.8</td>\n",
       "      <td>0.76</td>\n",
       "      <td>0.04</td>\n",
       "      <td>2.3</td>\n",
       "      <td>0.092</td>\n",
       "      <td>15.0</td>\n",
       "      <td>54.0</td>\n",
       "      <td>0.9970</td>\n",
       "      <td>3.26</td>\n",
       "      <td>0.65</td>\n",
       "      <td>9.8</td>\n",
       "      <td>5</td>\n",
       "    </tr>\n",
       "    <tr>\n",
       "      <th>3</th>\n",
       "      <td>11.2</td>\n",
       "      <td>0.28</td>\n",
       "      <td>0.56</td>\n",
       "      <td>1.9</td>\n",
       "      <td>0.075</td>\n",
       "      <td>17.0</td>\n",
       "      <td>60.0</td>\n",
       "      <td>0.9980</td>\n",
       "      <td>3.16</td>\n",
       "      <td>0.58</td>\n",
       "      <td>9.8</td>\n",
       "      <td>6</td>\n",
       "    </tr>\n",
       "    <tr>\n",
       "      <th>4</th>\n",
       "      <td>7.4</td>\n",
       "      <td>0.70</td>\n",
       "      <td>0.00</td>\n",
       "      <td>1.9</td>\n",
       "      <td>0.076</td>\n",
       "      <td>11.0</td>\n",
       "      <td>34.0</td>\n",
       "      <td>0.9978</td>\n",
       "      <td>3.51</td>\n",
       "      <td>0.56</td>\n",
       "      <td>9.4</td>\n",
       "      <td>5</td>\n",
       "    </tr>\n",
       "  </tbody>\n",
       "</table>\n",
       "</div>"
      ],
      "text/plain": [
       "   fixed acidity  volatile acidity  citric acid  residual sugar  chlorides  \\\n",
       "0            7.4              0.70         0.00             1.9      0.076   \n",
       "1            7.8              0.88         0.00             2.6      0.098   \n",
       "2            7.8              0.76         0.04             2.3      0.092   \n",
       "3           11.2              0.28         0.56             1.9      0.075   \n",
       "4            7.4              0.70         0.00             1.9      0.076   \n",
       "\n",
       "   free sulfur dioxide  total sulfur dioxide  density    pH  sulphates  \\\n",
       "0                 11.0                  34.0   0.9978  3.51       0.56   \n",
       "1                 25.0                  67.0   0.9968  3.20       0.68   \n",
       "2                 15.0                  54.0   0.9970  3.26       0.65   \n",
       "3                 17.0                  60.0   0.9980  3.16       0.58   \n",
       "4                 11.0                  34.0   0.9978  3.51       0.56   \n",
       "\n",
       "   alcohol  quality  \n",
       "0      9.4        5  \n",
       "1      9.8        5  \n",
       "2      9.8        5  \n",
       "3      9.8        6  \n",
       "4      9.4        5  "
      ]
     },
     "execution_count": 4,
     "metadata": {},
     "output_type": "execute_result"
    }
   ],
   "source": [
    "df.head()"
   ]
  },
  {
   "cell_type": "code",
   "execution_count": 5,
   "id": "d0b9a0c0",
   "metadata": {},
   "outputs": [
    {
     "data": {
      "text/plain": [
       "Index(['fixed acidity', 'volatile acidity', 'citric acid', 'residual sugar',\n",
       "       'chlorides', 'free sulfur dioxide', 'total sulfur dioxide', 'density',\n",
       "       'pH', 'sulphates', 'alcohol', 'quality'],\n",
       "      dtype='object')"
      ]
     },
     "execution_count": 5,
     "metadata": {},
     "output_type": "execute_result"
    }
   ],
   "source": [
    "df.columns"
   ]
  },
  {
   "cell_type": "code",
   "execution_count": 6,
   "id": "277b78cd",
   "metadata": {},
   "outputs": [
    {
     "data": {
      "text/plain": [
       "quality\n",
       "5    681\n",
       "6    638\n",
       "7    199\n",
       "4     53\n",
       "8     18\n",
       "3     10\n",
       "Name: count, dtype: int64"
      ]
     },
     "execution_count": 6,
     "metadata": {},
     "output_type": "execute_result"
    }
   ],
   "source": [
    "df['quality'].value_counts()"
   ]
  },
  {
   "cell_type": "code",
   "execution_count": 7,
   "id": "6ff0a78a",
   "metadata": {},
   "outputs": [],
   "source": [
    "# a mapping dictionary that maps the quality values from 0 to 5\n",
    "quality_mapping = {\n",
    "    3:0,\n",
    "    4:1,\n",
    "    5:2,\n",
    "    6:3,\n",
    "    7:4,\n",
    "    8:5\n",
    "}"
   ]
  },
  {
   "cell_type": "code",
   "execution_count": 8,
   "id": "7ae136d7",
   "metadata": {},
   "outputs": [],
   "source": [
    "df.loc[:, 'quality'] = df['quality'].map(quality_mapping)"
   ]
  },
  {
   "cell_type": "code",
   "execution_count": 9,
   "id": "abbe683f",
   "metadata": {},
   "outputs": [
    {
     "data": {
      "text/plain": [
       "quality\n",
       "0     10\n",
       "1     53\n",
       "2    681\n",
       "3    638\n",
       "4    199\n",
       "5     18\n",
       "Name: count, dtype: int64"
      ]
     },
     "execution_count": 9,
     "metadata": {},
     "output_type": "execute_result"
    }
   ],
   "source": [
    "df['quality'].value_counts().sort_index()"
   ]
  },
  {
   "cell_type": "code",
   "execution_count": 10,
   "id": "15769ec0",
   "metadata": {},
   "outputs": [
    {
     "data": {
      "text/plain": [
       "(1599, 12)"
      ]
     },
     "execution_count": 10,
     "metadata": {},
     "output_type": "execute_result"
    }
   ],
   "source": [
    "df.shape"
   ]
  },
  {
   "cell_type": "code",
   "execution_count": 11,
   "id": "bfb30285",
   "metadata": {},
   "outputs": [],
   "source": [
    "# use sample with frac=1 to shuffle the dataframe \n",
    "# we reset the indices since they change after \n",
    "# shuffling the dataframe\n",
    "df = df.sample(frac=1).reset_index(drop=True)"
   ]
  },
  {
   "cell_type": "code",
   "execution_count": 12,
   "id": "0776731d",
   "metadata": {},
   "outputs": [],
   "source": [
    "df_train = df.head(1000)\n",
    "df_test = df.head(599)"
   ]
  },
  {
   "cell_type": "code",
   "execution_count": 13,
   "id": "884d5719",
   "metadata": {},
   "outputs": [],
   "source": [
    "# train a decision tree model for this\n",
    "from sklearn.tree import DecisionTreeClassifier\n",
    "from sklearn.metrics import accuracy_score"
   ]
  },
  {
   "cell_type": "code",
   "execution_count": 14,
   "id": "952a74cb",
   "metadata": {},
   "outputs": [],
   "source": [
    "clf = DecisionTreeClassifier(max_depth=7)"
   ]
  },
  {
   "cell_type": "code",
   "execution_count": 15,
   "id": "ed95b761",
   "metadata": {},
   "outputs": [],
   "source": [
    "cols = ['fixed acidity',  \n",
    "'volatile acidity',  \n",
    "'citric acid', \n",
    "'residual sugar', \n",
    "'chlorides', \n",
    "'free sulfur dioxide', \n",
    "'total sulfur dioxide', \n",
    "'density', \n",
    "'pH', \n",
    "'sulphates', \n",
    "'alcohol'] "
   ]
  },
  {
   "cell_type": "code",
   "execution_count": 16,
   "id": "79f2fcfd",
   "metadata": {},
   "outputs": [
    {
     "data": {
      "text/html": [
       "<style>#sk-container-id-1 {color: black;}#sk-container-id-1 pre{padding: 0;}#sk-container-id-1 div.sk-toggleable {background-color: white;}#sk-container-id-1 label.sk-toggleable__label {cursor: pointer;display: block;width: 100%;margin-bottom: 0;padding: 0.3em;box-sizing: border-box;text-align: center;}#sk-container-id-1 label.sk-toggleable__label-arrow:before {content: \"▸\";float: left;margin-right: 0.25em;color: #696969;}#sk-container-id-1 label.sk-toggleable__label-arrow:hover:before {color: black;}#sk-container-id-1 div.sk-estimator:hover label.sk-toggleable__label-arrow:before {color: black;}#sk-container-id-1 div.sk-toggleable__content {max-height: 0;max-width: 0;overflow: hidden;text-align: left;background-color: #f0f8ff;}#sk-container-id-1 div.sk-toggleable__content pre {margin: 0.2em;color: black;border-radius: 0.25em;background-color: #f0f8ff;}#sk-container-id-1 input.sk-toggleable__control:checked~div.sk-toggleable__content {max-height: 200px;max-width: 100%;overflow: auto;}#sk-container-id-1 input.sk-toggleable__control:checked~label.sk-toggleable__label-arrow:before {content: \"▾\";}#sk-container-id-1 div.sk-estimator input.sk-toggleable__control:checked~label.sk-toggleable__label {background-color: #d4ebff;}#sk-container-id-1 div.sk-label input.sk-toggleable__control:checked~label.sk-toggleable__label {background-color: #d4ebff;}#sk-container-id-1 input.sk-hidden--visually {border: 0;clip: rect(1px 1px 1px 1px);clip: rect(1px, 1px, 1px, 1px);height: 1px;margin: -1px;overflow: hidden;padding: 0;position: absolute;width: 1px;}#sk-container-id-1 div.sk-estimator {font-family: monospace;background-color: #f0f8ff;border: 1px dotted black;border-radius: 0.25em;box-sizing: border-box;margin-bottom: 0.5em;}#sk-container-id-1 div.sk-estimator:hover {background-color: #d4ebff;}#sk-container-id-1 div.sk-parallel-item::after {content: \"\";width: 100%;border-bottom: 1px solid gray;flex-grow: 1;}#sk-container-id-1 div.sk-label:hover label.sk-toggleable__label {background-color: #d4ebff;}#sk-container-id-1 div.sk-serial::before {content: \"\";position: absolute;border-left: 1px solid gray;box-sizing: border-box;top: 0;bottom: 0;left: 50%;z-index: 0;}#sk-container-id-1 div.sk-serial {display: flex;flex-direction: column;align-items: center;background-color: white;padding-right: 0.2em;padding-left: 0.2em;position: relative;}#sk-container-id-1 div.sk-item {position: relative;z-index: 1;}#sk-container-id-1 div.sk-parallel {display: flex;align-items: stretch;justify-content: center;background-color: white;position: relative;}#sk-container-id-1 div.sk-item::before, #sk-container-id-1 div.sk-parallel-item::before {content: \"\";position: absolute;border-left: 1px solid gray;box-sizing: border-box;top: 0;bottom: 0;left: 50%;z-index: -1;}#sk-container-id-1 div.sk-parallel-item {display: flex;flex-direction: column;z-index: 1;position: relative;background-color: white;}#sk-container-id-1 div.sk-parallel-item:first-child::after {align-self: flex-end;width: 50%;}#sk-container-id-1 div.sk-parallel-item:last-child::after {align-self: flex-start;width: 50%;}#sk-container-id-1 div.sk-parallel-item:only-child::after {width: 0;}#sk-container-id-1 div.sk-dashed-wrapped {border: 1px dashed gray;margin: 0 0.4em 0.5em 0.4em;box-sizing: border-box;padding-bottom: 0.4em;background-color: white;}#sk-container-id-1 div.sk-label label {font-family: monospace;font-weight: bold;display: inline-block;line-height: 1.2em;}#sk-container-id-1 div.sk-label-container {text-align: center;}#sk-container-id-1 div.sk-container {/* jupyter's `normalize.less` sets `[hidden] { display: none; }` but bootstrap.min.css set `[hidden] { display: none !important; }` so we also need the `!important` here to be able to override the default hidden behavior on the sphinx rendered scikit-learn.org. See: https://github.com/scikit-learn/scikit-learn/issues/21755 */display: inline-block !important;position: relative;}#sk-container-id-1 div.sk-text-repr-fallback {display: none;}</style><div id=\"sk-container-id-1\" class=\"sk-top-container\"><div class=\"sk-text-repr-fallback\"><pre>DecisionTreeClassifier(max_depth=7)</pre><b>In a Jupyter environment, please rerun this cell to show the HTML representation or trust the notebook. <br />On GitHub, the HTML representation is unable to render, please try loading this page with nbviewer.org.</b></div><div class=\"sk-container\" hidden><div class=\"sk-item\"><div class=\"sk-estimator sk-toggleable\"><input class=\"sk-toggleable__control sk-hidden--visually\" id=\"sk-estimator-id-1\" type=\"checkbox\" checked><label for=\"sk-estimator-id-1\" class=\"sk-toggleable__label sk-toggleable__label-arrow\">DecisionTreeClassifier</label><div class=\"sk-toggleable__content\"><pre>DecisionTreeClassifier(max_depth=7)</pre></div></div></div></div></div>"
      ],
      "text/plain": [
       "DecisionTreeClassifier(max_depth=7)"
      ]
     },
     "execution_count": 16,
     "metadata": {},
     "output_type": "execute_result"
    }
   ],
   "source": [
    "clf.fit(df_train[cols], df_train['quality'])"
   ]
  },
  {
   "cell_type": "code",
   "execution_count": 17,
   "id": "e70a9a9c",
   "metadata": {},
   "outputs": [],
   "source": [
    "# generate predictions on the training set\n",
    "train_predictions = clf.predict(df_train[cols])\n",
    "\n",
    "# generate predictions on the test set \n",
    "test_predictions = clf.predict(df_test[cols])"
   ]
  },
  {
   "cell_type": "code",
   "execution_count": 18,
   "id": "78956cee",
   "metadata": {},
   "outputs": [],
   "source": [
    "# calculate the accuracy of predictions on \n",
    "# training data set\n",
    "train_accuracy = accuracy_score(df_train['quality'], train_predictions)\n",
    "\n",
    "# calculate the accuracy of predictions on \n",
    "# test data set\n",
    "test_accuracy = accuracy_score(df_test['quality'], test_predictions)"
   ]
  },
  {
   "cell_type": "code",
   "execution_count": 19,
   "id": "fba74282",
   "metadata": {},
   "outputs": [
    {
     "name": "stdout",
     "output_type": "stream",
     "text": [
      "0.783\n",
      "0.7746243739565943\n"
     ]
    }
   ],
   "source": [
    "print(train_accuracy)\n",
    "print(test_accuracy)"
   ]
  },
  {
   "cell_type": "code",
   "execution_count": 20,
   "id": "581efced",
   "metadata": {},
   "outputs": [],
   "source": [
    "# initialize lists to store accuracies \n",
    "# for training and test data \n",
    "# we start with 50% accuracy \n",
    "train_accuracies = [0.5] \n",
    "test_accuracies = [0.5] "
   ]
  },
  {
   "cell_type": "code",
   "execution_count": 21,
   "id": "c63cfd0d",
   "metadata": {},
   "outputs": [
    {
     "data": {
      "image/png": "[encoded data removed]",
      "text/plain": [
       "<Figure size 1000x500 with 1 Axes>"
      ]
     },
     "metadata": {},
     "output_type": "display_data"
    }
   ],
   "source": [
    "# iterate over a few depth values \n",
    "for depth in range(1, 25): \n",
    "    # init the model \n",
    "    clf = DecisionTreeClassifier(max_depth=depth) \n",
    "    # columns/features for training \n",
    "    # note that, this can be done outside  \n",
    "    # the loop \n",
    "    cols = [ \n",
    "    'fixed acidity',  \n",
    "    'volatile acidity', \n",
    "    'citric acid',  \n",
    "    'residual sugar', \n",
    "    'chlorides', \n",
    "    'free sulfur dioxide',  \n",
    "    'total sulfur dioxide', \n",
    "    'density', \n",
    "    'pH',  \n",
    "    'sulphates', \n",
    "    'alcohol' \n",
    "    ] \n",
    "    # fit the model on given features \n",
    "    clf.fit(df_train[cols], df_train.quality) \n",
    "    \n",
    "    # create training & test predictions \n",
    "    train_predictions = clf.predict(df_train[cols]) \n",
    "    test_predictions = clf.predict(df_test[cols])\n",
    "    \n",
    "    # calculate training & test accuracies \n",
    "    train_accuracy = accuracy_score( \n",
    "    df_train.quality, train_predictions \n",
    "    ) \n",
    "    test_accuracy = accuracy_score( \n",
    "    df_test.quality, test_predictions \n",
    "    ) \n",
    "    \n",
    "    # append accuracies \n",
    "    train_accuracies.append(train_accuracy) \n",
    "    test_accuracies.append(test_accuracy)  \n",
    "    \n",
    "# create two plots using matplotlib \n",
    "# and seaborn \n",
    "plt.figure(figsize=(10, 5))\n",
    "\n",
    "# Plot train accuracy with a specific color and solid line\n",
    "plt.plot(train_accuracies, label=\"train accuracy\", color='blue', linestyle='-')\n",
    "\n",
    "# Plot test accuracy with a different color and dashed line\n",
    "plt.plot(test_accuracies, label=\"test accuracy\", color='red', linestyle='--')\n",
    "\n",
    "# Adding legend, labels, and ticks\n",
    "plt.legend(loc=\"upper left\", prop={'size': 15})\n",
    "plt.xticks(range(0, 26, 5)) \n",
    "plt.xlabel(\"max_depth\", size=20)\n",
    "plt.ylabel(\"accuracy\", size=20)\n",
    "\n",
    "# Show the plot\n",
    "plt.show()"
   ]
  },
  {
   "cell_type": "code",
   "execution_count": 22,
   "id": "a97b6eab",
   "metadata": {},
   "outputs": [],
   "source": [
    "from sklearn.model_selection import KFold"
   ]
  },
  {
   "cell_type": "code",
   "execution_count": null,
   "id": "f4789bb6",
   "metadata": {},
   "outputs": [],
   "source": [
    "if __name__ == '__main__':\n",
    "    # Training data is in a csv file called train.csv\n",
    "    df = pd.read_csv('train.csv')\n",
    "    \n",
    "    # We create a new column called kfold and fill it with -1\n",
    "    df['kfold'] = -1\n",
    "    \n",
    "    # The next step is to randomize the rows of the data\n",
    "    df = df.sample(frac=1).reset_index(drop = True)\n",
    "    \n",
    "    # initiate the kfold class\n",
    "    # This means the data will be divided into 5 folds for cross-validation.\n",
    "    kf = KFold(n_splits=5)\n",
    "    \n",
    "    # fill the new kfold column\n",
    "    \n",
    "    for fold, (train_, val_) in enumerate(kf.split(X=df)):\n",
    "        df.loc[val_, 'kfold'] = fold\n",
    "    \n",
    "    df.to_csv('train_folds.csv', index = False)"
   ]
  },
  {
   "cell_type": "markdown",
   "id": "1e8cd385",
   "metadata": {},
   "source": [
    "1. **Data Loading:**\n",
    "   - `df = pd.read_csv('train.csv')`:\n",
    "     - Loads the training data from a CSV file into a pandas DataFrame (`df`).\n",
    "     - `train.csv` is the dataset, which could have any set of features (columns) and samples (rows).\n",
    "\n",
    "2. **Creating a new column:**\n",
    "   - `df['kfold'] = -1`:\n",
    "     - A new column `kfold` is created and initialized with `-1` for all rows. This will later be filled with fold numbers (0 to 4 for 5 folds).\n",
    "\n",
    "3. **Shuffling the data:**\n",
    "   - `df = df.sample(frac=1).reset_index(drop=True)`:\n",
    "     - This shuffles the rows of the DataFrame randomly to ensure random distribution of the data across folds.\n",
    "     - `frac=1` means take 100% of the data, and `reset_index(drop=True)` resets the index after shuffling.\n",
    "\n",
    "4. **Setting up KFold Cross-Validation:**\n",
    "   - `kf = KFold(n_splits=5)`:\n",
    "     - This initializes the `KFold` class with 5 splits. This means the data will be divided into 5 folds for cross-validation.\n",
    "\n",
    "5. **Filling fold numbers:**\n",
    "   - `for fold, (train_, val_) in enumerate(kf.split(X=df))`:\n",
    "     - The `kf.split(X=df)` splits the data into 5 folds. Each split provides the indices of the training set (`train_`) and validation set (`val_`).\n",
    "     - The `enumerate` function assigns a fold number (`fold`) starting from 0 up to 4 (since `n_splits=5`).\n",
    "     - `df.loc[val_, 'kfold'] = fold` assigns the fold number to the `kfold` column for the validation set indices.\n"
   ]
  },
  {
   "cell_type": "code",
   "execution_count": 23,
   "id": "f858fbc1",
   "metadata": {},
   "outputs": [],
   "source": [
    "from sklearn.model_selection import StratifiedKFold"
   ]
  },
  {
   "cell_type": "code",
   "execution_count": null,
   "id": "ca3031e5",
   "metadata": {},
   "outputs": [],
   "source": [
    "if __name__ == '__main__':\n",
    "    # Training data is in a csv file called train.csv\n",
    "    df = pd.read_csv('train.csv')\n",
    "    \n",
    "    # We create a new column called kfold and fill it with -1\n",
    "    df['kfold'] = -1\n",
    "    \n",
    "    # The next step is to randomize the rows of the data\n",
    "    df = df.sample(frac=1).reset_index(drop = True)\n",
    "    \n",
    "    # fetch targets \n",
    "    y = df.target.values\n",
    "    \n",
    "    # initiate the kfold class\n",
    "    # This means the data will be divided into 5 folds for cross-validation.\n",
    "    kf = StratifiedKFold(n_splits=5)\n",
    "    \n",
    "    # fill the new kfold column\n",
    "    \n",
    "    for fold, (train_, val_) in enumerate(kf.split(X=df, y=y)):\n",
    "        df.loc[val_, 'kfold'] = fold\n",
    "    \n",
    "    df.to_csv('train_folds.csv', index = False)"
   ]
  },
  {
   "cell_type": "code",
   "execution_count": 27,
   "id": "745e60aa",
   "metadata": {},
   "outputs": [
    {
     "data": {
      "image/png": "[encoded data removed]",
      "text/plain": [
       "<Figure size 1000x800 with 1 Axes>"
      ]
     },
     "metadata": {},
     "output_type": "display_data"
    }
   ],
   "source": [
    "# let's check for wine dataset\n",
    "plt.figure(figsize=(10, 8))\n",
    "b = sns.countplot(x='quality', data = df)\n",
    "b.set_xlabel(\"quality\", fontsize=20) \n",
    "b.set_ylabel(\"count\", fontsize=20) \n",
    "plt.show()"
   ]
  },
  {
   "cell_type": "code",
   "execution_count": 29,
   "id": "49b4d3ee",
   "metadata": {},
   "outputs": [
    {
     "data": {
      "image/png": "[encoded data removed]",
      "text/plain": [
       "<Figure size 640x480 with 1 Axes>"
      ]
     },
     "metadata": {},
     "output_type": "display_data"
    }
   ],
   "source": [
    "sns.histplot(df['quality'], kde=True, color = 'green')\n",
    "plt.show()"
   ]
  },
  {
   "cell_type": "markdown",
   "id": "0e97407d",
   "metadata": {},
   "source": [
    "## StratifiedKFold for regression model"
   ]
  },
  {
   "cell_type": "code",
   "execution_count": 30,
   "id": "e56783f4",
   "metadata": {},
   "outputs": [],
   "source": [
    "def create_folds(data):\n",
    "    data['kfold'] = -1\n",
    "    \n",
    "    data = data.sample(frac=1).reset_index(drop=True)\n",
    "    \n",
    "    # calculate the number of bins by Sturge's rule \n",
    "    # I take the floor of the value, you can also \n",
    "    # just round it \n",
    "    num_bins = int(np.floor(1 + np.log2(len(data))))\n",
    "    \n",
    "    data.loc[:, 'bins'] = pd.cut(\n",
    "    data['target'], bins=num_bins, labels=False\n",
    "    )\n",
    "    kf = StratifiedKFold(n_splits=5)\n",
    "    \n",
    "    for f, (train_idx, val_idx) in enumerate(kf.split(X = data, y = data.bins.values)):\n",
    "        data.loc[val_idx, 'kfold'] = f\n",
    "    \n",
    "    data = data.drop('bins', axis = 1)\n",
    "    return data"
   ]
  }
 ],
 "metadata": {
  "kernelspec": {
   "display_name": "Python 3 (ipykernel)",
   "language": "python",
   "name": "python3"
  },
  "language_info": {
   "codemirror_mode": {
    "name": "ipython",
    "version": 3
   },
   "file_extension": ".py",
   "mimetype": "text/x-python",
   "name": "python",
   "nbconvert_exporter": "python",
   "pygments_lexer": "ipython3",
   "version": "3.11.5"
  }
 },
 "nbformat": 4,
 "nbformat_minor": 5
}
