{
 "cells": [
  {
   "cell_type": "code",
   "execution_count": 1,
   "id": "11288e6d",
   "metadata": {},
   "outputs": [],
   "source": [
    "import numpy as np\n",
    "import pandas as pd\n",
    "import matplotlib.pyplot as plt\n",
    "from sklearn.linear_model import LinearRegression"
   ]
  },
  {
   "cell_type": "markdown",
   "id": "7450ccb7",
   "metadata": {},
   "source": [
    "## Download and prepare the data"
   ]
  },
  {
   "cell_type": "code",
   "execution_count": null,
   "id": "e01d668f",
   "metadata": {},
   "outputs": [],
   "source": [
    "data_root =  \"https://github.com/ageron/data/raw/main/\"\n",
    "lifesat = pd.read_csv(data_root + 'lifesat/lifesat.csv')\n",
    "X = lifesat"
   ]
  }
 ],
 "metadata": {
  "kernelspec": {
   "display_name": "Python 3 (ipykernel)",
   "language": "python",
   "name": "python3"
  },
  "language_info": {
   "codemirror_mode": {
    "name": "ipython",
    "version": 3
   },
   "file_extension": ".py",
   "mimetype": "text/x-python",
   "name": "python",
   "nbconvert_exporter": "python",
   "pygments_lexer": "ipython3",
   "version": "3.11.5"
  }
 },
 "nbformat": 4,
 "nbformat_minor": 5
}
