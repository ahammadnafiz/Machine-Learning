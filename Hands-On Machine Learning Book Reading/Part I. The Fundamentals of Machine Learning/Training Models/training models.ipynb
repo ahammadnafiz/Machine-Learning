{
 "cells": [
  {
   "cell_type": "code",
   "execution_count": 1,
   "id": "d96d228c-96ac-4a26-8efc-8dbaabc03b16",
   "metadata": {},
   "outputs": [],
   "source": [
    "import numpy as np\n",
    "import pandas as pd\n",
    "import matplotlib.pyplot as plt\n",
    "import seaborn as sns"
   ]
  },
  {
   "cell_type": "code",
   "execution_count": 2,
   "id": "eed5be9e-43af-4569-bc7b-c56793988dfa",
   "metadata": {},
   "outputs": [],
   "source": [
    "import warnings\n",
    "warnings.filterwarnings(\"ignore\", category=FutureWarning)\n",
    "warnings.filterwarnings(\"ignore\", category=UserWarning)\n",
    "\n",
    "sns.set_palette(\"Spectral\")\n",
    "\n",
    "# Set a base style\n",
    "sns.set_style(\"whitegrid\")\n",
    "\n",
    "# Customize specific style parameters\n",
    "custom_params = {\n",
    "    \"axes.spines.right\": False,\n",
    "    \"axes.spines.top\": False,\n",
    "    \"axes.grid\": True,\n",
    "    \"grid.linestyle\": \"--\",\n",
    "    \"grid.color\": \"#cccccc\",\n",
    "    \"axes.facecolor\": \"#f0f0f0\",\n",
    "    \"axes.labelsize\": 14,\n",
    "    \"axes.titlesize\": 16,\n",
    "    \"xtick.labelsize\": 12,\n",
    "    \"ytick.labelsize\": 12\n",
    "}\n",
    "sns.set_context(\"notebook\", rc=custom_params)"
   ]
  },
  {
   "cell_type": "code",
   "execution_count": null,
   "id": "9b53f26a-30a6-4238-8aaa-cbca29f53a8a",
   "metadata": {},
   "outputs": [],
   "source": []
  }
 ],
 "metadata": {
  "kernelspec": {
   "display_name": "Python 3 (ipykernel)",
   "language": "python",
   "name": "python3"
  },
  "language_info": {
   "codemirror_mode": {
    "name": "ipython",
    "version": 3
   },
   "file_extension": ".py",
   "mimetype": "text/x-python",
   "name": "python",
   "nbconvert_exporter": "python",
   "pygments_lexer": "ipython3",
   "version": "3.12.0"
  }
 },
 "nbformat": 4,
 "nbformat_minor": 5
}
