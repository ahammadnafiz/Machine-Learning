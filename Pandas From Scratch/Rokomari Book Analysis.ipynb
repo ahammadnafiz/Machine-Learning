{
 "cells": [
  {
   "cell_type": "code",
   "execution_count": 1,
   "id": "b2bc979a",
   "metadata": {},
   "outputs": [],
   "source": [
    "import pandas as pd\n",
    "import numpy as np"
   ]
  },
  {
   "cell_type": "code",
   "execution_count": 9,
   "id": "bedeae4d",
   "metadata": {},
   "outputs": [
    {
     "name": "stdout",
     "output_type": "stream",
     "text": [
      "Cross-validation MSE scores: [2577.107101     54.28623332   20.25841867  450.32404798  314.14378414]\n",
      "Average MSE: 683.2239170211864\n",
      "\n",
      "Model Performance:\n",
      "Mean Squared Error: 236.6665200034721\n",
      "R-squared Score: 0.4086879168843066\n",
      "\n",
      "Top 10 Ranked Books:\n",
      "                        Title         Author  Original Price  \\\n",
      "0                       দেয়াল  হুমায়ূন আহমেদ             450   \n",
      "10         জোছনা ও জননীর গল্প  হুমায়ূন আহমেদ             800   \n",
      "1016  তোমার নামে সন্ধ্যা নামে   সাদাত হোসাইন             600   \n",
      "21              বাদশাহ নামদার  হুমায়ূন আহমেদ             450   \n",
      "203            মধ্যাহ্ন অখণ্ড  হুমায়ূন আহমেদ             700   \n",
      "35                      ফানুস     মৌরি মরিয়ম             600   \n",
      "13                    হিমু দশ  হুমায়ূন আহমেদ             850   \n",
      "1142        To The Woods Dark  হুমায়ূন আহমেদ             120   \n",
      "28                মাতাল হাওয়া  হুমায়ূন আহমেদ             600   \n",
      "37                   মরণোত্তম   সাদাত হোসাইন             300   \n",
      "\n",
      "      Discounted Price  Rating  Predicted_Rating  Rank  \n",
      "0                  315   431.0        282.020000   1.0  \n",
      "10                 560   309.0        179.490000   2.0  \n",
      "1016               516   236.0        160.120000   3.0  \n",
      "21                 387   254.0        146.710000   4.0  \n",
      "203                602   133.0         91.003333   5.0  \n",
      "35                 516   145.0         87.540000   6.0  \n",
      "13                 595    11.0         83.880000   7.0  \n",
      "1142                72     7.0         80.740000   8.0  \n",
      "28                 516   102.0         79.745667   9.0  \n",
      "37                 258   100.0         73.910000  10.0  \n",
      "\n",
      "Full results saved to 'ranked_books_updated_v3.csv'\n"
     ]
    }
   ],
   "source": [
    "import pandas as pd\n",
    "import numpy as np\n",
    "from sklearn.model_selection import train_test_split, cross_val_score\n",
    "from sklearn.preprocessing import OneHotEncoder, RobustScaler\n",
    "from sklearn.ensemble import RandomForestRegressor\n",
    "from sklearn.pipeline import Pipeline\n",
    "from sklearn.compose import ColumnTransformer\n",
    "from sklearn.metrics import mean_squared_error, r2_score\n",
    "from sklearn.impute import SimpleImputer\n",
    "\n",
    "# Load the data\n",
    "df = pd.read_csv('rokomari.csv')\n",
    "\n",
    "# Function to convert price columns to numeric\n",
    "def convert_to_numeric(x):\n",
    "    try:\n",
    "        return pd.to_numeric(x.replace(',', ''), errors='coerce')\n",
    "    except:\n",
    "        return np.nan\n",
    "\n",
    "# Convert price columns to numeric\n",
    "df['Original Price'] = df['Original Price'].apply(convert_to_numeric)\n",
    "df['Discounted Price'] = df['Discounted Price'].apply(convert_to_numeric)\n",
    "\n",
    "# Handle missing values in Rating\n",
    "df['Rating'] = pd.to_numeric(df['Rating'], errors='coerce')\n",
    "\n",
    "# Drop rows with missing values\n",
    "df = df.dropna()\n",
    "\n",
    "# Feature Engineering\n",
    "df['Discount_Amount'] = df['Original Price'] - df['Discounted Price']\n",
    "df['Discount_Percentage'] = (df['Discount_Amount'] / df['Original Price']) * 100\n",
    "df['Title_Length'] = df['Title'].apply(len)\n",
    "\n",
    "# Prepare features and target\n",
    "numeric_features = ['Original Price', 'Discounted Price', 'Discount_Amount', 'Discount_Percentage', 'Title_Length']\n",
    "categorical_features = ['Author']\n",
    "\n",
    "X = df[numeric_features + categorical_features]\n",
    "y = df['Rating']\n",
    "\n",
    "# Split the data\n",
    "X_train, X_test, y_train, y_test = train_test_split(X, y, test_size=0.2, random_state=42)\n",
    "\n",
    "# Preprocessing\n",
    "numeric_transformer = Pipeline(steps=[\n",
    "    ('imputer', SimpleImputer(strategy='median')),\n",
    "    ('scaler', RobustScaler())\n",
    "])\n",
    "\n",
    "categorical_transformer = Pipeline(steps=[\n",
    "    ('imputer', SimpleImputer(strategy='constant', fill_value='missing')),\n",
    "    ('onehot', OneHotEncoder(handle_unknown='ignore'))\n",
    "])\n",
    "\n",
    "preprocessor = ColumnTransformer(\n",
    "    transformers=[\n",
    "        ('num', numeric_transformer, numeric_features),\n",
    "        ('cat', categorical_transformer, categorical_features)\n",
    "    ])\n",
    "\n",
    "# Define model\n",
    "rf = RandomForestRegressor(n_estimators=100, random_state=42)\n",
    "\n",
    "# Create pipeline\n",
    "pipeline = Pipeline([\n",
    "    ('preprocessor', preprocessor),\n",
    "    ('regressor', rf)\n",
    "])\n",
    "\n",
    "# Cross-validation\n",
    "cv_scores = cross_val_score(pipeline, X, y, cv=5, scoring='neg_mean_squared_error')\n",
    "print(\"Cross-validation MSE scores:\", -cv_scores)\n",
    "print(\"Average MSE:\", -cv_scores.mean())\n",
    "\n",
    "# Fit the model\n",
    "pipeline.fit(X_train, y_train)\n",
    "\n",
    "# Evaluate the model\n",
    "y_pred = pipeline.predict(X_test)\n",
    "mse = mean_squared_error(y_test, y_pred)\n",
    "r2 = r2_score(y_test, y_pred)\n",
    "\n",
    "print(f\"\\nModel Performance:\")\n",
    "print(f\"Mean Squared Error: {mse}\")\n",
    "print(f\"R-squared Score: {r2}\")\n",
    "\n",
    "# Predict on entire dataset and rank books\n",
    "df['Predicted_Rating'] = pipeline.predict(X)\n",
    "df['Rank'] = df['Predicted_Rating'].rank(method='dense', ascending=False)\n",
    "\n",
    "# Display top 10 ranked books\n",
    "print(\"\\nTop 10 Ranked Books:\")\n",
    "print(df.sort_values('Rank')[['Title', 'Author', 'Original Price', 'Discounted Price', 'Rating', 'Predicted_Rating', 'Rank']].head(10))\n",
    "\n",
    "# Save results\n",
    "df.to_csv('ranked_books_updated_v3.csv', index=False)\n",
    "print(\"\\nFull results saved to 'ranked_books_updated_v3.csv'\")"
   ]
  },
  {
   "cell_type": "code",
   "execution_count": 2,
   "id": "8b973bd3",
   "metadata": {},
   "outputs": [],
   "source": [
    "df = pd.read_csv('rokomari.csv')"
   ]
  },
  {
   "cell_type": "code",
   "execution_count": 3,
   "id": "6bb23dfb",
   "metadata": {},
   "outputs": [
    {
     "data": {
      "text/plain": [
       "Index(['Unnamed: 0', 'Title', 'Author', 'Original Price', 'Discounted Price',\n",
       "       'Rating'],\n",
       "      dtype='object')"
      ]
     },
     "execution_count": 3,
     "metadata": {},
     "output_type": "execute_result"
    }
   ],
   "source": [
    "df.columns"
   ]
  },
  {
   "cell_type": "code",
   "execution_count": 4,
   "id": "100ea5bf",
   "metadata": {},
   "outputs": [],
   "source": [
    "df.drop('Unnamed: 0', axis=1, inplace=True)"
   ]
  },
  {
   "cell_type": "code",
   "execution_count": 5,
   "id": "63466bf9",
   "metadata": {},
   "outputs": [
    {
     "data": {
      "text/html": [
       "<div>\n",
       "<style scoped>\n",
       "    .dataframe tbody tr th:only-of-type {\n",
       "        vertical-align: middle;\n",
       "    }\n",
       "\n",
       "    .dataframe tbody tr th {\n",
       "        vertical-align: top;\n",
       "    }\n",
       "\n",
       "    .dataframe thead th {\n",
       "        text-align: right;\n",
       "    }\n",
       "</style>\n",
       "<table border=\"1\" class=\"dataframe\">\n",
       "  <thead>\n",
       "    <tr style=\"text-align: right;\">\n",
       "      <th></th>\n",
       "      <th>Title</th>\n",
       "      <th>Author</th>\n",
       "      <th>Original Price</th>\n",
       "      <th>Discounted Price</th>\n",
       "      <th>Rating</th>\n",
       "    </tr>\n",
       "  </thead>\n",
       "  <tbody>\n",
       "    <tr>\n",
       "      <th>0</th>\n",
       "      <td>দেয়াল</td>\n",
       "      <td>হুমায়ূন আহমেদ</td>\n",
       "      <td>450</td>\n",
       "      <td>315</td>\n",
       "      <td>431.0</td>\n",
       "    </tr>\n",
       "    <tr>\n",
       "      <th>1</th>\n",
       "      <td>শম্পা কী চায়?</td>\n",
       "      <td>এশরার লতিফ</td>\n",
       "      <td>350</td>\n",
       "      <td>301</td>\n",
       "      <td>11.0</td>\n",
       "    </tr>\n",
       "    <tr>\n",
       "      <th>2</th>\n",
       "      <td>ইনসমনিয়া</td>\n",
       "      <td>ফরহাদ হোসেন</td>\n",
       "      <td>320</td>\n",
       "      <td>275</td>\n",
       "      <td>3.0</td>\n",
       "    </tr>\n",
       "    <tr>\n",
       "      <th>3</th>\n",
       "      <td>সাতপুরুষে খেদু মিয়া</td>\n",
       "      <td>অসীম হিমেল</td>\n",
       "      <td>580</td>\n",
       "      <td>499</td>\n",
       "      <td>5.0</td>\n",
       "    </tr>\n",
       "    <tr>\n",
       "      <th>4</th>\n",
       "      <td>হুমায়ূন আহমেদ রচনাবলী ২</td>\n",
       "      <td>হুমায়ূন আহমেদ</td>\n",
       "      <td>800</td>\n",
       "      <td>688</td>\n",
       "      <td>11.0</td>\n",
       "    </tr>\n",
       "  </tbody>\n",
       "</table>\n",
       "</div>"
      ],
      "text/plain": [
       "                     Title         Author Original Price Discounted Price  \\\n",
       "0                    দেয়াল  হুমায়ূন আহমেদ            450              315   \n",
       "1            শম্পা কী চায়?     এশরার লতিফ            350              301   \n",
       "2                 ইনসমনিয়া    ফরহাদ হোসেন            320              275   \n",
       "3      সাতপুরুষে খেদু মিয়া     অসীম হিমেল            580              499   \n",
       "4  হুমায়ূন আহমেদ রচনাবলী ২  হুমায়ূন আহমেদ            800              688   \n",
       "\n",
       "   Rating  \n",
       "0   431.0  \n",
       "1    11.0  \n",
       "2     3.0  \n",
       "3     5.0  \n",
       "4    11.0  "
      ]
     },
     "execution_count": 5,
     "metadata": {},
     "output_type": "execute_result"
    }
   ],
   "source": [
    "df.head()"
   ]
  },
  {
   "cell_type": "code",
   "execution_count": 6,
   "id": "dbfeffac",
   "metadata": {},
   "outputs": [],
   "source": [
    "grouped = df.groupby('Author')"
   ]
  },
  {
   "cell_type": "code",
   "execution_count": 7,
   "id": "1bdd4a63",
   "metadata": {},
   "outputs": [],
   "source": [
    "count = grouped['Title'].value_counts()"
   ]
  },
  {
   "cell_type": "code",
   "execution_count": 8,
   "id": "f428f427",
   "metadata": {},
   "outputs": [
    {
     "data": {
      "text/plain": [
       "Author               Title                                   \n",
       "Dr. Naushaba Singh   Celebrating Relationships                   1\n",
       "অধ্যাপক আতাউর রহমান  দুই দু’গুণে পাঁচ                            1\n",
       "                     মধ্যরাতের জোকস্‌                            1\n",
       "                     রসগল্পের রাজকোষ                             1\n",
       "অধ্যাপক আবু সাইয়িদ   বাংলাদেশের স্বাধীনতা যুদ্ধের আড়ালে যুদ্ধ    1\n",
       "                                                                ..\n",
       "হুমায়ূন আহমেদ        ৯০ দশকের ৫টি উপন্যাস                        1\n",
       "হুসেইন ফজলুল বারী    রানি দ্বিতীয় এলিজাবেথ ও মায়াবী দাঁড়কাক      1\n",
       "হো চি মিন            কারাগারের কাব্য                             1\n",
       "হোসেন আবদুল মান্নান  কেবলই পিছনে তাকাই                           1\n",
       "                     বেদনার জলছবি                                1\n",
       "Name: count, Length: 1354, dtype: int64"
      ]
     },
     "execution_count": 8,
     "metadata": {},
     "output_type": "execute_result"
    }
   ],
   "source": [
    "count"
   ]
  },
  {
   "cell_type": "code",
   "execution_count": 9,
   "id": "8a55b6ca",
   "metadata": {},
   "outputs": [],
   "source": [
    "humayun = df[df['Author'] == 'হুমায়ূন আহমেদ']"
   ]
  },
  {
   "cell_type": "code",
   "execution_count": 12,
   "id": "c23245e8",
   "metadata": {
    "scrolled": true
   },
   "outputs": [
    {
     "data": {
      "text/plain": [
       "476"
      ]
     },
     "execution_count": 12,
     "metadata": {},
     "output_type": "execute_result"
    }
   ],
   "source": [
    "df['Author'].nunique()"
   ]
  },
  {
   "cell_type": "code",
   "execution_count": 14,
   "id": "756b5e8e",
   "metadata": {},
   "outputs": [],
   "source": [
    "\n",
    "# Function to convert price columns to numeric\n",
    "def convert_to_numeric(x):\n",
    "    try:\n",
    "        return pd.to_numeric(x.replace(',', ''), errors='coerce')\n",
    "    except:\n",
    "        return np.nan\n",
    "\n",
    "# Convert price columns to numeric\n",
    "df['Original Price'] = df['Original Price'].apply(convert_to_numeric)\n",
    "df['Discounted Price'] = df['Discounted Price'].apply(convert_to_numeric)\n",
    "\n",
    "# Handle missing values in Rating\n",
    "df['Rating'] = pd.to_numeric(df['Rating'], errors='coerce')"
   ]
  },
  {
   "cell_type": "code",
   "execution_count": 15,
   "id": "932f863e",
   "metadata": {},
   "outputs": [],
   "source": [
    "from sklearn.impute import KNNImputer\n",
    "\n",
    "imputer = KNNImputer(n_neighbors=5)\n",
    "df[['Rating']] = imputer.fit_transform(df[['Rating']])"
   ]
  },
  {
   "cell_type": "code",
   "execution_count": 16,
   "id": "9ea24899",
   "metadata": {},
   "outputs": [
    {
     "data": {
      "text/html": [
       "<div>\n",
       "<style scoped>\n",
       "    .dataframe tbody tr th:only-of-type {\n",
       "        vertical-align: middle;\n",
       "    }\n",
       "\n",
       "    .dataframe tbody tr th {\n",
       "        vertical-align: top;\n",
       "    }\n",
       "\n",
       "    .dataframe thead th {\n",
       "        text-align: right;\n",
       "    }\n",
       "</style>\n",
       "<table border=\"1\" class=\"dataframe\">\n",
       "  <thead>\n",
       "    <tr style=\"text-align: right;\">\n",
       "      <th></th>\n",
       "      <th>Title</th>\n",
       "      <th>Author</th>\n",
       "      <th>Original Price</th>\n",
       "      <th>Discounted Price</th>\n",
       "      <th>Rating</th>\n",
       "    </tr>\n",
       "  </thead>\n",
       "  <tbody>\n",
       "    <tr>\n",
       "      <th>0</th>\n",
       "      <td>দেয়াল</td>\n",
       "      <td>হুমায়ূন আহমেদ</td>\n",
       "      <td>450</td>\n",
       "      <td>315</td>\n",
       "      <td>431.0</td>\n",
       "    </tr>\n",
       "    <tr>\n",
       "      <th>1</th>\n",
       "      <td>শম্পা কী চায়?</td>\n",
       "      <td>এশরার লতিফ</td>\n",
       "      <td>350</td>\n",
       "      <td>301</td>\n",
       "      <td>11.0</td>\n",
       "    </tr>\n",
       "    <tr>\n",
       "      <th>2</th>\n",
       "      <td>ইনসমনিয়া</td>\n",
       "      <td>ফরহাদ হোসেন</td>\n",
       "      <td>320</td>\n",
       "      <td>275</td>\n",
       "      <td>3.0</td>\n",
       "    </tr>\n",
       "    <tr>\n",
       "      <th>3</th>\n",
       "      <td>সাতপুরুষে খেদু মিয়া</td>\n",
       "      <td>অসীম হিমেল</td>\n",
       "      <td>580</td>\n",
       "      <td>499</td>\n",
       "      <td>5.0</td>\n",
       "    </tr>\n",
       "    <tr>\n",
       "      <th>4</th>\n",
       "      <td>হুমায়ূন আহমেদ রচনাবলী ২</td>\n",
       "      <td>হুমায়ূন আহমেদ</td>\n",
       "      <td>800</td>\n",
       "      <td>688</td>\n",
       "      <td>11.0</td>\n",
       "    </tr>\n",
       "  </tbody>\n",
       "</table>\n",
       "</div>"
      ],
      "text/plain": [
       "                     Title         Author  Original Price  Discounted Price  \\\n",
       "0                    দেয়াল  হুমায়ূন আহমেদ             450               315   \n",
       "1            শম্পা কী চায়?     এশরার লতিফ             350               301   \n",
       "2                 ইনসমনিয়া    ফরহাদ হোসেন             320               275   \n",
       "3      সাতপুরুষে খেদু মিয়া     অসীম হিমেল             580               499   \n",
       "4  হুমায়ূন আহমেদ রচনাবলী ২  হুমায়ূন আহমেদ             800               688   \n",
       "\n",
       "   Rating  \n",
       "0   431.0  \n",
       "1    11.0  \n",
       "2     3.0  \n",
       "3     5.0  \n",
       "4    11.0  "
      ]
     },
     "execution_count": 16,
     "metadata": {},
     "output_type": "execute_result"
    }
   ],
   "source": [
    "df.head()"
   ]
  },
  {
   "cell_type": "code",
   "execution_count": 17,
   "id": "fd2a756f",
   "metadata": {},
   "outputs": [],
   "source": [
    "# Feature Engineering\n",
    "df['Discount_Amount'] = df['Original Price'] - df['Discounted Price']\n",
    "df['Discount_Percentage'] = (df['Discount_Amount'] / df['Original Price']) * 100\n",
    "df['Title_Length'] = df['Title'].apply(len)"
   ]
  },
  {
   "cell_type": "code",
   "execution_count": 18,
   "id": "3887459a",
   "metadata": {},
   "outputs": [
    {
     "data": {
      "text/html": [
       "<div>\n",
       "<style scoped>\n",
       "    .dataframe tbody tr th:only-of-type {\n",
       "        vertical-align: middle;\n",
       "    }\n",
       "\n",
       "    .dataframe tbody tr th {\n",
       "        vertical-align: top;\n",
       "    }\n",
       "\n",
       "    .dataframe thead th {\n",
       "        text-align: right;\n",
       "    }\n",
       "</style>\n",
       "<table border=\"1\" class=\"dataframe\">\n",
       "  <thead>\n",
       "    <tr style=\"text-align: right;\">\n",
       "      <th></th>\n",
       "      <th>Title</th>\n",
       "      <th>Author</th>\n",
       "      <th>Original Price</th>\n",
       "      <th>Discounted Price</th>\n",
       "      <th>Rating</th>\n",
       "      <th>Discount_Amount</th>\n",
       "      <th>Discount_Percentage</th>\n",
       "      <th>Title_Length</th>\n",
       "    </tr>\n",
       "  </thead>\n",
       "  <tbody>\n",
       "    <tr>\n",
       "      <th>0</th>\n",
       "      <td>দেয়াল</td>\n",
       "      <td>হুমায়ূন আহমেদ</td>\n",
       "      <td>450</td>\n",
       "      <td>315</td>\n",
       "      <td>431.0</td>\n",
       "      <td>135</td>\n",
       "      <td>30.000000</td>\n",
       "      <td>5</td>\n",
       "    </tr>\n",
       "    <tr>\n",
       "      <th>1</th>\n",
       "      <td>শম্পা কী চায়?</td>\n",
       "      <td>এশরার লতিফ</td>\n",
       "      <td>350</td>\n",
       "      <td>301</td>\n",
       "      <td>11.0</td>\n",
       "      <td>49</td>\n",
       "      <td>14.000000</td>\n",
       "      <td>13</td>\n",
       "    </tr>\n",
       "    <tr>\n",
       "      <th>2</th>\n",
       "      <td>ইনসমনিয়া</td>\n",
       "      <td>ফরহাদ হোসেন</td>\n",
       "      <td>320</td>\n",
       "      <td>275</td>\n",
       "      <td>3.0</td>\n",
       "      <td>45</td>\n",
       "      <td>14.062500</td>\n",
       "      <td>8</td>\n",
       "    </tr>\n",
       "    <tr>\n",
       "      <th>3</th>\n",
       "      <td>সাতপুরুষে খেদু মিয়া</td>\n",
       "      <td>অসীম হিমেল</td>\n",
       "      <td>580</td>\n",
       "      <td>499</td>\n",
       "      <td>5.0</td>\n",
       "      <td>81</td>\n",
       "      <td>13.965517</td>\n",
       "      <td>19</td>\n",
       "    </tr>\n",
       "    <tr>\n",
       "      <th>4</th>\n",
       "      <td>হুমায়ূন আহমেদ রচনাবলী ২</td>\n",
       "      <td>হুমায়ূন আহমেদ</td>\n",
       "      <td>800</td>\n",
       "      <td>688</td>\n",
       "      <td>11.0</td>\n",
       "      <td>112</td>\n",
       "      <td>14.000000</td>\n",
       "      <td>23</td>\n",
       "    </tr>\n",
       "  </tbody>\n",
       "</table>\n",
       "</div>"
      ],
      "text/plain": [
       "                     Title         Author  Original Price  Discounted Price  \\\n",
       "0                    দেয়াল  হুমায়ূন আহমেদ             450               315   \n",
       "1            শম্পা কী চায়?     এশরার লতিফ             350               301   \n",
       "2                 ইনসমনিয়া    ফরহাদ হোসেন             320               275   \n",
       "3      সাতপুরুষে খেদু মিয়া     অসীম হিমেল             580               499   \n",
       "4  হুমায়ূন আহমেদ রচনাবলী ২  হুমায়ূন আহমেদ             800               688   \n",
       "\n",
       "   Rating  Discount_Amount  Discount_Percentage  Title_Length  \n",
       "0   431.0              135            30.000000             5  \n",
       "1    11.0               49            14.000000            13  \n",
       "2     3.0               45            14.062500             8  \n",
       "3     5.0               81            13.965517            19  \n",
       "4    11.0              112            14.000000            23  "
      ]
     },
     "execution_count": 18,
     "metadata": {},
     "output_type": "execute_result"
    }
   ],
   "source": [
    "df.head()"
   ]
  },
  {
   "cell_type": "code",
   "execution_count": 19,
   "id": "49b73766",
   "metadata": {},
   "outputs": [],
   "source": [
    "# Feature 6: Discount Category\n",
    "bins = [0, 10, 20, 30, 40, 50]\n",
    "labels = ['Very Low', 'Low', 'Medium', 'High', 'Very High']\n",
    "df['Discount_Category'] = pd.cut(df['Discount_Percentage'], bins=bins, labels=labels)"
   ]
  },
  {
   "cell_type": "code",
   "execution_count": 20,
   "id": "3fad0fc7",
   "metadata": {},
   "outputs": [
    {
     "data": {
      "text/html": [
       "<div>\n",
       "<style scoped>\n",
       "    .dataframe tbody tr th:only-of-type {\n",
       "        vertical-align: middle;\n",
       "    }\n",
       "\n",
       "    .dataframe tbody tr th {\n",
       "        vertical-align: top;\n",
       "    }\n",
       "\n",
       "    .dataframe thead th {\n",
       "        text-align: right;\n",
       "    }\n",
       "</style>\n",
       "<table border=\"1\" class=\"dataframe\">\n",
       "  <thead>\n",
       "    <tr style=\"text-align: right;\">\n",
       "      <th></th>\n",
       "      <th>Title</th>\n",
       "      <th>Author</th>\n",
       "      <th>Original Price</th>\n",
       "      <th>Discounted Price</th>\n",
       "      <th>Rating</th>\n",
       "      <th>Discount_Amount</th>\n",
       "      <th>Discount_Percentage</th>\n",
       "      <th>Title_Length</th>\n",
       "      <th>Discount_Category</th>\n",
       "    </tr>\n",
       "  </thead>\n",
       "  <tbody>\n",
       "    <tr>\n",
       "      <th>0</th>\n",
       "      <td>দেয়াল</td>\n",
       "      <td>হুমায়ূন আহমেদ</td>\n",
       "      <td>450</td>\n",
       "      <td>315</td>\n",
       "      <td>431.0</td>\n",
       "      <td>135</td>\n",
       "      <td>30.000000</td>\n",
       "      <td>5</td>\n",
       "      <td>Medium</td>\n",
       "    </tr>\n",
       "    <tr>\n",
       "      <th>1</th>\n",
       "      <td>শম্পা কী চায়?</td>\n",
       "      <td>এশরার লতিফ</td>\n",
       "      <td>350</td>\n",
       "      <td>301</td>\n",
       "      <td>11.0</td>\n",
       "      <td>49</td>\n",
       "      <td>14.000000</td>\n",
       "      <td>13</td>\n",
       "      <td>Low</td>\n",
       "    </tr>\n",
       "    <tr>\n",
       "      <th>2</th>\n",
       "      <td>ইনসমনিয়া</td>\n",
       "      <td>ফরহাদ হোসেন</td>\n",
       "      <td>320</td>\n",
       "      <td>275</td>\n",
       "      <td>3.0</td>\n",
       "      <td>45</td>\n",
       "      <td>14.062500</td>\n",
       "      <td>8</td>\n",
       "      <td>Low</td>\n",
       "    </tr>\n",
       "    <tr>\n",
       "      <th>3</th>\n",
       "      <td>সাতপুরুষে খেদু মিয়া</td>\n",
       "      <td>অসীম হিমেল</td>\n",
       "      <td>580</td>\n",
       "      <td>499</td>\n",
       "      <td>5.0</td>\n",
       "      <td>81</td>\n",
       "      <td>13.965517</td>\n",
       "      <td>19</td>\n",
       "      <td>Low</td>\n",
       "    </tr>\n",
       "    <tr>\n",
       "      <th>4</th>\n",
       "      <td>হুমায়ূন আহমেদ রচনাবলী ২</td>\n",
       "      <td>হুমায়ূন আহমেদ</td>\n",
       "      <td>800</td>\n",
       "      <td>688</td>\n",
       "      <td>11.0</td>\n",
       "      <td>112</td>\n",
       "      <td>14.000000</td>\n",
       "      <td>23</td>\n",
       "      <td>Low</td>\n",
       "    </tr>\n",
       "  </tbody>\n",
       "</table>\n",
       "</div>"
      ],
      "text/plain": [
       "                     Title         Author  Original Price  Discounted Price  \\\n",
       "0                    দেয়াল  হুমায়ূন আহমেদ             450               315   \n",
       "1            শম্পা কী চায়?     এশরার লতিফ             350               301   \n",
       "2                 ইনসমনিয়া    ফরহাদ হোসেন             320               275   \n",
       "3      সাতপুরুষে খেদু মিয়া     অসীম হিমেল             580               499   \n",
       "4  হুমায়ূন আহমেদ রচনাবলী ২  হুমায়ূন আহমেদ             800               688   \n",
       "\n",
       "   Rating  Discount_Amount  Discount_Percentage  Title_Length  \\\n",
       "0   431.0              135            30.000000             5   \n",
       "1    11.0               49            14.000000            13   \n",
       "2     3.0               45            14.062500             8   \n",
       "3     5.0               81            13.965517            19   \n",
       "4    11.0              112            14.000000            23   \n",
       "\n",
       "  Discount_Category  \n",
       "0            Medium  \n",
       "1               Low  \n",
       "2               Low  \n",
       "3               Low  \n",
       "4               Low  "
      ]
     },
     "execution_count": 20,
     "metadata": {},
     "output_type": "execute_result"
    }
   ],
   "source": [
    "df.head()"
   ]
  },
  {
   "cell_type": "code",
   "execution_count": 21,
   "id": "767834c5",
   "metadata": {},
   "outputs": [
    {
     "data": {
      "text/plain": [
       "Title                  0\n",
       "Author                 0\n",
       "Original Price         0\n",
       "Discounted Price       0\n",
       "Rating                 0\n",
       "Discount_Amount        0\n",
       "Discount_Percentage    0\n",
       "Title_Length           0\n",
       "Discount_Category      0\n",
       "dtype: int64"
      ]
     },
     "execution_count": 21,
     "metadata": {},
     "output_type": "execute_result"
    }
   ],
   "source": [
    "df.isnull().sum()"
   ]
  },
  {
   "cell_type": "code",
   "execution_count": 22,
   "id": "908f4efc",
   "metadata": {},
   "outputs": [],
   "source": [
    "from sklearn.model_selection import train_test_split\n",
    "from sklearn.ensemble import RandomForestRegressor\n",
    "from sklearn.preprocessing import LabelEncoder\n",
    "from sklearn.metrics import mean_squared_error, r2_score"
   ]
  },
  {
   "cell_type": "code",
   "execution_count": 23,
   "id": "ee8ed8f5",
   "metadata": {},
   "outputs": [],
   "source": [
    "# Encode categorical features\n",
    "label_encoder = LabelEncoder()\n",
    "df['Discount_Category'] = label_encoder.fit_transform(df['Discount_Category'])"
   ]
  },
  {
   "cell_type": "code",
   "execution_count": 24,
   "id": "62b9bb47",
   "metadata": {},
   "outputs": [
    {
     "data": {
      "text/plain": [
       "Index(['Title', 'Author', 'Original Price', 'Discounted Price', 'Rating',\n",
       "       'Discount_Amount', 'Discount_Percentage', 'Title_Length',\n",
       "       'Discount_Category'],\n",
       "      dtype='object')"
      ]
     },
     "execution_count": 24,
     "metadata": {},
     "output_type": "execute_result"
    }
   ],
   "source": [
    "df.columns"
   ]
  }
 ],
 "metadata": {
  "kernelspec": {
   "display_name": "Python 3 (ipykernel)",
   "language": "python",
   "name": "python3"
  },
  "language_info": {
   "codemirror_mode": {
    "name": "ipython",
    "version": 3
   },
   "file_extension": ".py",
   "mimetype": "text/x-python",
   "name": "python",
   "nbconvert_exporter": "python",
   "pygments_lexer": "ipython3",
   "version": "3.11.5"
  }
 },
 "nbformat": 4,
 "nbformat_minor": 5
}
