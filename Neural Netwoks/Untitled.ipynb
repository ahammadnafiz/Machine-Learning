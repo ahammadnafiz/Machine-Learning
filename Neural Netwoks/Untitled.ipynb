{
 "cells": [
  {
   "cell_type": "code",
   "execution_count": 3,
   "id": "1edab2c3",
   "metadata": {},
   "outputs": [
    {
     "ename": "ValueError",
     "evalue": "too many values to unpack (expected 2)",
     "output_type": "error",
     "traceback": [
      "\u001b[1;31m---------------------------------------------------------------------------\u001b[0m",
      "\u001b[1;31mValueError\u001b[0m                                Traceback (most recent call last)",
      "Cell \u001b[1;32mIn[3], line 32\u001b[0m\n\u001b[0;32m     29\u001b[0m dot\u001b[38;5;241m.\u001b[39mnode(\u001b[38;5;124m'\u001b[39m\u001b[38;5;124mO3\u001b[39m\u001b[38;5;124m'\u001b[39m, \u001b[38;5;124m'\u001b[39m\u001b[38;5;124mOutput O3\u001b[39m\u001b[38;5;124m'\u001b[39m)\n\u001b[0;32m     31\u001b[0m \u001b[38;5;66;03m# Add edges\u001b[39;00m\n\u001b[1;32m---> 32\u001b[0m dot\u001b[38;5;241m.\u001b[39medges([\u001b[38;5;124m'\u001b[39m\u001b[38;5;124mX1H1_1\u001b[39m\u001b[38;5;124m'\u001b[39m, \u001b[38;5;124m'\u001b[39m\u001b[38;5;124mX1H1_2\u001b[39m\u001b[38;5;124m'\u001b[39m, \u001b[38;5;124m'\u001b[39m\u001b[38;5;124mX1H1_3\u001b[39m\u001b[38;5;124m'\u001b[39m, \u001b[38;5;124m'\u001b[39m\u001b[38;5;124mX2H1_1\u001b[39m\u001b[38;5;124m'\u001b[39m, \u001b[38;5;124m'\u001b[39m\u001b[38;5;124mX2H1_2\u001b[39m\u001b[38;5;124m'\u001b[39m, \u001b[38;5;124m'\u001b[39m\u001b[38;5;124mX2H1_3\u001b[39m\u001b[38;5;124m'\u001b[39m, \u001b[38;5;124m'\u001b[39m\u001b[38;5;124mX3H1_1\u001b[39m\u001b[38;5;124m'\u001b[39m, \u001b[38;5;124m'\u001b[39m\u001b[38;5;124mX3H1_2\u001b[39m\u001b[38;5;124m'\u001b[39m, \u001b[38;5;124m'\u001b[39m\u001b[38;5;124mX3H1_3\u001b[39m\u001b[38;5;124m'\u001b[39m])\n\u001b[0;32m     33\u001b[0m dot\u001b[38;5;241m.\u001b[39medges([\u001b[38;5;124m'\u001b[39m\u001b[38;5;124mH1_1H2_1\u001b[39m\u001b[38;5;124m'\u001b[39m, \u001b[38;5;124m'\u001b[39m\u001b[38;5;124mH1_2H2_1\u001b[39m\u001b[38;5;124m'\u001b[39m, \u001b[38;5;124m'\u001b[39m\u001b[38;5;124mH1_3H2_1\u001b[39m\u001b[38;5;124m'\u001b[39m, \u001b[38;5;124m'\u001b[39m\u001b[38;5;124mH1_1H2_2\u001b[39m\u001b[38;5;124m'\u001b[39m, \u001b[38;5;124m'\u001b[39m\u001b[38;5;124mH1_2H2_2\u001b[39m\u001b[38;5;124m'\u001b[39m, \u001b[38;5;124m'\u001b[39m\u001b[38;5;124mH1_3H2_2\u001b[39m\u001b[38;5;124m'\u001b[39m, \u001b[38;5;124m'\u001b[39m\u001b[38;5;124mH1_1H2_3\u001b[39m\u001b[38;5;124m'\u001b[39m, \u001b[38;5;124m'\u001b[39m\u001b[38;5;124mH1_2H2_3\u001b[39m\u001b[38;5;124m'\u001b[39m, \u001b[38;5;124m'\u001b[39m\u001b[38;5;124mH1_3H2_3\u001b[39m\u001b[38;5;124m'\u001b[39m])\n\u001b[0;32m     34\u001b[0m dot\u001b[38;5;241m.\u001b[39medges([\u001b[38;5;124m'\u001b[39m\u001b[38;5;124mH2_1H3_1\u001b[39m\u001b[38;5;124m'\u001b[39m, \u001b[38;5;124m'\u001b[39m\u001b[38;5;124mH2_2H3_1\u001b[39m\u001b[38;5;124m'\u001b[39m, \u001b[38;5;124m'\u001b[39m\u001b[38;5;124mH2_3H3_1\u001b[39m\u001b[38;5;124m'\u001b[39m, \u001b[38;5;124m'\u001b[39m\u001b[38;5;124mH2_1H3_2\u001b[39m\u001b[38;5;124m'\u001b[39m, \u001b[38;5;124m'\u001b[39m\u001b[38;5;124mH2_2H3_2\u001b[39m\u001b[38;5;124m'\u001b[39m, \u001b[38;5;124m'\u001b[39m\u001b[38;5;124mH2_3H3_2\u001b[39m\u001b[38;5;124m'\u001b[39m, \u001b[38;5;124m'\u001b[39m\u001b[38;5;124mH2_1H3_3\u001b[39m\u001b[38;5;124m'\u001b[39m, \u001b[38;5;124m'\u001b[39m\u001b[38;5;124mH2_2H3_3\u001b[39m\u001b[38;5;124m'\u001b[39m, \u001b[38;5;124m'\u001b[39m\u001b[38;5;124mH2_3H3_3\u001b[39m\u001b[38;5;124m'\u001b[39m])\n",
      "File \u001b[1;32mD:\\anaconda\\Lib\\site-packages\\graphviz\\dot.py:254\u001b[0m, in \u001b[0;36mDot.edges\u001b[1;34m(self, tail_head_iter)\u001b[0m\n\u001b[0;32m    252\u001b[0m edge \u001b[38;5;241m=\u001b[39m \u001b[38;5;28mself\u001b[39m\u001b[38;5;241m.\u001b[39m_edge_plain\n\u001b[0;32m    253\u001b[0m quote \u001b[38;5;241m=\u001b[39m \u001b[38;5;28mself\u001b[39m\u001b[38;5;241m.\u001b[39m_quote_edge\n\u001b[1;32m--> 254\u001b[0m \u001b[38;5;28mself\u001b[39m\u001b[38;5;241m.\u001b[39mbody \u001b[38;5;241m+\u001b[39m\u001b[38;5;241m=\u001b[39m [edge(tail\u001b[38;5;241m=\u001b[39mquote(t), head\u001b[38;5;241m=\u001b[39mquote(h))\n\u001b[0;32m    255\u001b[0m               \u001b[38;5;28;01mfor\u001b[39;00m t, h \u001b[38;5;129;01min\u001b[39;00m tail_head_iter]\n",
      "File \u001b[1;32mD:\\anaconda\\Lib\\site-packages\\graphviz\\dot.py:255\u001b[0m, in \u001b[0;36m<listcomp>\u001b[1;34m(.0)\u001b[0m\n\u001b[0;32m    252\u001b[0m edge \u001b[38;5;241m=\u001b[39m \u001b[38;5;28mself\u001b[39m\u001b[38;5;241m.\u001b[39m_edge_plain\n\u001b[0;32m    253\u001b[0m quote \u001b[38;5;241m=\u001b[39m \u001b[38;5;28mself\u001b[39m\u001b[38;5;241m.\u001b[39m_quote_edge\n\u001b[0;32m    254\u001b[0m \u001b[38;5;28mself\u001b[39m\u001b[38;5;241m.\u001b[39mbody \u001b[38;5;241m+\u001b[39m\u001b[38;5;241m=\u001b[39m [edge(tail\u001b[38;5;241m=\u001b[39mquote(t), head\u001b[38;5;241m=\u001b[39mquote(h))\n\u001b[1;32m--> 255\u001b[0m               \u001b[38;5;28;01mfor\u001b[39;00m t, h \u001b[38;5;129;01min\u001b[39;00m tail_head_iter]\n",
      "\u001b[1;31mValueError\u001b[0m: too many values to unpack (expected 2)"
     ]
    }
   ],
   "source": [
    "from graphviz import Digraph\n",
    "\n",
    "# Create a new directed graph\n",
    "dot = Digraph()\n",
    "\n",
    "# Input layer\n",
    "dot.node('X1', 'Input X1')\n",
    "dot.node('X2', 'Input X2')\n",
    "dot.node('X3', 'Input X3')\n",
    "\n",
    "# Hidden layer 1\n",
    "dot.node('H1_1', 'H1 Neuron 1')\n",
    "dot.node('H1_2', 'H1 Neuron 2')\n",
    "dot.node('H1_3', 'H1 Neuron 3')\n",
    "\n",
    "# Hidden layer 2\n",
    "dot.node('H2_1', 'H2 Neuron 1')\n",
    "dot.node('H2_2', 'H2 Neuron 2')\n",
    "dot.node('H2_3', 'H2 Neuron 3')\n",
    "\n",
    "# Hidden layer 3\n",
    "dot.node('H3_1', 'H3 Neuron 1')\n",
    "dot.node('H3_2', 'H3 Neuron 2')\n",
    "dot.node('H3_3', 'H3 Neuron 3')\n",
    "\n",
    "# Output layer\n",
    "dot.node('O1', 'Output O1')\n",
    "dot.node('O2', 'Output O2')\n",
    "dot.node('O3', 'Output O3')\n",
    "\n",
    "# Add edges\n",
    "dot.edges(['X1H1_1', 'X1H1_2', 'X1H1_3', 'X2H1_1', 'X2H1_2', 'X2H1_3', 'X3H1_1', 'X3H1_2', 'X3H1_3'])\n",
    "dot.edges(['H1_1H2_1', 'H1_2H2_1', 'H1_3H2_1', 'H1_1H2_2', 'H1_2H2_2', 'H1_3H2_2', 'H1_1H2_3', 'H1_2H2_3', 'H1_3H2_3'])\n",
    "dot.edges(['H2_1H3_1', 'H2_2H3_1', 'H2_3H3_1', 'H2_1H3_2', 'H2_2H3_2', 'H2_3H3_2', 'H2_1H3_3', 'H2_2H3_3', 'H2_3H3_3'])\n",
    "dot.edges(['H3_1O1', 'H3_2O1', 'H3_3O1', 'H3_1O2', 'H3_2O2', 'H3_3O2', 'H3_1O3', 'H3_2O3', 'H3_3O3'])\n",
    "\n",
    "# Render the graph\n",
    "dot.render('neural_network', format='png', cleanup=True)\n"
   ]
  }
 ],
 "metadata": {
  "kernelspec": {
   "display_name": "Python 3 (ipykernel)",
   "language": "python",
   "name": "python3"
  },
  "language_info": {
   "codemirror_mode": {
    "name": "ipython",
    "version": 3
   },
   "file_extension": ".py",
   "mimetype": "text/x-python",
   "name": "python",
   "nbconvert_exporter": "python",
   "pygments_lexer": "ipython3",
   "version": "3.11.5"
  }
 },
 "nbformat": 4,
 "nbformat_minor": 5
}
