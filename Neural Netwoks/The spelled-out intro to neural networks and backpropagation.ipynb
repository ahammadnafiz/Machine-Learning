{
 "cells": [
  {
   "cell_type": "code",
   "execution_count": 1,
   "id": "04e7b099",
   "metadata": {},
   "outputs": [],
   "source": [
    "import math\n",
    "import numpy as np\n",
    "import matplotlib.pyplot as plt"
   ]
  },
  {
   "cell_type": "code",
   "execution_count": 2,
   "id": "05200850",
   "metadata": {},
   "outputs": [],
   "source": [
    "def f(x):\n",
    "    return 3*x**2 - 4*x + 5"
   ]
  },
  {
   "cell_type": "code",
   "execution_count": 3,
   "id": "12918326",
   "metadata": {},
   "outputs": [
    {
     "data": {
      "text/plain": [
       "265"
      ]
     },
     "execution_count": 3,
     "metadata": {},
     "output_type": "execute_result"
    }
   ],
   "source": [
    "f(10)"
   ]
  },
  {
   "cell_type": "code",
   "execution_count": 4,
   "id": "3865012d",
   "metadata": {},
   "outputs": [
    {
     "data": {
      "image/png": "[encoded data removed]",
      "text/plain": [
       "<Figure size 600x400 with 1 Axes>"
      ]
     },
     "metadata": {},
     "output_type": "display_data"
    }
   ],
   "source": [
    "ranges = np.linspace(-100, 100, 1000)\n",
    "plt.figure(figsize=(6, 4))\n",
    "plt.plot(ranges, f(ranges))\n",
    "plt.show()"
   ]
  },
  {
   "cell_type": "code",
   "execution_count": 5,
   "id": "10fead83",
   "metadata": {},
   "outputs": [
    {
     "data": {
      "text/plain": [
       "0.0"
      ]
     },
     "execution_count": 5,
     "metadata": {},
     "output_type": "execute_result"
    }
   ],
   "source": [
    "h = 0.0000000001\n",
    "x = 2/3\n",
    "(f(x + h) - f(x)) / h"
   ]
  },
  {
   "cell_type": "code",
   "execution_count": 6,
   "id": "ff5d658f",
   "metadata": {},
   "outputs": [
    {
     "name": "stdout",
     "output_type": "stream",
     "text": [
      "4.0\n"
     ]
    }
   ],
   "source": [
    "# les get more complex\n",
    "a = 2.0\n",
    "b = -3.0\n",
    "c = 10.0\n",
    "d = a*b + c\n",
    "print(d)"
   ]
  },
  {
   "cell_type": "code",
   "execution_count": 7,
   "id": "0f748c0e",
   "metadata": {},
   "outputs": [
    {
     "name": "stdout",
     "output_type": "stream",
     "text": [
      "4.0\n",
      "3.999699999999999\n",
      "-3.000000000010772\n"
     ]
    }
   ],
   "source": [
    "h = 0.0001\n",
    "#respect to a\n",
    "a = 2.0\n",
    "b = -3.0\n",
    "c = 10.0\n",
    "d1 = a*b + c\n",
    "a += h\n",
    "d2 = a*b + c\n",
    "print(d1)\n",
    "print(d2)\n",
    "print((d2 -d1) / h)"
   ]
  },
  {
   "cell_type": "code",
   "execution_count": 8,
   "id": "8f7c925f",
   "metadata": {},
   "outputs": [
    {
     "name": "stdout",
     "output_type": "stream",
     "text": [
      "4.0\n",
      "4.0002\n",
      "2.0000000000042206\n"
     ]
    }
   ],
   "source": [
    "h = 0.0001\n",
    "#respect to b\n",
    "a = 2.0\n",
    "b = -3.0\n",
    "c = 10.0\n",
    "d1 = a*b + c\n",
    "b += h\n",
    "d2 = a*b + c\n",
    "print(d1)\n",
    "print(d2)\n",
    "print((d2 -d1) / h)"
   ]
  },
  {
   "cell_type": "code",
   "execution_count": 9,
   "id": "657dacc1",
   "metadata": {},
   "outputs": [
    {
     "name": "stdout",
     "output_type": "stream",
     "text": [
      "4.0\n",
      "4.0001\n",
      "0.9999999999976694\n"
     ]
    }
   ],
   "source": [
    "h = 0.0001\n",
    "#respect to c\n",
    "a = 2.0\n",
    "b = -3.0\n",
    "c = 10.0\n",
    "d1 = a*b + c\n",
    "c += h\n",
    "d2 = a*b + c\n",
    "print(d1)\n",
    "print(d2)\n",
    "print((d2 -d1) / h)"
   ]
  },
  {
   "cell_type": "code",
   "execution_count": 76,
   "id": "34507d59",
   "metadata": {},
   "outputs": [],
   "source": [
    "import math\n",
    "\n",
    "class Value:\n",
    "    def __init__(self, data, _children=(), _op='', label=''):\n",
    "        self.data = data\n",
    "        self.grad = 0.0\n",
    "        self._backward = lambda: None\n",
    "        self._prev = set(_children)\n",
    "        self._op = _op\n",
    "        self.label = label\n",
    "\n",
    "    def __repr__(self):\n",
    "        return f\"Value(data={self.data}, label={self.label})\"\n",
    "\n",
    "    def __add__(self, other):\n",
    "        out = Value(self.data + other.data, (self, other), '+')\n",
    "\n",
    "        def _backward():\n",
    "            self.grad += 1.0 * out.grad\n",
    "            other.grad += 1.0 * out.grad\n",
    "        out._backward = _backward\n",
    "\n",
    "        return out\n",
    "\n",
    "    def __mul__(self, other):\n",
    "        out = Value(self.data * other.data, (self, other), '*')\n",
    "\n",
    "        def _backward():\n",
    "            self.grad += other.data * out.grad\n",
    "            other.grad += self.data * out.grad\n",
    "        out._backward = _backward\n",
    "\n",
    "        return out\n",
    "\n",
    "    def tanh(self):\n",
    "        x = self.data\n",
    "        t = (math.exp(2*x) - 1)/(math.exp(2*x) + 1)\n",
    "        out = Value(t, (self,), 'tanh')\n",
    "\n",
    "        def _backward():\n",
    "            self.grad += (1 - t**2) * out.grad\n",
    "        out._backward = _backward\n",
    "\n",
    "        return out\n",
    "    \n",
    "    def backward(self):\n",
    "        topo = []\n",
    "        visited = set()\n",
    "\n",
    "        # Build the topological order of the computation graph.\n",
    "        def build_topo(v):\n",
    "            if v not in visited:\n",
    "                visited.add(v)\n",
    "                for child in v._prev:\n",
    "                    build_topo(child)\n",
    "                topo.append(v)\n",
    "\n",
    "        build_topo(self)\n",
    "\n",
    "        # Set the gradient of the output node to 1\n",
    "        self.grad = 1.0\n",
    "\n",
    "        # Propagate gradients in reverse order\n",
    "        for v in reversed(topo):\n",
    "            v._backward()"
   ]
  },
  {
   "cell_type": "code",
   "execution_count": 16,
   "id": "29b22989",
   "metadata": {},
   "outputs": [
    {
     "data": {
      "text/plain": [
       "Value: (data = -8.0)"
      ]
     },
     "execution_count": 16,
     "metadata": {},
     "output_type": "execute_result"
    }
   ],
   "source": [
    "a = Value(2.0, label='a')\n",
    "b = Value(-3.0, label='b')\n",
    "c = Value(10.0, label='c')\n",
    "e = a*b; e.label = 'e'\n",
    "d = e + c; d.label = 'd'\n",
    "f = Value(-2.0, label='f')\n",
    "L = d * f; L.label = 'L'\n",
    "L"
   ]
  },
  {
   "cell_type": "code",
   "execution_count": 18,
   "id": "cd86b0df",
   "metadata": {},
   "outputs": [],
   "source": [
    "from graphviz import Digraph\n",
    "\n",
    "def trace(root):\n",
    "    # builds a set of all nodes and edges in a graph\n",
    "    nodes, edges = set(), set()\n",
    "    \n",
    "    def build(v):\n",
    "        if v not in nodes:\n",
    "            nodes.add(v)\n",
    "            for child in v._prev:  # Assuming `v._prev` is the set of parent nodes\n",
    "                edges.add((child, v))\n",
    "                build(child)\n",
    "    \n",
    "    build(root)\n",
    "    return nodes, edges\n",
    "\n",
    "def draw_dot(root):\n",
    "    dot = Digraph(format='svg', graph_attr={'rankdir': 'LR'})  # LR = left to right\n",
    "    nodes, edges = trace(root)\n",
    "\n",
    "    for n in nodes:\n",
    "        uid = str(id(n))\n",
    "        # for any value in the graph, create a rectangular ('record') node for it\n",
    "        dot.node(name=uid, label=\"{ %s | data %.4f | grad %.4f }\" % (n.label, n.data, n.grad), shape='record')\n",
    "        if n._op:\n",
    "            # if this value is a result of some operation, create an op node for it\n",
    "            dot.node(name=uid + n._op, label=n._op)\n",
    "            # and connect this node to it\n",
    "            dot.edge(uid + n._op, uid)\n",
    "\n",
    "    for n1, n2 in edges:\n",
    "        # connect n1 to the op node of n2\n",
    "        dot.edge(str(id(n1)), str(id(n2)) + n2._op)\n",
    "\n",
    "    return dot"
   ]
  },
  {
   "cell_type": "code",
   "execution_count": 23,
   "id": "d50ab6bf",
   "metadata": {},
   "outputs": [],
   "source": [
    "L.grad = 1"
   ]
  },
  {
   "cell_type": "code",
   "execution_count": 25,
   "id": "6f36ad1e",
   "metadata": {},
   "outputs": [],
   "source": [
    "f.grad = 4.0\n",
    "d.grad = -2"
   ]
  },
  {
   "cell_type": "code",
   "execution_count": 35,
   "id": "49505605",
   "metadata": {},
   "outputs": [],
   "source": [
    "e.grad = -2\n",
    "c.grad = -2"
   ]
  },
  {
   "cell_type": "code",
   "execution_count": 39,
   "id": "67e61338",
   "metadata": {},
   "outputs": [],
   "source": [
    "a.grad = 6\n",
    "b.grad = -4"
   ]
  },
  {
   "cell_type": "code",
   "execution_count": 70,
   "id": "d8530746",
   "metadata": {},
   "outputs": [
    {
     "name": "stdout",
     "output_type": "stream",
     "text": [
      "-3.9999999999995595\n"
     ]
    }
   ],
   "source": [
    "def lol():\n",
    "    h = 0.001\n",
    "    \n",
    "    a = Value(2.0, label='a')\n",
    "    b = Value(-3.0, label='b')\n",
    "    c = Value(10.0, label='c')\n",
    "    e = a*b; e.label = 'e'\n",
    "    d = e + c; d.label = 'd'\n",
    "    f = Value(-2.0, label='f')\n",
    "    L = d * f; L.label = 'L'\n",
    "    L1 = L.data\n",
    "    \n",
    "    a = Value(2.0, label='a')\n",
    "    b = Value(-3.0, label='b')\n",
    "    c = Value(10.0, label='c')\n",
    "    b.data += h\n",
    "    e = a*b; e.label = 'e'\n",
    "    d = e + c; d.label = 'd'\n",
    "    f = Value(-2.0, label='f')\n",
    "    L = d * f; L.label = 'L'\n",
    "    L2 = L.data\n",
    "    \n",
    "    print((L2 - L1)/h)\n",
    "    \n",
    "lol()"
   ]
  },
  {
   "cell_type": "code",
   "execution_count": 71,
   "id": "ebc84061",
   "metadata": {},
   "outputs": [
    {
     "data": {
      "image/svg+xml": [
       "<?xml version=\"1.0\" encoding=\"UTF-8\" standalone=\"no\"?>\n",
       "<!DOCTYPE svg PUBLIC \"-//W3C//DTD SVG 1.1//EN\"\n",
       " \"http://www.w3.org/Graphics/SVG/1.1/DTD/svg11.dtd\">\n",
       "<!-- Generated by graphviz version 2.46.0 (20210118.1747)\n",
       " -->\n",
       "<!-- Pages: 1 -->\n",
       "<svg width=\"1153pt\" height=\"154pt\"\n",
       " viewBox=\"0.00 0.00 1153.00 154.00\" xmlns=\"http://www.w3.org/2000/svg\" xmlns:xlink=\"http://www.w3.org/1999/xlink\">\n",
       "<g id=\"graph0\" class=\"graph\" transform=\"scale(1 1) rotate(0) translate(4 150)\">\n",
       "<polygon fill=\"white\" stroke=\"transparent\" points=\"-4,4 -4,-150 1149,-150 1149,4 -4,4\"/>\n",
       "<!-- 2932459897424 -->\n",
       "<g id=\"node1\" class=\"node\">\n",
       "<title>2932459897424</title>\n",
       "<polygon fill=\"none\" stroke=\"black\" points=\"324,-27.5 324,-63.5 513,-63.5 513,-27.5 324,-27.5\"/>\n",
       "<text text-anchor=\"middle\" x=\"334\" y=\"-41.8\" font-family=\"Times New Roman,serif\" font-size=\"14.00\"> </text>\n",
       "<polyline fill=\"none\" stroke=\"black\" points=\"344,-27.5 344,-63.5 \"/>\n",
       "<text text-anchor=\"middle\" x=\"387\" y=\"-41.8\" font-family=\"Times New Roman,serif\" font-size=\"14.00\">data &#45;6.2624</text>\n",
       "<polyline fill=\"none\" stroke=\"black\" points=\"430,-27.5 430,-63.5 \"/>\n",
       "<text text-anchor=\"middle\" x=\"471.5\" y=\"-41.8\" font-family=\"Times New Roman,serif\" font-size=\"14.00\">grad 0.0000</text>\n",
       "</g>\n",
       "<!-- 2932459999056+ -->\n",
       "<g id=\"node7\" class=\"node\">\n",
       "<title>2932459999056+</title>\n",
       "<ellipse fill=\"none\" stroke=\"black\" cx=\"577\" cy=\"-72.5\" rx=\"27\" ry=\"18\"/>\n",
       "<text text-anchor=\"middle\" x=\"577\" y=\"-68.8\" font-family=\"Times New Roman,serif\" font-size=\"14.00\">+</text>\n",
       "</g>\n",
       "<!-- 2932459897424&#45;&gt;2932459999056+ -->\n",
       "<g id=\"edge6\" class=\"edge\">\n",
       "<title>2932459897424&#45;&gt;2932459999056+</title>\n",
       "<path fill=\"none\" stroke=\"black\" d=\"M513.25,-61.67C522.86,-63.33 532.15,-64.93 540.5,-66.37\"/>\n",
       "<polygon fill=\"black\" stroke=\"black\" points=\"540.08,-69.85 550.53,-68.11 541.27,-62.96 540.08,-69.85\"/>\n",
       "</g>\n",
       "<!-- 2932459897424* -->\n",
       "<g id=\"node2\" class=\"node\">\n",
       "<title>2932459897424*</title>\n",
       "<ellipse fill=\"none\" stroke=\"black\" cx=\"260\" cy=\"-45.5\" rx=\"27\" ry=\"18\"/>\n",
       "<text text-anchor=\"middle\" x=\"260\" y=\"-41.8\" font-family=\"Times New Roman,serif\" font-size=\"14.00\">*</text>\n",
       "</g>\n",
       "<!-- 2932459897424*&#45;&gt;2932459897424 -->\n",
       "<g id=\"edge1\" class=\"edge\">\n",
       "<title>2932459897424*&#45;&gt;2932459897424</title>\n",
       "<path fill=\"none\" stroke=\"black\" d=\"M287.19,-45.5C294.94,-45.5 303.94,-45.5 313.52,-45.5\"/>\n",
       "<polygon fill=\"black\" stroke=\"black\" points=\"313.68,-49 323.68,-45.5 313.68,-42 313.68,-49\"/>\n",
       "</g>\n",
       "<!-- 2932460292816 -->\n",
       "<g id=\"node3\" class=\"node\">\n",
       "<title>2932460292816</title>\n",
       "<polygon fill=\"none\" stroke=\"black\" points=\"956,-81.5 956,-117.5 1145,-117.5 1145,-81.5 956,-81.5\"/>\n",
       "<text text-anchor=\"middle\" x=\"966\" y=\"-95.8\" font-family=\"Times New Roman,serif\" font-size=\"14.00\"> </text>\n",
       "<polyline fill=\"none\" stroke=\"black\" points=\"976,-81.5 976,-117.5 \"/>\n",
       "<text text-anchor=\"middle\" x=\"1019\" y=\"-95.8\" font-family=\"Times New Roman,serif\" font-size=\"14.00\">data &#45;7.2865</text>\n",
       "<polyline fill=\"none\" stroke=\"black\" points=\"1062,-81.5 1062,-117.5 \"/>\n",
       "<text text-anchor=\"middle\" x=\"1103.5\" y=\"-95.8\" font-family=\"Times New Roman,serif\" font-size=\"14.00\">grad 0.0000</text>\n",
       "</g>\n",
       "<!-- 2932460292816* -->\n",
       "<g id=\"node4\" class=\"node\">\n",
       "<title>2932460292816*</title>\n",
       "<ellipse fill=\"none\" stroke=\"black\" cx=\"893\" cy=\"-99.5\" rx=\"27\" ry=\"18\"/>\n",
       "<text text-anchor=\"middle\" x=\"893\" y=\"-95.8\" font-family=\"Times New Roman,serif\" font-size=\"14.00\">*</text>\n",
       "</g>\n",
       "<!-- 2932460292816*&#45;&gt;2932460292816 -->\n",
       "<g id=\"edge2\" class=\"edge\">\n",
       "<title>2932460292816*&#45;&gt;2932460292816</title>\n",
       "<path fill=\"none\" stroke=\"black\" d=\"M920.03,-99.5C927.66,-99.5 936.52,-99.5 945.94,-99.5\"/>\n",
       "<polygon fill=\"black\" stroke=\"black\" points=\"945.94,-103 955.94,-99.5 945.94,-96 945.94,-103\"/>\n",
       "</g>\n",
       "<!-- 2932426102480 -->\n",
       "<g id=\"node5\" class=\"node\">\n",
       "<title>2932426102480</title>\n",
       "<polygon fill=\"none\" stroke=\"black\" points=\"323,-82.5 323,-118.5 514,-118.5 514,-82.5 323,-82.5\"/>\n",
       "<text text-anchor=\"middle\" x=\"334.5\" y=\"-96.8\" font-family=\"Times New Roman,serif\" font-size=\"14.00\">c</text>\n",
       "<polyline fill=\"none\" stroke=\"black\" points=\"346,-82.5 346,-118.5 \"/>\n",
       "<text text-anchor=\"middle\" x=\"386.5\" y=\"-96.8\" font-family=\"Times New Roman,serif\" font-size=\"14.00\">data 9.9800</text>\n",
       "<polyline fill=\"none\" stroke=\"black\" points=\"427,-82.5 427,-118.5 \"/>\n",
       "<text text-anchor=\"middle\" x=\"470.5\" y=\"-96.8\" font-family=\"Times New Roman,serif\" font-size=\"14.00\">grad &#45;2.0000</text>\n",
       "</g>\n",
       "<!-- 2932426102480&#45;&gt;2932459999056+ -->\n",
       "<g id=\"edge8\" class=\"edge\">\n",
       "<title>2932426102480&#45;&gt;2932459999056+</title>\n",
       "<path fill=\"none\" stroke=\"black\" d=\"M514.15,-83.57C523.46,-81.9 532.44,-80.29 540.54,-78.84\"/>\n",
       "<polygon fill=\"black\" stroke=\"black\" points=\"541.41,-82.24 550.64,-77.04 540.18,-75.35 541.41,-82.24\"/>\n",
       "</g>\n",
       "<!-- 2932459999056 -->\n",
       "<g id=\"node6\" class=\"node\">\n",
       "<title>2932459999056</title>\n",
       "<polygon fill=\"none\" stroke=\"black\" points=\"643,-54.5 643,-90.5 827,-90.5 827,-54.5 643,-54.5\"/>\n",
       "<text text-anchor=\"middle\" x=\"653\" y=\"-68.8\" font-family=\"Times New Roman,serif\" font-size=\"14.00\"> </text>\n",
       "<polyline fill=\"none\" stroke=\"black\" points=\"663,-54.5 663,-90.5 \"/>\n",
       "<text text-anchor=\"middle\" x=\"703.5\" y=\"-68.8\" font-family=\"Times New Roman,serif\" font-size=\"14.00\">data 3.7176</text>\n",
       "<polyline fill=\"none\" stroke=\"black\" points=\"744,-54.5 744,-90.5 \"/>\n",
       "<text text-anchor=\"middle\" x=\"785.5\" y=\"-68.8\" font-family=\"Times New Roman,serif\" font-size=\"14.00\">grad 0.0000</text>\n",
       "</g>\n",
       "<!-- 2932459999056&#45;&gt;2932460292816* -->\n",
       "<g id=\"edge5\" class=\"edge\">\n",
       "<title>2932459999056&#45;&gt;2932460292816*</title>\n",
       "<path fill=\"none\" stroke=\"black\" d=\"M827.2,-88.28C837.55,-90.08 847.58,-91.81 856.54,-93.36\"/>\n",
       "<polygon fill=\"black\" stroke=\"black\" points=\"856.06,-96.83 866.51,-95.09 857.25,-89.93 856.06,-96.83\"/>\n",
       "</g>\n",
       "<!-- 2932459999056+&#45;&gt;2932459999056 -->\n",
       "<g id=\"edge3\" class=\"edge\">\n",
       "<title>2932459999056+&#45;&gt;2932459999056</title>\n",
       "<path fill=\"none\" stroke=\"black\" d=\"M604.11,-72.5C612.46,-72.5 622.26,-72.5 632.67,-72.5\"/>\n",
       "<polygon fill=\"black\" stroke=\"black\" points=\"632.81,-76 642.81,-72.5 632.81,-69 632.81,-76\"/>\n",
       "</g>\n",
       "<!-- 2932416875920 -->\n",
       "<g id=\"node8\" class=\"node\">\n",
       "<title>2932416875920</title>\n",
       "<polygon fill=\"none\" stroke=\"black\" points=\"5,-55.5 5,-91.5 192,-91.5 192,-55.5 5,-55.5\"/>\n",
       "<text text-anchor=\"middle\" x=\"16.5\" y=\"-69.8\" font-family=\"Times New Roman,serif\" font-size=\"14.00\">a</text>\n",
       "<polyline fill=\"none\" stroke=\"black\" points=\"28,-55.5 28,-91.5 \"/>\n",
       "<text text-anchor=\"middle\" x=\"68.5\" y=\"-69.8\" font-family=\"Times New Roman,serif\" font-size=\"14.00\">data 2.0600</text>\n",
       "<polyline fill=\"none\" stroke=\"black\" points=\"109,-55.5 109,-91.5 \"/>\n",
       "<text text-anchor=\"middle\" x=\"150.5\" y=\"-69.8\" font-family=\"Times New Roman,serif\" font-size=\"14.00\">grad 6.0000</text>\n",
       "</g>\n",
       "<!-- 2932416875920&#45;&gt;2932459897424* -->\n",
       "<g id=\"edge7\" class=\"edge\">\n",
       "<title>2932416875920&#45;&gt;2932459897424*</title>\n",
       "<path fill=\"none\" stroke=\"black\" d=\"M192.28,-57.21C203.34,-55.27 214.05,-53.39 223.53,-51.73\"/>\n",
       "<polygon fill=\"black\" stroke=\"black\" points=\"224.43,-55.12 233.68,-49.95 223.22,-48.23 224.43,-55.12\"/>\n",
       "</g>\n",
       "<!-- 2932426429392 -->\n",
       "<g id=\"node9\" class=\"node\">\n",
       "<title>2932426429392</title>\n",
       "<polygon fill=\"none\" stroke=\"black\" points=\"0,-0.5 0,-36.5 197,-36.5 197,-0.5 0,-0.5\"/>\n",
       "<text text-anchor=\"middle\" x=\"12\" y=\"-14.8\" font-family=\"Times New Roman,serif\" font-size=\"14.00\">b</text>\n",
       "<polyline fill=\"none\" stroke=\"black\" points=\"24,-0.5 24,-36.5 \"/>\n",
       "<text text-anchor=\"middle\" x=\"67\" y=\"-14.8\" font-family=\"Times New Roman,serif\" font-size=\"14.00\">data &#45;3.0400</text>\n",
       "<polyline fill=\"none\" stroke=\"black\" points=\"110,-0.5 110,-36.5 \"/>\n",
       "<text text-anchor=\"middle\" x=\"153.5\" y=\"-14.8\" font-family=\"Times New Roman,serif\" font-size=\"14.00\">grad &#45;4.0000</text>\n",
       "</g>\n",
       "<!-- 2932426429392&#45;&gt;2932459897424* -->\n",
       "<g id=\"edge4\" class=\"edge\">\n",
       "<title>2932426429392&#45;&gt;2932459897424*</title>\n",
       "<path fill=\"none\" stroke=\"black\" d=\"M197.33,-35.06C206.57,-36.62 215.46,-38.13 223.49,-39.49\"/>\n",
       "<polygon fill=\"black\" stroke=\"black\" points=\"223.04,-42.96 233.48,-41.18 224.21,-36.06 223.04,-42.96\"/>\n",
       "</g>\n",
       "<!-- 2932426917328 -->\n",
       "<g id=\"node10\" class=\"node\">\n",
       "<title>2932426917328</title>\n",
       "<polygon fill=\"none\" stroke=\"black\" points=\"640,-109.5 640,-145.5 830,-145.5 830,-109.5 640,-109.5\"/>\n",
       "<text text-anchor=\"middle\" x=\"650.5\" y=\"-123.8\" font-family=\"Times New Roman,serif\" font-size=\"14.00\">f</text>\n",
       "<polyline fill=\"none\" stroke=\"black\" points=\"661,-109.5 661,-145.5 \"/>\n",
       "<text text-anchor=\"middle\" x=\"704\" y=\"-123.8\" font-family=\"Times New Roman,serif\" font-size=\"14.00\">data &#45;1.9600</text>\n",
       "<polyline fill=\"none\" stroke=\"black\" points=\"747,-109.5 747,-145.5 \"/>\n",
       "<text text-anchor=\"middle\" x=\"788.5\" y=\"-123.8\" font-family=\"Times New Roman,serif\" font-size=\"14.00\">grad 4.0000</text>\n",
       "</g>\n",
       "<!-- 2932426917328&#45;&gt;2932460292816* -->\n",
       "<g id=\"edge9\" class=\"edge\">\n",
       "<title>2932426917328&#45;&gt;2932460292816*</title>\n",
       "<path fill=\"none\" stroke=\"black\" d=\"M830.34,-110.57C839.62,-108.9 848.58,-107.29 856.66,-105.84\"/>\n",
       "<polygon fill=\"black\" stroke=\"black\" points=\"857.49,-109.25 866.72,-104.04 856.26,-102.36 857.49,-109.25\"/>\n",
       "</g>\n",
       "</g>\n",
       "</svg>\n"
      ],
      "text/plain": [
       "<graphviz.graphs.Digraph at 0x2aac4525290>"
      ]
     },
     "execution_count": 71,
     "metadata": {},
     "output_type": "execute_result"
    }
   ],
   "source": [
    "draw_dot(L)"
   ]
  },
  {
   "cell_type": "code",
   "execution_count": 41,
   "id": "e1ce1240",
   "metadata": {},
   "outputs": [
    {
     "name": "stdout",
     "output_type": "stream",
     "text": [
      "-7.286496\n"
     ]
    }
   ],
   "source": [
    "a.data += 0.01 * a.grad\n",
    "b.data += 0.01 * b.grad\n",
    "c.data += 0.01 * c.grad\n",
    "f.data += 0.01 * f.grad\n",
    "\n",
    "e = a * b\n",
    "d = e + c\n",
    "L = d * f\n",
    "\n",
    "print(L.data)"
   ]
  },
  {
   "cell_type": "code",
   "execution_count": 43,
   "id": "ae42038d",
   "metadata": {},
   "outputs": [
    {
     "data": {
      "image/png": "[encoded data removed]",
      "text/plain": [
       "<Figure size 640x480 with 1 Axes>"
      ]
     },
     "metadata": {},
     "output_type": "display_data"
    }
   ],
   "source": [
    "plt.plot(np.arange(-5,5,0.2), np.tanh(np.arange(-5,5,0.2))); plt.grid()"
   ]
  },
  {
   "cell_type": "code",
   "execution_count": 77,
   "id": "27726bbd",
   "metadata": {},
   "outputs": [],
   "source": [
    "# inputs x1,x2\n",
    "x1 = Value(2.0, label='x1')\n",
    "x2 = Value(0.0, label='x2')\n",
    "# weights w1,w2\n",
    "w1 = Value(-3.0, label='w1')\n",
    "w2 = Value(1.0, label='w2')\n",
    "# bias of the neuron\n",
    "b = Value(6.8813735870195432, label='b')\n",
    "# x1*w1 + x2*w2 + b\n",
    "x1w1 = x1*w1; x1w1.label = 'x1*w1'\n",
    "x2w2 = x2*w2; x2w2.label = 'x2*w2'\n",
    "x1w1x2w2 = x1w1 + x2w2; x1w1x2w2.label = 'x1*w1 + x2*w2'\n",
    "n = x1w1x2w2 + b; n.label = 'n'\n",
    "o = n.tanh(); o.label = 'o'"
   ]
  },
  {
   "cell_type": "code",
   "execution_count": 80,
   "id": "b7685093",
   "metadata": {
    "scrolled": true
   },
   "outputs": [
    {
     "data": {
      "image/svg+xml": [
       "<?xml version=\"1.0\" encoding=\"UTF-8\" standalone=\"no\"?>\n",
       "<!DOCTYPE svg PUBLIC \"-//W3C//DTD SVG 1.1//EN\"\n",
       " \"http://www.w3.org/Graphics/SVG/1.1/DTD/svg11.dtd\">\n",
       "<!-- Generated by graphviz version 2.46.0 (20210118.1747)\n",
       " -->\n",
       "<!-- Pages: 1 -->\n",
       "<svg width=\"1586pt\" height=\"210pt\"\n",
       " viewBox=\"0.00 0.00 1586.00 210.00\" xmlns=\"http://www.w3.org/2000/svg\" xmlns:xlink=\"http://www.w3.org/1999/xlink\">\n",
       "<g id=\"graph0\" class=\"graph\" transform=\"scale(1 1) rotate(0) translate(4 206)\">\n",
       "<polygon fill=\"white\" stroke=\"transparent\" points=\"-4,4 -4,-206 1582,-206 1582,4 -4,4\"/>\n",
       "<!-- 2932459510800 -->\n",
       "<g id=\"node1\" class=\"node\">\n",
       "<title>2932459510800</title>\n",
       "<polygon fill=\"none\" stroke=\"black\" points=\"330.5,-55.5 330.5,-91.5 547.5,-91.5 547.5,-55.5 330.5,-55.5\"/>\n",
       "<text text-anchor=\"middle\" x=\"357\" y=\"-69.8\" font-family=\"Times New Roman,serif\" font-size=\"14.00\">x2*w2</text>\n",
       "<polyline fill=\"none\" stroke=\"black\" points=\"383.5,-55.5 383.5,-91.5 \"/>\n",
       "<text text-anchor=\"middle\" x=\"424\" y=\"-69.8\" font-family=\"Times New Roman,serif\" font-size=\"14.00\">data 0.0000</text>\n",
       "<polyline fill=\"none\" stroke=\"black\" points=\"464.5,-55.5 464.5,-91.5 \"/>\n",
       "<text text-anchor=\"middle\" x=\"506\" y=\"-69.8\" font-family=\"Times New Roman,serif\" font-size=\"14.00\">grad 0.5000</text>\n",
       "</g>\n",
       "<!-- 2932429612304+ -->\n",
       "<g id=\"node11\" class=\"node\">\n",
       "<title>2932429612304+</title>\n",
       "<ellipse fill=\"none\" stroke=\"black\" cx=\"613\" cy=\"-100.5\" rx=\"27\" ry=\"18\"/>\n",
       "<text text-anchor=\"middle\" x=\"613\" y=\"-96.8\" font-family=\"Times New Roman,serif\" font-size=\"14.00\">+</text>\n",
       "</g>\n",
       "<!-- 2932459510800&#45;&gt;2932429612304+ -->\n",
       "<g id=\"edge14\" class=\"edge\">\n",
       "<title>2932459510800&#45;&gt;2932429612304+</title>\n",
       "<path fill=\"none\" stroke=\"black\" d=\"M547.95,-90.45C558.13,-92.04 567.86,-93.57 576.53,-94.93\"/>\n",
       "<polygon fill=\"black\" stroke=\"black\" points=\"576.12,-98.41 586.54,-96.5 577.2,-91.49 576.12,-98.41\"/>\n",
       "</g>\n",
       "<!-- 2932459510800* -->\n",
       "<g id=\"node2\" class=\"node\">\n",
       "<title>2932459510800*</title>\n",
       "<ellipse fill=\"none\" stroke=\"black\" cx=\"265\" cy=\"-73.5\" rx=\"27\" ry=\"18\"/>\n",
       "<text text-anchor=\"middle\" x=\"265\" y=\"-69.8\" font-family=\"Times New Roman,serif\" font-size=\"14.00\">*</text>\n",
       "</g>\n",
       "<!-- 2932459510800*&#45;&gt;2932459510800 -->\n",
       "<g id=\"edge1\" class=\"edge\">\n",
       "<title>2932459510800*&#45;&gt;2932459510800</title>\n",
       "<path fill=\"none\" stroke=\"black\" d=\"M292.12,-73.5C300.31,-73.5 309.94,-73.5 320.28,-73.5\"/>\n",
       "<polygon fill=\"black\" stroke=\"black\" points=\"320.39,-77 330.39,-73.5 320.39,-70 320.39,-77\"/>\n",
       "</g>\n",
       "<!-- 2932459897360 -->\n",
       "<g id=\"node3\" class=\"node\">\n",
       "<title>2932459897360</title>\n",
       "<polygon fill=\"none\" stroke=\"black\" points=\"2,-165.5 2,-201.5 200,-201.5 200,-165.5 2,-165.5\"/>\n",
       "<text text-anchor=\"middle\" x=\"17\" y=\"-179.8\" font-family=\"Times New Roman,serif\" font-size=\"14.00\">x1</text>\n",
       "<polyline fill=\"none\" stroke=\"black\" points=\"32,-165.5 32,-201.5 \"/>\n",
       "<text text-anchor=\"middle\" x=\"72.5\" y=\"-179.8\" font-family=\"Times New Roman,serif\" font-size=\"14.00\">data 2.0000</text>\n",
       "<polyline fill=\"none\" stroke=\"black\" points=\"113,-165.5 113,-201.5 \"/>\n",
       "<text text-anchor=\"middle\" x=\"156.5\" y=\"-179.8\" font-family=\"Times New Roman,serif\" font-size=\"14.00\">grad &#45;1.5000</text>\n",
       "</g>\n",
       "<!-- 2932459510736* -->\n",
       "<g id=\"node15\" class=\"node\">\n",
       "<title>2932459510736*</title>\n",
       "<ellipse fill=\"none\" stroke=\"black\" cx=\"265\" cy=\"-128.5\" rx=\"27\" ry=\"18\"/>\n",
       "<text text-anchor=\"middle\" x=\"265\" y=\"-124.8\" font-family=\"Times New Roman,serif\" font-size=\"14.00\">*</text>\n",
       "</g>\n",
       "<!-- 2932459897360&#45;&gt;2932459510736* -->\n",
       "<g id=\"edge10\" class=\"edge\">\n",
       "<title>2932459897360&#45;&gt;2932459510736*</title>\n",
       "<path fill=\"none\" stroke=\"black\" d=\"M174.26,-165.48C183.66,-162.7 193.11,-159.68 202,-156.5 212.53,-152.73 223.76,-147.91 233.72,-143.34\"/>\n",
       "<polygon fill=\"black\" stroke=\"black\" points=\"235.26,-146.49 242.83,-139.08 232.29,-140.15 235.26,-146.49\"/>\n",
       "</g>\n",
       "<!-- 2932430136464 -->\n",
       "<g id=\"node4\" class=\"node\">\n",
       "<title>2932430136464</title>\n",
       "<polygon fill=\"none\" stroke=\"black\" points=\"1390,-109.5 1390,-145.5 1578,-145.5 1578,-109.5 1390,-109.5\"/>\n",
       "<text text-anchor=\"middle\" x=\"1402\" y=\"-123.8\" font-family=\"Times New Roman,serif\" font-size=\"14.00\">o</text>\n",
       "<polyline fill=\"none\" stroke=\"black\" points=\"1414,-109.5 1414,-145.5 \"/>\n",
       "<text text-anchor=\"middle\" x=\"1454.5\" y=\"-123.8\" font-family=\"Times New Roman,serif\" font-size=\"14.00\">data 0.7071</text>\n",
       "<polyline fill=\"none\" stroke=\"black\" points=\"1495,-109.5 1495,-145.5 \"/>\n",
       "<text text-anchor=\"middle\" x=\"1536.5\" y=\"-123.8\" font-family=\"Times New Roman,serif\" font-size=\"14.00\">grad 1.0000</text>\n",
       "</g>\n",
       "<!-- 2932430136464tanh -->\n",
       "<g id=\"node5\" class=\"node\">\n",
       "<title>2932430136464tanh</title>\n",
       "<ellipse fill=\"none\" stroke=\"black\" cx=\"1327\" cy=\"-127.5\" rx=\"27\" ry=\"18\"/>\n",
       "<text text-anchor=\"middle\" x=\"1327\" y=\"-123.8\" font-family=\"Times New Roman,serif\" font-size=\"14.00\">tanh</text>\n",
       "</g>\n",
       "<!-- 2932430136464tanh&#45;&gt;2932430136464 -->\n",
       "<g id=\"edge2\" class=\"edge\">\n",
       "<title>2932430136464tanh&#45;&gt;2932430136464</title>\n",
       "<path fill=\"none\" stroke=\"black\" d=\"M1354.29,-127.5C1361.78,-127.5 1370.42,-127.5 1379.6,-127.5\"/>\n",
       "<polygon fill=\"black\" stroke=\"black\" points=\"1379.76,-131 1389.76,-127.5 1379.76,-124 1379.76,-131\"/>\n",
       "</g>\n",
       "<!-- 2932430141072 -->\n",
       "<g id=\"node6\" class=\"node\">\n",
       "<title>2932430141072</title>\n",
       "<polygon fill=\"none\" stroke=\"black\" points=\"1077,-109.5 1077,-145.5 1264,-145.5 1264,-109.5 1077,-109.5\"/>\n",
       "<text text-anchor=\"middle\" x=\"1088.5\" y=\"-123.8\" font-family=\"Times New Roman,serif\" font-size=\"14.00\">n</text>\n",
       "<polyline fill=\"none\" stroke=\"black\" points=\"1100,-109.5 1100,-145.5 \"/>\n",
       "<text text-anchor=\"middle\" x=\"1140.5\" y=\"-123.8\" font-family=\"Times New Roman,serif\" font-size=\"14.00\">data 0.8814</text>\n",
       "<polyline fill=\"none\" stroke=\"black\" points=\"1181,-109.5 1181,-145.5 \"/>\n",
       "<text text-anchor=\"middle\" x=\"1222.5\" y=\"-123.8\" font-family=\"Times New Roman,serif\" font-size=\"14.00\">grad 0.5000</text>\n",
       "</g>\n",
       "<!-- 2932430141072&#45;&gt;2932430136464tanh -->\n",
       "<g id=\"edge12\" class=\"edge\">\n",
       "<title>2932430141072&#45;&gt;2932430136464tanh</title>\n",
       "<path fill=\"none\" stroke=\"black\" d=\"M1264.05,-127.5C1273.06,-127.5 1281.79,-127.5 1289.7,-127.5\"/>\n",
       "<polygon fill=\"black\" stroke=\"black\" points=\"1289.95,-131 1299.95,-127.5 1289.95,-124 1289.95,-131\"/>\n",
       "</g>\n",
       "<!-- 2932430141072+ -->\n",
       "<g id=\"node7\" class=\"node\">\n",
       "<title>2932430141072+</title>\n",
       "<ellipse fill=\"none\" stroke=\"black\" cx=\"1014\" cy=\"-127.5\" rx=\"27\" ry=\"18\"/>\n",
       "<text text-anchor=\"middle\" x=\"1014\" y=\"-123.8\" font-family=\"Times New Roman,serif\" font-size=\"14.00\">+</text>\n",
       "</g>\n",
       "<!-- 2932430141072+&#45;&gt;2932430141072 -->\n",
       "<g id=\"edge3\" class=\"edge\">\n",
       "<title>2932430141072+&#45;&gt;2932430141072</title>\n",
       "<path fill=\"none\" stroke=\"black\" d=\"M1041.21,-127.5C1048.73,-127.5 1057.43,-127.5 1066.67,-127.5\"/>\n",
       "<polygon fill=\"black\" stroke=\"black\" points=\"1066.89,-131 1076.89,-127.5 1066.89,-124 1066.89,-131\"/>\n",
       "</g>\n",
       "<!-- 2932460035216 -->\n",
       "<g id=\"node8\" class=\"node\">\n",
       "<title>2932460035216</title>\n",
       "<polygon fill=\"none\" stroke=\"black\" points=\"0,-110.5 0,-146.5 202,-146.5 202,-110.5 0,-110.5\"/>\n",
       "<text text-anchor=\"middle\" x=\"16.5\" y=\"-124.8\" font-family=\"Times New Roman,serif\" font-size=\"14.00\">w1</text>\n",
       "<polyline fill=\"none\" stroke=\"black\" points=\"33,-110.5 33,-146.5 \"/>\n",
       "<text text-anchor=\"middle\" x=\"76\" y=\"-124.8\" font-family=\"Times New Roman,serif\" font-size=\"14.00\">data &#45;3.0000</text>\n",
       "<polyline fill=\"none\" stroke=\"black\" points=\"119,-110.5 119,-146.5 \"/>\n",
       "<text text-anchor=\"middle\" x=\"160.5\" y=\"-124.8\" font-family=\"Times New Roman,serif\" font-size=\"14.00\">grad 1.0000</text>\n",
       "</g>\n",
       "<!-- 2932460035216&#45;&gt;2932459510736* -->\n",
       "<g id=\"edge11\" class=\"edge\">\n",
       "<title>2932460035216&#45;&gt;2932459510736*</title>\n",
       "<path fill=\"none\" stroke=\"black\" d=\"M202.29,-128.5C211.28,-128.5 219.93,-128.5 227.77,-128.5\"/>\n",
       "<polygon fill=\"black\" stroke=\"black\" points=\"227.91,-132 237.91,-128.5 227.91,-125 227.91,-132\"/>\n",
       "</g>\n",
       "<!-- 2932459364048 -->\n",
       "<g id=\"node9\" class=\"node\">\n",
       "<title>2932459364048</title>\n",
       "<polygon fill=\"none\" stroke=\"black\" points=\"719.5,-137.5 719.5,-173.5 907.5,-173.5 907.5,-137.5 719.5,-137.5\"/>\n",
       "<text text-anchor=\"middle\" x=\"731.5\" y=\"-151.8\" font-family=\"Times New Roman,serif\" font-size=\"14.00\">b</text>\n",
       "<polyline fill=\"none\" stroke=\"black\" points=\"743.5,-137.5 743.5,-173.5 \"/>\n",
       "<text text-anchor=\"middle\" x=\"784\" y=\"-151.8\" font-family=\"Times New Roman,serif\" font-size=\"14.00\">data 6.8814</text>\n",
       "<polyline fill=\"none\" stroke=\"black\" points=\"824.5,-137.5 824.5,-173.5 \"/>\n",
       "<text text-anchor=\"middle\" x=\"866\" y=\"-151.8\" font-family=\"Times New Roman,serif\" font-size=\"14.00\">grad 0.5000</text>\n",
       "</g>\n",
       "<!-- 2932459364048&#45;&gt;2932430141072+ -->\n",
       "<g id=\"edge13\" class=\"edge\">\n",
       "<title>2932459364048&#45;&gt;2932430141072+</title>\n",
       "<path fill=\"none\" stroke=\"black\" d=\"M907.65,-142.36C932.41,-138.87 957.68,-135.3 977.26,-132.54\"/>\n",
       "<polygon fill=\"black\" stroke=\"black\" points=\"977.82,-136 987.23,-131.13 976.84,-129.07 977.82,-136\"/>\n",
       "</g>\n",
       "<!-- 2932429612304 -->\n",
       "<g id=\"node10\" class=\"node\">\n",
       "<title>2932429612304</title>\n",
       "<polygon fill=\"none\" stroke=\"black\" points=\"676,-82.5 676,-118.5 951,-118.5 951,-82.5 676,-82.5\"/>\n",
       "<text text-anchor=\"middle\" x=\"729\" y=\"-96.8\" font-family=\"Times New Roman,serif\" font-size=\"14.00\">x1*w1 + x2*w2</text>\n",
       "<polyline fill=\"none\" stroke=\"black\" points=\"782,-82.5 782,-118.5 \"/>\n",
       "<text text-anchor=\"middle\" x=\"825\" y=\"-96.8\" font-family=\"Times New Roman,serif\" font-size=\"14.00\">data &#45;6.0000</text>\n",
       "<polyline fill=\"none\" stroke=\"black\" points=\"868,-82.5 868,-118.5 \"/>\n",
       "<text text-anchor=\"middle\" x=\"909.5\" y=\"-96.8\" font-family=\"Times New Roman,serif\" font-size=\"14.00\">grad 0.5000</text>\n",
       "</g>\n",
       "<!-- 2932429612304&#45;&gt;2932430141072+ -->\n",
       "<g id=\"edge8\" class=\"edge\">\n",
       "<title>2932429612304&#45;&gt;2932430141072+</title>\n",
       "<path fill=\"none\" stroke=\"black\" d=\"M946.9,-118.51C957.84,-120 968.17,-121.4 977.27,-122.64\"/>\n",
       "<polygon fill=\"black\" stroke=\"black\" points=\"976.98,-126.13 987.36,-124.01 977.92,-119.2 976.98,-126.13\"/>\n",
       "</g>\n",
       "<!-- 2932429612304+&#45;&gt;2932429612304 -->\n",
       "<g id=\"edge4\" class=\"edge\">\n",
       "<title>2932429612304+&#45;&gt;2932429612304</title>\n",
       "<path fill=\"none\" stroke=\"black\" d=\"M640.36,-100.5C647.8,-100.5 656.45,-100.5 665.84,-100.5\"/>\n",
       "<polygon fill=\"black\" stroke=\"black\" points=\"665.88,-104 675.88,-100.5 665.88,-97 665.88,-104\"/>\n",
       "</g>\n",
       "<!-- 2932459369232 -->\n",
       "<g id=\"node12\" class=\"node\">\n",
       "<title>2932459369232</title>\n",
       "<polygon fill=\"none\" stroke=\"black\" points=\"2.5,-55.5 2.5,-91.5 199.5,-91.5 199.5,-55.5 2.5,-55.5\"/>\n",
       "<text text-anchor=\"middle\" x=\"19\" y=\"-69.8\" font-family=\"Times New Roman,serif\" font-size=\"14.00\">w2</text>\n",
       "<polyline fill=\"none\" stroke=\"black\" points=\"35.5,-55.5 35.5,-91.5 \"/>\n",
       "<text text-anchor=\"middle\" x=\"76\" y=\"-69.8\" font-family=\"Times New Roman,serif\" font-size=\"14.00\">data 1.0000</text>\n",
       "<polyline fill=\"none\" stroke=\"black\" points=\"116.5,-55.5 116.5,-91.5 \"/>\n",
       "<text text-anchor=\"middle\" x=\"158\" y=\"-69.8\" font-family=\"Times New Roman,serif\" font-size=\"14.00\">grad 0.0000</text>\n",
       "</g>\n",
       "<!-- 2932459369232&#45;&gt;2932459510800* -->\n",
       "<g id=\"edge9\" class=\"edge\">\n",
       "<title>2932459369232&#45;&gt;2932459510800*</title>\n",
       "<path fill=\"none\" stroke=\"black\" d=\"M199.51,-73.5C209.51,-73.5 219.17,-73.5 227.82,-73.5\"/>\n",
       "<polygon fill=\"black\" stroke=\"black\" points=\"227.84,-77 237.84,-73.5 227.84,-70 227.84,-77\"/>\n",
       "</g>\n",
       "<!-- 2932460955024 -->\n",
       "<g id=\"node13\" class=\"node\">\n",
       "<title>2932460955024</title>\n",
       "<polygon fill=\"none\" stroke=\"black\" points=\"4,-0.5 4,-36.5 198,-36.5 198,-0.5 4,-0.5\"/>\n",
       "<text text-anchor=\"middle\" x=\"19\" y=\"-14.8\" font-family=\"Times New Roman,serif\" font-size=\"14.00\">x2</text>\n",
       "<polyline fill=\"none\" stroke=\"black\" points=\"34,-0.5 34,-36.5 \"/>\n",
       "<text text-anchor=\"middle\" x=\"74.5\" y=\"-14.8\" font-family=\"Times New Roman,serif\" font-size=\"14.00\">data 0.0000</text>\n",
       "<polyline fill=\"none\" stroke=\"black\" points=\"115,-0.5 115,-36.5 \"/>\n",
       "<text text-anchor=\"middle\" x=\"156.5\" y=\"-14.8\" font-family=\"Times New Roman,serif\" font-size=\"14.00\">grad 0.5000</text>\n",
       "</g>\n",
       "<!-- 2932460955024&#45;&gt;2932459510800* -->\n",
       "<g id=\"edge7\" class=\"edge\">\n",
       "<title>2932460955024&#45;&gt;2932459510800*</title>\n",
       "<path fill=\"none\" stroke=\"black\" d=\"M171.25,-36.55C181.63,-39.64 192.15,-42.99 202,-46.5 212.29,-50.16 223.28,-54.72 233.11,-59.05\"/>\n",
       "<polygon fill=\"black\" stroke=\"black\" points=\"231.93,-62.36 242.49,-63.26 234.8,-55.97 231.93,-62.36\"/>\n",
       "</g>\n",
       "<!-- 2932459510736 -->\n",
       "<g id=\"node14\" class=\"node\">\n",
       "<title>2932459510736</title>\n",
       "<polygon fill=\"none\" stroke=\"black\" points=\"328,-110.5 328,-146.5 550,-146.5 550,-110.5 328,-110.5\"/>\n",
       "<text text-anchor=\"middle\" x=\"354.5\" y=\"-124.8\" font-family=\"Times New Roman,serif\" font-size=\"14.00\">x1*w1</text>\n",
       "<polyline fill=\"none\" stroke=\"black\" points=\"381,-110.5 381,-146.5 \"/>\n",
       "<text text-anchor=\"middle\" x=\"424\" y=\"-124.8\" font-family=\"Times New Roman,serif\" font-size=\"14.00\">data &#45;6.0000</text>\n",
       "<polyline fill=\"none\" stroke=\"black\" points=\"467,-110.5 467,-146.5 \"/>\n",
       "<text text-anchor=\"middle\" x=\"508.5\" y=\"-124.8\" font-family=\"Times New Roman,serif\" font-size=\"14.00\">grad 0.5000</text>\n",
       "</g>\n",
       "<!-- 2932459510736&#45;&gt;2932429612304+ -->\n",
       "<g id=\"edge6\" class=\"edge\">\n",
       "<title>2932459510736&#45;&gt;2932429612304+</title>\n",
       "<path fill=\"none\" stroke=\"black\" d=\"M550.39,-110.53C559.67,-109.02 568.54,-107.58 576.51,-106.28\"/>\n",
       "<polygon fill=\"black\" stroke=\"black\" points=\"577.12,-109.72 586.43,-104.66 575.99,-102.82 577.12,-109.72\"/>\n",
       "</g>\n",
       "<!-- 2932459510736*&#45;&gt;2932459510736 -->\n",
       "<g id=\"edge5\" class=\"edge\">\n",
       "<title>2932459510736*&#45;&gt;2932459510736</title>\n",
       "<path fill=\"none\" stroke=\"black\" d=\"M292.12,-128.5C299.66,-128.5 308.41,-128.5 317.81,-128.5\"/>\n",
       "<polygon fill=\"black\" stroke=\"black\" points=\"317.82,-132 327.81,-128.5 317.81,-125 317.82,-132\"/>\n",
       "</g>\n",
       "</g>\n",
       "</svg>\n"
      ],
      "text/plain": [
       "<graphviz.graphs.Digraph at 0x2aac4349b90>"
      ]
     },
     "execution_count": 80,
     "metadata": {},
     "output_type": "execute_result"
    }
   ],
   "source": [
    "draw_dot(o)"
   ]
  },
  {
   "cell_type": "code",
   "execution_count": 79,
   "id": "de1864cc",
   "metadata": {},
   "outputs": [],
   "source": [
    "o.backward()"
   ]
  },
  {
   "cell_type": "code",
   "execution_count": 55,
   "id": "716343ba",
   "metadata": {},
   "outputs": [],
   "source": [
    "o.grad = 1"
   ]
  },
  {
   "cell_type": "code",
   "execution_count": 58,
   "id": "cce8fc2c",
   "metadata": {},
   "outputs": [
    {
     "data": {
      "text/plain": [
       "0.4999999999999999"
      ]
     },
     "execution_count": 58,
     "metadata": {},
     "output_type": "execute_result"
    }
   ],
   "source": [
    "# do/dn\n",
    "1 - o.data ** 2"
   ]
  },
  {
   "cell_type": "code",
   "execution_count": 59,
   "id": "f6f1425b",
   "metadata": {},
   "outputs": [],
   "source": [
    "n.grad = 0.5"
   ]
  },
  {
   "cell_type": "code",
   "execution_count": 61,
   "id": "9d4727cb",
   "metadata": {},
   "outputs": [],
   "source": [
    "x1w1x2w2.grad = 0.5\n",
    "b.grad = 0.5"
   ]
  },
  {
   "cell_type": "code",
   "execution_count": 63,
   "id": "1a08a9f1",
   "metadata": {},
   "outputs": [],
   "source": [
    "x1w1.grad = 0.5\n",
    "x2w2.grad = 0.5"
   ]
  },
  {
   "cell_type": "code",
   "execution_count": 65,
   "id": "c97134ce",
   "metadata": {},
   "outputs": [],
   "source": [
    "w2.grad = x2.data * x2w2.grad\n",
    "x2.grad = w2.data * x2w2.grad"
   ]
  },
  {
   "cell_type": "code",
   "execution_count": 67,
   "id": "7c533c99",
   "metadata": {},
   "outputs": [],
   "source": [
    "w1.grad = x1.data * x1w1.grad\n",
    "x1.grad = w1.data * x1w1.grad"
   ]
  }
 ],
 "metadata": {
  "kernelspec": {
   "display_name": "Python 3 (ipykernel)",
   "language": "python",
   "name": "python3"
  },
  "language_info": {
   "codemirror_mode": {
    "name": "ipython",
    "version": 3
   },
   "file_extension": ".py",
   "mimetype": "text/x-python",
   "name": "python",
   "nbconvert_exporter": "python",
   "pygments_lexer": "ipython3",
   "version": "3.11.5"
  }
 },
 "nbformat": 4,
 "nbformat_minor": 5
}
