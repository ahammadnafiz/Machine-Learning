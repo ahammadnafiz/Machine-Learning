{
 "cells": [
  {
   "cell_type": "code",
   "execution_count": 1,
   "id": "04e7b099",
   "metadata": {},
   "outputs": [],
   "source": [
    "import math\n",
    "import numpy as np\n",
    "import matplotlib.pyplot as plt"
   ]
  },
  {
   "cell_type": "code",
   "execution_count": 2,
   "id": "05200850",
   "metadata": {},
   "outputs": [],
   "source": [
    "def f(x):\n",
    "    return 3*x**2 - 4*x + 5"
   ]
  },
  {
   "cell_type": "code",
   "execution_count": 3,
   "id": "12918326",
   "metadata": {},
   "outputs": [
    {
     "data": {
      "text/plain": [
       "265"
      ]
     },
     "execution_count": 3,
     "metadata": {},
     "output_type": "execute_result"
    }
   ],
   "source": [
    "f(10)"
   ]
  },
  {
   "cell_type": "code",
   "execution_count": 4,
   "id": "3865012d",
   "metadata": {},
   "outputs": [
    {
     "data": {
      "image/png": "[encoded data removed]",
      "text/plain": [
       "<Figure size 600x400 with 1 Axes>"
      ]
     },
     "metadata": {},
     "output_type": "display_data"
    }
   ],
   "source": [
    "ranges = np.linspace(-100, 100, 1000)\n",
    "plt.figure(figsize=(6, 4))\n",
    "plt.plot(ranges, f(ranges))\n",
    "plt.show()"
   ]
  },
  {
   "cell_type": "code",
   "execution_count": 5,
   "id": "10fead83",
   "metadata": {},
   "outputs": [
    {
     "data": {
      "text/plain": [
       "0.0"
      ]
     },
     "execution_count": 5,
     "metadata": {},
     "output_type": "execute_result"
    }
   ],
   "source": [
    "h = 0.0000000001\n",
    "x = 2/3\n",
    "(f(x + h) - f(x)) / h"
   ]
  },
  {
   "cell_type": "code",
   "execution_count": 6,
   "id": "ff5d658f",
   "metadata": {},
   "outputs": [
    {
     "name": "stdout",
     "output_type": "stream",
     "text": [
      "4.0\n"
     ]
    }
   ],
   "source": [
    "# les get more complex\n",
    "a = 2.0\n",
    "b = -3.0\n",
    "c = 10.0\n",
    "d = a*b + c\n",
    "print(d)"
   ]
  },
  {
   "cell_type": "code",
   "execution_count": 7,
   "id": "0f748c0e",
   "metadata": {},
   "outputs": [
    {
     "name": "stdout",
     "output_type": "stream",
     "text": [
      "4.0\n",
      "3.999699999999999\n",
      "-3.000000000010772\n"
     ]
    }
   ],
   "source": [
    "h = 0.0001\n",
    "#respect to a\n",
    "a = 2.0\n",
    "b = -3.0\n",
    "c = 10.0\n",
    "d1 = a*b + c\n",
    "a += h\n",
    "d2 = a*b + c\n",
    "print(d1)\n",
    "print(d2)\n",
    "print((d2 -d1) / h)"
   ]
  },
  {
   "cell_type": "code",
   "execution_count": 8,
   "id": "8f7c925f",
   "metadata": {},
   "outputs": [
    {
     "name": "stdout",
     "output_type": "stream",
     "text": [
      "4.0\n",
      "4.0002\n",
      "2.0000000000042206\n"
     ]
    }
   ],
   "source": [
    "h = 0.0001\n",
    "#respect to b\n",
    "a = 2.0\n",
    "b = -3.0\n",
    "c = 10.0\n",
    "d1 = a*b + c\n",
    "b += h\n",
    "d2 = a*b + c\n",
    "print(d1)\n",
    "print(d2)\n",
    "print((d2 -d1) / h)"
   ]
  },
  {
   "cell_type": "code",
   "execution_count": 9,
   "id": "657dacc1",
   "metadata": {},
   "outputs": [
    {
     "name": "stdout",
     "output_type": "stream",
     "text": [
      "4.0\n",
      "4.0001\n",
      "0.9999999999976694\n"
     ]
    }
   ],
   "source": [
    "h = 0.0001\n",
    "#respect to c\n",
    "a = 2.0\n",
    "b = -3.0\n",
    "c = 10.0\n",
    "d1 = a*b + c\n",
    "c += h\n",
    "d2 = a*b + c\n",
    "print(d1)\n",
    "print(d2)\n",
    "print((d2 -d1) / h)"
   ]
  },
  {
   "cell_type": "code",
   "execution_count": 10,
   "id": "34507d59",
   "metadata": {},
   "outputs": [],
   "source": [
    "class Value:\n",
    "    def __init__(self, data, _children=(), _op='', label=''):\n",
    "        self.data = data\n",
    "        self._prev = set(_children)\n",
    "        self._op = _op\n",
    "        self.label = label\n",
    "        self.grad = 0.0  # Initializing the gradient\n",
    "\n",
    "    def __repr__(self):\n",
    "        return f\"Value: (data = {self.data})\"\n",
    "\n",
    "    def __add__(self, other):\n",
    "        return Value(self.data + other.data, (self, other), '+')\n",
    "\n",
    "    def __mul__(self, other):\n",
    "        return Value(self.data * other.data, (self, other), '*')\n"
   ]
  },
  {
   "cell_type": "code",
   "execution_count": 16,
   "id": "29b22989",
   "metadata": {},
   "outputs": [
    {
     "data": {
      "text/plain": [
       "Value: (data = -8.0)"
      ]
     },
     "execution_count": 16,
     "metadata": {},
     "output_type": "execute_result"
    }
   ],
   "source": [
    "a = Value(2.0, label='a')\n",
    "b = Value(-3.0, label='b')\n",
    "c = Value(10.0, label='c')\n",
    "e = a*b; e.label = 'e'\n",
    "d = e + c; d.label = 'd'\n",
    "f = Value(-2.0, label='f')\n",
    "L = d * f; L.label = 'L'\n",
    "L"
   ]
  },
  {
   "cell_type": "code",
   "execution_count": 18,
   "id": "cd86b0df",
   "metadata": {},
   "outputs": [],
   "source": [
    "from graphviz import Digraph\n",
    "\n",
    "def trace(root):\n",
    "    # builds a set of all nodes and edges in a graph\n",
    "    nodes, edges = set(), set()\n",
    "    \n",
    "    def build(v):\n",
    "        if v not in nodes:\n",
    "            nodes.add(v)\n",
    "            for child in v._prev:  # Assuming `v._prev` is the set of parent nodes\n",
    "                edges.add((child, v))\n",
    "                build(child)\n",
    "    \n",
    "    build(root)\n",
    "    return nodes, edges\n",
    "\n",
    "def draw_dot(root):\n",
    "    dot = Digraph(format='svg', graph_attr={'rankdir': 'LR'})  # LR = left to right\n",
    "    nodes, edges = trace(root)\n",
    "\n",
    "    for n in nodes:\n",
    "        uid = str(id(n))\n",
    "        # for any value in the graph, create a rectangular ('record') node for it\n",
    "        dot.node(name=uid, label=\"{ %s | data %.4f | grad %.4f }\" % (n.label, n.data, n.grad), shape='record')\n",
    "        if n._op:\n",
    "            # if this value is a result of some operation, create an op node for it\n",
    "            dot.node(name=uid + n._op, label=n._op)\n",
    "            # and connect this node to it\n",
    "            dot.edge(uid + n._op, uid)\n",
    "\n",
    "    for n1, n2 in edges:\n",
    "        # connect n1 to the op node of n2\n",
    "        dot.edge(str(id(n1)), str(id(n2)) + n2._op)\n",
    "\n",
    "    return dot"
   ]
  },
  {
   "cell_type": "code",
   "execution_count": 23,
   "id": "4220a596",
   "metadata": {},
   "outputs": [],
   "source": [
    "L.grad = 1"
   ]
  },
  {
   "cell_type": "code",
   "execution_count": 25,
   "id": "c218052b",
   "metadata": {},
   "outputs": [],
   "source": [
    "f.grad = 4.0\n",
    "d.grad = -2"
   ]
  },
  {
   "cell_type": "code",
   "execution_count": 35,
   "id": "d3de8c5e",
   "metadata": {},
   "outputs": [],
   "source": [
    "e.grad = -2\n",
    "c.grad = -2"
   ]
  },
  {
   "cell_type": "code",
   "execution_count": 39,
   "id": "286805bc",
   "metadata": {},
   "outputs": [],
   "source": [
    "a.grad = 6\n",
    "b.grad = -4"
   ]
  },
  {
   "cell_type": "code",
   "execution_count": 38,
   "id": "dfe83456",
   "metadata": {},
   "outputs": [
    {
     "name": "stdout",
     "output_type": "stream",
     "text": [
      "-3.9999999999995595\n"
     ]
    }
   ],
   "source": [
    "def lol():\n",
    "    h = 0.001\n",
    "    \n",
    "    a = Value(2.0, label='a')\n",
    "    b = Value(-3.0, label='b')\n",
    "    c = Value(10.0, label='c')\n",
    "    e = a*b; e.label = 'e'\n",
    "    d = e + c; d.label = 'd'\n",
    "    f = Value(-2.0, label='f')\n",
    "    L = d * f; L.label = 'L'\n",
    "    L1 = L.data\n",
    "    \n",
    "    a = Value(2.0, label='a')\n",
    "    b = Value(-3.0, label='b')\n",
    "    c = Value(10.0, label='c')\n",
    "    b.data += h\n",
    "    e = a*b; e.label = 'e'\n",
    "    d = e + c; d.label = 'd'\n",
    "    f = Value(-2.0, label='f')\n",
    "    L = d * f; L.label = 'L'\n",
    "    L2 = L.data\n",
    "    \n",
    "    print((L2 - L1)/h)\n",
    "    \n",
    "lol()"
   ]
  },
  {
   "cell_type": "code",
   "execution_count": 40,
   "id": "ebc84061",
   "metadata": {},
   "outputs": [
    {
     "data": {
      "image/svg+xml": [
       "<?xml version=\"1.0\" encoding=\"UTF-8\" standalone=\"no\"?>\n",
       "<!DOCTYPE svg PUBLIC \"-//W3C//DTD SVG 1.1//EN\"\n",
       " \"http://www.w3.org/Graphics/SVG/1.1/DTD/svg11.dtd\">\n",
       "<!-- Generated by graphviz version 2.46.0 (20210118.1747)\n",
       " -->\n",
       "<!-- Pages: 1 -->\n",
       "<svg width=\"1167pt\" height=\"156pt\"\n",
       " viewBox=\"0.00 0.00 1167.00 156.00\" xmlns=\"http://www.w3.org/2000/svg\" xmlns:xlink=\"http://www.w3.org/1999/xlink\">\n",
       "<g id=\"graph0\" class=\"graph\" transform=\"scale(1 1) rotate(0) translate(4 152)\">\n",
       "<polygon fill=\"white\" stroke=\"transparent\" points=\"-4,4 -4,-152 1163,-152 1163,4 -4,4\"/>\n",
       "<!-- 2932416875920 -->\n",
       "<g id=\"node1\" class=\"node\">\n",
       "<title>2932416875920</title>\n",
       "<polygon fill=\"none\" stroke=\"black\" points=\"5,-111.5 5,-147.5 192,-147.5 192,-111.5 5,-111.5\"/>\n",
       "<text text-anchor=\"middle\" x=\"16.5\" y=\"-125.8\" font-family=\"Times New Roman,serif\" font-size=\"14.00\">a</text>\n",
       "<polyline fill=\"none\" stroke=\"black\" points=\"28,-111.5 28,-147.5 \"/>\n",
       "<text text-anchor=\"middle\" x=\"68.5\" y=\"-125.8\" font-family=\"Times New Roman,serif\" font-size=\"14.00\">data 2.0000</text>\n",
       "<polyline fill=\"none\" stroke=\"black\" points=\"109,-111.5 109,-147.5 \"/>\n",
       "<text text-anchor=\"middle\" x=\"150.5\" y=\"-125.8\" font-family=\"Times New Roman,serif\" font-size=\"14.00\">grad 6.0000</text>\n",
       "</g>\n",
       "<!-- 2932426930576* -->\n",
       "<g id=\"node9\" class=\"node\">\n",
       "<title>2932426930576*</title>\n",
       "<ellipse fill=\"none\" stroke=\"black\" cx=\"260\" cy=\"-101.5\" rx=\"27\" ry=\"18\"/>\n",
       "<text text-anchor=\"middle\" x=\"260\" y=\"-97.8\" font-family=\"Times New Roman,serif\" font-size=\"14.00\">*</text>\n",
       "</g>\n",
       "<!-- 2932416875920&#45;&gt;2932426930576* -->\n",
       "<g id=\"edge9\" class=\"edge\">\n",
       "<title>2932416875920&#45;&gt;2932426930576*</title>\n",
       "<path fill=\"none\" stroke=\"black\" d=\"M192.28,-113.21C203.34,-111.27 214.05,-109.39 223.53,-107.73\"/>\n",
       "<polygon fill=\"black\" stroke=\"black\" points=\"224.43,-111.12 233.68,-105.95 223.22,-104.23 224.43,-111.12\"/>\n",
       "</g>\n",
       "<!-- 2932426923664 -->\n",
       "<g id=\"node2\" class=\"node\">\n",
       "<title>2932426923664</title>\n",
       "<polygon fill=\"none\" stroke=\"black\" points=\"647,-55.5 647,-91.5 839,-91.5 839,-55.5 647,-55.5\"/>\n",
       "<text text-anchor=\"middle\" x=\"659\" y=\"-69.8\" font-family=\"Times New Roman,serif\" font-size=\"14.00\">d</text>\n",
       "<polyline fill=\"none\" stroke=\"black\" points=\"671,-55.5 671,-91.5 \"/>\n",
       "<text text-anchor=\"middle\" x=\"711.5\" y=\"-69.8\" font-family=\"Times New Roman,serif\" font-size=\"14.00\">data 4.0000</text>\n",
       "<polyline fill=\"none\" stroke=\"black\" points=\"752,-55.5 752,-91.5 \"/>\n",
       "<text text-anchor=\"middle\" x=\"795.5\" y=\"-69.8\" font-family=\"Times New Roman,serif\" font-size=\"14.00\">grad &#45;2.0000</text>\n",
       "</g>\n",
       "<!-- 2932418840912* -->\n",
       "<g id=\"node7\" class=\"node\">\n",
       "<title>2932418840912*</title>\n",
       "<ellipse fill=\"none\" stroke=\"black\" cx=\"902\" cy=\"-45.5\" rx=\"27\" ry=\"18\"/>\n",
       "<text text-anchor=\"middle\" x=\"902\" y=\"-41.8\" font-family=\"Times New Roman,serif\" font-size=\"14.00\">*</text>\n",
       "</g>\n",
       "<!-- 2932426923664&#45;&gt;2932418840912* -->\n",
       "<g id=\"edge6\" class=\"edge\">\n",
       "<title>2932426923664&#45;&gt;2932418840912*</title>\n",
       "<path fill=\"none\" stroke=\"black\" d=\"M839.4,-56.49C848.69,-54.83 857.64,-53.23 865.71,-51.79\"/>\n",
       "<polygon fill=\"black\" stroke=\"black\" points=\"866.53,-55.2 875.76,-50 865.31,-48.31 866.53,-55.2\"/>\n",
       "</g>\n",
       "<!-- 2932426923664+ -->\n",
       "<g id=\"node3\" class=\"node\">\n",
       "<title>2932426923664+</title>\n",
       "<ellipse fill=\"none\" stroke=\"black\" cx=\"584\" cy=\"-73.5\" rx=\"27\" ry=\"18\"/>\n",
       "<text text-anchor=\"middle\" x=\"584\" y=\"-69.8\" font-family=\"Times New Roman,serif\" font-size=\"14.00\">+</text>\n",
       "</g>\n",
       "<!-- 2932426923664+&#45;&gt;2932426923664 -->\n",
       "<g id=\"edge1\" class=\"edge\">\n",
       "<title>2932426923664+&#45;&gt;2932426923664</title>\n",
       "<path fill=\"none\" stroke=\"black\" d=\"M611.28,-73.5C618.78,-73.5 627.44,-73.5 636.67,-73.5\"/>\n",
       "<polygon fill=\"black\" stroke=\"black\" points=\"636.87,-77 646.87,-73.5 636.87,-70 636.87,-77\"/>\n",
       "</g>\n",
       "<!-- 2932426102480 -->\n",
       "<g id=\"node4\" class=\"node\">\n",
       "<title>2932426102480</title>\n",
       "<polygon fill=\"none\" stroke=\"black\" points=\"323,-28.5 323,-64.5 521,-64.5 521,-28.5 323,-28.5\"/>\n",
       "<text text-anchor=\"middle\" x=\"334.5\" y=\"-42.8\" font-family=\"Times New Roman,serif\" font-size=\"14.00\">c</text>\n",
       "<polyline fill=\"none\" stroke=\"black\" points=\"346,-28.5 346,-64.5 \"/>\n",
       "<text text-anchor=\"middle\" x=\"390\" y=\"-42.8\" font-family=\"Times New Roman,serif\" font-size=\"14.00\">data 10.0000</text>\n",
       "<polyline fill=\"none\" stroke=\"black\" points=\"434,-28.5 434,-64.5 \"/>\n",
       "<text text-anchor=\"middle\" x=\"477.5\" y=\"-42.8\" font-family=\"Times New Roman,serif\" font-size=\"14.00\">grad &#45;2.0000</text>\n",
       "</g>\n",
       "<!-- 2932426102480&#45;&gt;2932426923664+ -->\n",
       "<g id=\"edge7\" class=\"edge\">\n",
       "<title>2932426102480&#45;&gt;2932426923664+</title>\n",
       "<path fill=\"none\" stroke=\"black\" d=\"M521.14,-63.06C530.5,-64.64 539.5,-66.16 547.61,-67.53\"/>\n",
       "<polygon fill=\"black\" stroke=\"black\" points=\"547.26,-71.02 557.7,-69.23 548.42,-64.12 547.26,-71.02\"/>\n",
       "</g>\n",
       "<!-- 2932426917328 -->\n",
       "<g id=\"node5\" class=\"node\">\n",
       "<title>2932426917328</title>\n",
       "<polygon fill=\"none\" stroke=\"black\" points=\"648,-0.5 648,-36.5 838,-36.5 838,-0.5 648,-0.5\"/>\n",
       "<text text-anchor=\"middle\" x=\"658.5\" y=\"-14.8\" font-family=\"Times New Roman,serif\" font-size=\"14.00\">f</text>\n",
       "<polyline fill=\"none\" stroke=\"black\" points=\"669,-0.5 669,-36.5 \"/>\n",
       "<text text-anchor=\"middle\" x=\"712\" y=\"-14.8\" font-family=\"Times New Roman,serif\" font-size=\"14.00\">data &#45;2.0000</text>\n",
       "<polyline fill=\"none\" stroke=\"black\" points=\"755,-0.5 755,-36.5 \"/>\n",
       "<text text-anchor=\"middle\" x=\"796.5\" y=\"-14.8\" font-family=\"Times New Roman,serif\" font-size=\"14.00\">grad 4.0000</text>\n",
       "</g>\n",
       "<!-- 2932426917328&#45;&gt;2932418840912* -->\n",
       "<g id=\"edge4\" class=\"edge\">\n",
       "<title>2932426917328&#45;&gt;2932418840912*</title>\n",
       "<path fill=\"none\" stroke=\"black\" d=\"M838.05,-34.67C847.78,-36.35 857.18,-37.96 865.62,-39.42\"/>\n",
       "<polygon fill=\"black\" stroke=\"black\" points=\"865.3,-42.91 875.75,-41.16 866.49,-36.01 865.3,-42.91\"/>\n",
       "</g>\n",
       "<!-- 2932418840912 -->\n",
       "<g id=\"node6\" class=\"node\">\n",
       "<title>2932418840912</title>\n",
       "<polygon fill=\"none\" stroke=\"black\" points=\"965,-27.5 965,-63.5 1159,-63.5 1159,-27.5 965,-27.5\"/>\n",
       "<text text-anchor=\"middle\" x=\"977.5\" y=\"-41.8\" font-family=\"Times New Roman,serif\" font-size=\"14.00\">L</text>\n",
       "<polyline fill=\"none\" stroke=\"black\" points=\"990,-27.5 990,-63.5 \"/>\n",
       "<text text-anchor=\"middle\" x=\"1033\" y=\"-41.8\" font-family=\"Times New Roman,serif\" font-size=\"14.00\">data &#45;8.0000</text>\n",
       "<polyline fill=\"none\" stroke=\"black\" points=\"1076,-27.5 1076,-63.5 \"/>\n",
       "<text text-anchor=\"middle\" x=\"1117.5\" y=\"-41.8\" font-family=\"Times New Roman,serif\" font-size=\"14.00\">grad 1.0000</text>\n",
       "</g>\n",
       "<!-- 2932418840912*&#45;&gt;2932418840912 -->\n",
       "<g id=\"edge2\" class=\"edge\">\n",
       "<title>2932418840912*&#45;&gt;2932418840912</title>\n",
       "<path fill=\"none\" stroke=\"black\" d=\"M929.09,-45.5C936.62,-45.5 945.34,-45.5 954.63,-45.5\"/>\n",
       "<polygon fill=\"black\" stroke=\"black\" points=\"954.92,-49 964.92,-45.5 954.92,-42 954.92,-49\"/>\n",
       "</g>\n",
       "<!-- 2932426930576 -->\n",
       "<g id=\"node8\" class=\"node\">\n",
       "<title>2932426930576</title>\n",
       "<polygon fill=\"none\" stroke=\"black\" points=\"324,-83.5 324,-119.5 520,-119.5 520,-83.5 324,-83.5\"/>\n",
       "<text text-anchor=\"middle\" x=\"335.5\" y=\"-97.8\" font-family=\"Times New Roman,serif\" font-size=\"14.00\">e</text>\n",
       "<polyline fill=\"none\" stroke=\"black\" points=\"347,-83.5 347,-119.5 \"/>\n",
       "<text text-anchor=\"middle\" x=\"390\" y=\"-97.8\" font-family=\"Times New Roman,serif\" font-size=\"14.00\">data &#45;6.0000</text>\n",
       "<polyline fill=\"none\" stroke=\"black\" points=\"433,-83.5 433,-119.5 \"/>\n",
       "<text text-anchor=\"middle\" x=\"476.5\" y=\"-97.8\" font-family=\"Times New Roman,serif\" font-size=\"14.00\">grad &#45;2.0000</text>\n",
       "</g>\n",
       "<!-- 2932426930576&#45;&gt;2932426923664+ -->\n",
       "<g id=\"edge5\" class=\"edge\">\n",
       "<title>2932426930576&#45;&gt;2932426923664+</title>\n",
       "<path fill=\"none\" stroke=\"black\" d=\"M520.22,-84.49C529.89,-82.8 539.2,-81.17 547.55,-79.7\"/>\n",
       "<polygon fill=\"black\" stroke=\"black\" points=\"548.34,-83.12 557.59,-77.95 547.13,-76.22 548.34,-83.12\"/>\n",
       "</g>\n",
       "<!-- 2932426930576*&#45;&gt;2932426930576 -->\n",
       "<g id=\"edge3\" class=\"edge\">\n",
       "<title>2932426930576*&#45;&gt;2932426930576</title>\n",
       "<path fill=\"none\" stroke=\"black\" d=\"M287.06,-101.5C294.82,-101.5 303.84,-101.5 313.47,-101.5\"/>\n",
       "<polygon fill=\"black\" stroke=\"black\" points=\"313.69,-105 323.69,-101.5 313.69,-98 313.69,-105\"/>\n",
       "</g>\n",
       "<!-- 2932426429392 -->\n",
       "<g id=\"node10\" class=\"node\">\n",
       "<title>2932426429392</title>\n",
       "<polygon fill=\"none\" stroke=\"black\" points=\"0,-56.5 0,-92.5 197,-92.5 197,-56.5 0,-56.5\"/>\n",
       "<text text-anchor=\"middle\" x=\"12\" y=\"-70.8\" font-family=\"Times New Roman,serif\" font-size=\"14.00\">b</text>\n",
       "<polyline fill=\"none\" stroke=\"black\" points=\"24,-56.5 24,-92.5 \"/>\n",
       "<text text-anchor=\"middle\" x=\"67\" y=\"-70.8\" font-family=\"Times New Roman,serif\" font-size=\"14.00\">data &#45;3.0000</text>\n",
       "<polyline fill=\"none\" stroke=\"black\" points=\"110,-56.5 110,-92.5 \"/>\n",
       "<text text-anchor=\"middle\" x=\"153.5\" y=\"-70.8\" font-family=\"Times New Roman,serif\" font-size=\"14.00\">grad &#45;4.0000</text>\n",
       "</g>\n",
       "<!-- 2932426429392&#45;&gt;2932426930576* -->\n",
       "<g id=\"edge8\" class=\"edge\">\n",
       "<title>2932426429392&#45;&gt;2932426930576*</title>\n",
       "<path fill=\"none\" stroke=\"black\" d=\"M197.33,-91.06C206.57,-92.62 215.46,-94.13 223.49,-95.49\"/>\n",
       "<polygon fill=\"black\" stroke=\"black\" points=\"223.04,-98.96 233.48,-97.18 224.21,-92.06 223.04,-98.96\"/>\n",
       "</g>\n",
       "</g>\n",
       "</svg>\n"
      ],
      "text/plain": [
       "<graphviz.graphs.Digraph at 0x2aac43dbed0>"
      ]
     },
     "execution_count": 40,
     "metadata": {},
     "output_type": "execute_result"
    }
   ],
   "source": [
    "draw_dot(L)"
   ]
  },
  {
   "cell_type": "code",
   "execution_count": 41,
   "id": "b70c2c00",
   "metadata": {},
   "outputs": [
    {
     "name": "stdout",
     "output_type": "stream",
     "text": [
      "-7.286496\n"
     ]
    }
   ],
   "source": [
    "a.data += 0.01 * a.grad\n",
    "b.data += 0.01 * b.grad\n",
    "c.data += 0.01 * c.grad\n",
    "f.data += 0.01 * f.grad\n",
    "\n",
    "e = a * b\n",
    "d = e + c\n",
    "L = d * f\n",
    "\n",
    "print(L.data)"
   ]
  },
  {
   "cell_type": "code",
   "execution_count": null,
   "id": "82e684d5",
   "metadata": {},
   "outputs": [],
   "source": []
  }
 ],
 "metadata": {
  "kernelspec": {
   "display_name": "Python 3 (ipykernel)",
   "language": "python",
   "name": "python3"
  },
  "language_info": {
   "codemirror_mode": {
    "name": "ipython",
    "version": 3
   },
   "file_extension": ".py",
   "mimetype": "text/x-python",
   "name": "python",
   "nbconvert_exporter": "python",
   "pygments_lexer": "ipython3",
   "version": "3.11.5"
  }
 },
 "nbformat": 4,
 "nbformat_minor": 5
}
