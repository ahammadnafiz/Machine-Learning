{
 "cells": [
  {
   "cell_type": "code",
   "execution_count": 1,
   "metadata": {},
   "outputs": [],
   "source": [
    "import numpy as np\n",
    "import matplotlib.pyplot as plt\n",
    "import seaborn as sns"
   ]
  },
  {
   "cell_type": "code",
   "execution_count": 2,
   "metadata": {},
   "outputs": [],
   "source": [
    "import warnings\n",
    "warnings.filterwarnings(\"ignore\", category=FutureWarning)\n",
    "warnings.filterwarnings(\"ignore\", category=UserWarning)\n",
    "\n",
    "sns.set_palette(\"Spectral\")\n",
    "\n",
    "# Set a base style\n",
    "sns.set_style(\"whitegrid\")\n",
    "\n",
    "# Customize specific style parameters\n",
    "custom_params = {\n",
    "    \"axes.spines.right\": False,\n",
    "    \"axes.spines.top\": False,\n",
    "    \"axes.grid\": True,\n",
    "    \"grid.linestyle\": \"--\",\n",
    "    \"grid.color\": \"#cccccc\",\n",
    "    \"axes.facecolor\": \"#f0f0f0\",\n",
    "    \"axes.labelsize\": 14,\n",
    "    \"axes.titlesize\": 16,\n",
    "    \"xtick.labelsize\": 12,\n",
    "    \"ytick.labelsize\": 12\n",
    "}\n",
    "sns.set_context(\"notebook\", rc=custom_params)"
   ]
  },
  {
   "cell_type": "code",
   "execution_count": 3,
   "metadata": {},
   "outputs": [],
   "source": [
    "# Importing necessary modules from sklearn for dataset loading, model selection, preprocessing, and metrics\n",
    "from sklearn.datasets import load_digits  # For loading the digits dataset\n",
    "from sklearn.model_selection import train_test_split, KFold  # For splitting data into training and testing sets, and for cross-validation\n",
    "from sklearn.preprocessing import StandardScaler  # For scaling/normalizing the data\n",
    "from sklearn.metrics import accuracy_score, classification_report  # For evaluating model performance"
   ]
  },
  {
   "cell_type": "code",
   "execution_count": 4,
   "metadata": {},
   "outputs": [],
   "source": [
    "# Load the digits dataset from sklearn\n",
    "digits = load_digits()\n",
    "# Extract the data and target from the loaded dataset\n",
    "X, y = digits.data, digits.target"
   ]
  },
  {
   "cell_type": "code",
   "execution_count": 5,
   "metadata": {},
   "outputs": [
    {
     "name": "stdout",
     "output_type": "stream",
     "text": [
      "X shape: (1797, 64)\n",
      "y shape: (1797,)\n"
     ]
    }
   ],
   "source": [
    "# Display the shape of the input data matrix X\n",
    "print(\"X shape:\", X.shape)\n",
    "# Display the shape of the target variable y\n",
    "print(\"y shape:\", y.shape)"
   ]
  },
  {
   "cell_type": "code",
   "execution_count": 6,
   "metadata": {},
   "outputs": [],
   "source": [
    "# Split the data into training and testing sets\n",
    "X_train, X_test, y_train, y_test = train_test_split(X, y, test_size=0.2, random_state=42)"
   ]
  },
  {
   "cell_type": "code",
   "execution_count": 7,
   "metadata": {},
   "outputs": [
    {
     "name": "stdout",
     "output_type": "stream",
     "text": [
      "X_train shape: (1437, 64)\n",
      "X_test shape: (360, 64)\n",
      "y_train shape: (1437,)\n",
      "y_test shape: (360,)\n"
     ]
    }
   ],
   "source": [
    "print(\"X_train shape:\", X_train.shape)\n",
    "print(\"X_test shape:\", X_test.shape)\n",
    "print(\"y_train shape:\", y_train.shape)\n",
    "print(\"y_test shape:\", y_test.shape)"
   ]
  },
  {
   "cell_type": "code",
   "execution_count": 8,
   "metadata": {},
   "outputs": [],
   "source": [
    "# Normalize the data\n",
    "scaler = StandardScaler()  # Initialize the StandardScaler\n",
    "X_train = scaler.fit_transform(X_train)  # Fit and transform the training data\n",
    "X_test = scaler.transform(X_test)  # Transform the testing data"
   ]
  },
  {
   "cell_type": "markdown",
   "metadata": {},
   "source": [
    " **X**: Input data matrix of shape $(n_x, m)$, where:\n",
    "  - $( n_x$): Number of input features.\n",
    "  - $( m )$: Number of training examples."
   ]
  },
  {
   "cell_type": "code",
   "execution_count": 9,
   "metadata": {},
   "outputs": [
    {
     "name": "stdout",
     "output_type": "stream",
     "text": [
      "X_train shape: (64, 1437)\n",
      "X_test shape: (64, 360)\n"
     ]
    }
   ],
   "source": [
    "# Transpose the training data to change its shape from (m, nx) to (nx, m) as required by the neural network\n",
    "X_train = X_train.T\n",
    "# Transpose the testing data to change its shape from (m, nx) to (nx, m) as required by the neural network\n",
    "X_test = X_test.T\n",
    "\n",
    "# Display the new shape of the transposed training data\n",
    "print(\"X_train shape:\", X_train.shape)\n",
    "# Display the new shape of the transposed testing data\n",
    "print(\"X_test shape:\", X_test.shape)"
   ]
  },
  {
   "cell_type": "code",
   "execution_count": 10,
   "metadata": {},
   "outputs": [],
   "source": [
    "# One-hot encode the labels\n",
    "def one_hot_encode(y, num_classes):\n",
    "    # np.eye creates an identity matrix of shape (num_classes, num_classes)\n",
    "    # This is used to create a one-hot encoding for each class\n",
    "    # The [y] indexing selects the rows corresponding to the labels in y\n",
    "    # The .T transposes the result to have shape (num_classes, m) where m is the number of examples\n",
    "    return np.eye(num_classes)[y].T"
   ]
  },
  {
   "cell_type": "code",
   "execution_count": 11,
   "metadata": {},
   "outputs": [],
   "source": [
    "y_train_one_hot = one_hot_encode(y_train, 10)\n",
    "y_test_one_hot = one_hot_encode(y_test, 10)"
   ]
  },
  {
   "cell_type": "markdown",
   "metadata": {},
   "source": [
    "**Y**: True label matrix of shape $(n_y, m)$, where:\n",
    "  - $( n_y )$: Number of output classes (e.g., 1 for binary classification, C for multiclass).\n",
    "  - $( m)$: Number of training examples."
   ]
  },
  {
   "cell_type": "code",
   "execution_count": 12,
   "metadata": {},
   "outputs": [
    {
     "name": "stdout",
     "output_type": "stream",
     "text": [
      "y_train_one_hot shape: (10, 1437)\n",
      "y_test_one_hot shape: (10, 360)\n"
     ]
    }
   ],
   "source": [
    "print(\"y_train_one_hot shape:\", y_train_one_hot.shape)\n",
    "print(\"y_test_one_hot shape:\", y_test_one_hot.shape)"
   ]
  },
  {
   "cell_type": "markdown",
   "metadata": {},
   "source": [
    "- **Input layer**: $X_{\\text{train}}$  has shape \\($64, 1437$) \\, meaning our input have 64 features and 1437 training examples.\n",
    "\n",
    "- **Output layer**: \\( $y_{\\text{train\\_one\\_hot}}$ \\) has shape  ($10, 1437$) , so our network's output should have 10 units, corresponding to the 10 classes in one-hot encoding.\n",
    "\n",
    "We'll design the network with three hidden layers, with the number of units you prefer for each layer:\n",
    "\n",
    "### Network Design:\n",
    "\n",
    "1. **Input Layer**: 64 units $from ( X_{\\text{train}})$.\n",
    "\n",
    "2. **Hidden Layer 1**: 128 units, ReLU activation.\n",
    "\n",
    "3. **Hidden Layer 2**: 64 units, ReLU activation.\n",
    "\n",
    "4. **Hidden Layer 3**: 32 units, ReLU activation.\n",
    "\n",
    "5. **Output Layer**: 10 units, softmax activation (to match the 10 classes).\n",
    "\n",
    "### Forward Propagation:\n",
    "\n",
    "1. $Z^{[1]} = W^{[1]} X + b^{[1]}$ \n",
    "\n",
    "2. $A^{[1]} = g_{\\text{ReLU}}(Z^{[1]})$ \n",
    "\n",
    "3.  $Z^{[2]} = W^{[2]} A^{[1]} + b^{[2]}$\n",
    "\n",
    "4. $A^{[2]} = g_{\\text{ReLU}}(Z^{[2]})$\n",
    "\n",
    "5. $Z^{[3]} = W^{[3]} A^{[2]} + b^{[3]}$\n",
    "\n",
    "6. $A^{[3]} = g_{\\text{ReLU}}(Z^{[3]})$\n",
    "\n",
    "7. $Z^{[4]} = W^{[4]} A^{[3]} + b^{[4]}$\n",
    "\n",
    "8. $A^{[4]} = g_{\\text{softmax}}(Z^{[4]})$\n",
    "\n",
    "### Backward Propagation:\n",
    "\n",
    "1.  $dZ^{[4]} = A^{[4]} - Y$ \n",
    "\n",
    "2.  $dW^{[4]} = \\frac{1}{m} dZ^{[4]} A^{[3]T}$\n",
    "\n",
    "3.  $db^{[4]} = \\frac{1}{m} \\sum dZ^{[4]}$\n",
    "\n",
    "###  Entering Hidden Layers\n",
    "\n",
    "4. $dZ^{[3]} = W^{[4]T} dZ^{[4]} \\cdot g'_{\\text{ReLU}}(Z^{[3]})$ \n",
    "\n",
    "5. $dW^{[3]} = \\frac{1}{m} dZ^{[3]} A^{[2]T}$\n",
    "\n",
    "6. $db^{[3]} = \\frac{1}{m} \\sum dZ^{[3]}$\n",
    "\n",
    "7. $dZ^{[2]} = W^{[3]T} dZ^{[3]} \\cdot g'_{\\text{ReLU}}(Z^{[2]})$\n",
    "\n",
    "8. $dW^{[2]} = \\frac{1}{m} dZ^{[2]} A^{[1]T}$\n",
    "\n",
    "9. $db^{[2]} = \\frac{1}{m} \\sum dZ^{[2]}$\n",
    "\n",
    "10. $dZ^{[1]} = W^{[2]T} dZ^{[2]} \\cdot g'_{\\text{ReLU}}(Z^{[1]})$\n",
    "\n",
    "11. $dW^{[1]} = \\frac{1}{m} dZ^{[1]} X^T$\n",
    "\n",
    "12.  $db^{[1]} = \\frac{1}{m} \\sum dZ^{[1]}$\n",
    "\n",
    "  \n",
    "\n",
    "### Parameter Updates:\n",
    "\n",
    "1. $W^{[4]} := W^{[4]} - \\alpha dW^{[4]}$\n",
    "\n",
    "2. $b^{[4]} := b^{[4]} - \\alpha db^{[4]}$ \n",
    "\n",
    "3. $W^{[3]} := W^{[3]} - \\alpha dW^{[3]}$\n",
    "\n",
    "4. $b^{[3]} := b^{[3]} - \\alpha db^{[3]}$ \n",
    "\n",
    "5. $W^{[2]} := W^{[2]} - \\alpha dW^{[2]}$\n",
    "\n",
    "6.  $b^{[2]} := b^{[2]} - \\alpha db^{[2]}$\n",
    "\n",
    "7. $W^{[1]} := W^{[1]} - \\alpha dW^{[1]}$\n",
    "\n",
    "8. $b^{[1]} := b^{[1]} - \\alpha db^{[1]}$\n",
    "\n",
    "### Variable Shapes:\n",
    "\n",
    "- $A^{[0]}$ = X : \\( $64 \\times m$ \\)\n",
    "\n",
    "-  $Z^{[1]} \\sim A^{[1]}$ : \\( $128 \\times m$ \\)\n",
    "\n",
    "-  $W^{[1]}$ : \\( $128 \\times 64$ \\)\n",
    "\n",
    "- $b^{[1]}$: \\( $128 \\times 1$ \\)\n",
    "\n",
    "- $Z^{[2]} \\sim A^{[2]}$ : \\( $64 \\times m$ \\)\n",
    "\n",
    "- $\\ W^{[2]}$ \\: \\( $64 \\times 128$ \\)\n",
    "\n",
    "- $b^{[2]}$ \\: \\( $64 \\times 1$ \\)\n",
    "\n",
    "- $Z^{[3]} \\sim A^{[3]}$ : \\( $32 \\times m$ \\)\n",
    "\n",
    "- $W^{[3]}$: \\( $32 \\times 64$ \\)\n",
    "\n",
    "-  $b^{[3]}$: \\( $32 \\times 1$ \\)\n",
    "\n",
    "- $Z^{[4]} \\sim A^{[4]}$: \\( $10 \\times m$ \\)\n",
    "\n",
    "- $W^{[4]}$: \\( $10 \\times 32$ \\)\n",
    "\n",
    "- $b^{[4]}$ : \\( $10 \\times 1$ \\)"
   ]
  },
  {
   "cell_type": "code",
   "execution_count": 13,
   "metadata": {},
   "outputs": [],
   "source": [
    "def initialize_parameters():\n",
    "    np.random.seed(1)  # For reproducibility, ensuring the same random numbers are generated each time\n",
    "\n",
    "    parameters = {}  # Initialize an empty dictionary to store the parameters\n",
    "\n",
    "    # Layer 1 (Input to Hidden Layer 1)\n",
    "    parameters['W1'] = np.random.randn(128, 64) * np.sqrt(2 / 64)  # Weight matrix for layer 1, using Xavier initialization for weights\n",
    "    parameters['b1'] = np.zeros((128, 1))  # Bias vector for layer 1, initialized as zeros\n",
    "\n",
    "    # Layer 2 (Hidden Layer 1 to Hidden Layer 2)\n",
    "    parameters['W2'] = np.random.randn(64, 128) * np.sqrt(2 / 128)  # Weight matrix for layer 2, using Xavier initialization for weights\n",
    "    parameters['b2'] = np.zeros((64, 1))  # Bias vector for layer 2, initialized as zeros\n",
    "\n",
    "    # Layer 3 (Hidden Layer 2 to Hidden Layer 3)\n",
    "    parameters['W3'] = np.random.randn(32, 64) * np.sqrt(2 / 64)  # Weight matrix for layer 3, using Xavier initialization for weights\n",
    "    parameters['b3'] = np.zeros((32, 1))  # Bias vector for layer 3, initialized as zeros\n",
    "\n",
    "    # Output Layer (Hidden Layer 3 to Output)\n",
    "    parameters['W4'] = np.random.randn(10, 32) * np.sqrt(2 / 32)  # Weight matrix for output layer, using Xavier initialization for weights\n",
    "    parameters['b4'] = np.zeros((10, 1))  # Bias vector for output layer, initialized as zeros\n",
    "\n",
    "    return parameters"
   ]
  },
  {
   "cell_type": "code",
   "execution_count": 14,
   "metadata": {},
   "outputs": [],
   "source": [
    "def RELu(Z):\n",
    "    # np.maximum returns an element-wise maximum of array elements.\n",
    "    # Here, it ensures that all negative values in Z are set to 0, while non-negative values remain unchanged.\n",
    "    return np.maximum(0, Z)"
   ]
  },
  {
   "cell_type": "code",
   "execution_count": 15,
   "metadata": {},
   "outputs": [],
   "source": [
    "def softmax(Z):\n",
    "    # Subtract the maximum value from Z to prevent overflow and ensure numerical stability\n",
    "    exp_Z = np.exp(Z - np.max(Z, axis=0, keepdims=True))\n",
    "    # Normalize the exponentiated values by dividing by their sum to ensure probabilities sum to 1\n",
    "    return exp_Z / np.sum(exp_Z, axis=0, keepdims=True)"
   ]
  },
  {
   "cell_type": "code",
   "execution_count": 16,
   "metadata": {},
   "outputs": [],
   "source": [
    "def forward_propagation(X, parameters):\n",
    "    # Retrieve parameters for each layer\n",
    "    W1, b1 = parameters['W1'], parameters['b1']  # Layer 1 parameters\n",
    "    W2, b2 = parameters['W2'], parameters['b2']  # Layer 2 parameters\n",
    "    W3, b3 = parameters['W3'], parameters['b3']  # Layer 3 parameters\n",
    "    W4, b4 = parameters['W4'], parameters['b4']  # Layer 4 parameters\n",
    "\n",
    "    # Forward propagation: Layer 1 (Input -> Hidden Layer 1)\n",
    "    Z1 = np.dot(W1, X) + b1  # Compute the linear component of Layer 1\n",
    "    A1 = RELu(Z1)  # Apply ReLU activation function to Z1\n",
    "\n",
    "    # Forward propagation: Layer 2 (Hidden Layer 1 -> Hidden Layer 2)\n",
    "    Z2 = np.dot(W2, A1) + b2  # Compute the linear component of Layer 2\n",
    "    A2 = RELu(Z2)  # Apply ReLU activation function to Z2\n",
    "\n",
    "    # Forward propagation: Layer 3 (Hidden Layer 2 -> Hidden Layer 3)\n",
    "    Z3 = np.dot(W3, A2) + b3  # Compute the linear component of Layer 3\n",
    "    A3 = RELu(Z3)  # Apply ReLU activation function to Z3\n",
    "\n",
    "    # Forward propagation: Layer 4 (Hidden Layer 3 -> Output Layer)\n",
    "    Z4 = np.dot(W4, A3) + b4  # Compute the linear component of Layer 4\n",
    "    A4 = softmax(Z4)  # Apply softmax activation function to Z4 for output layer\n",
    "\n",
    "    # Store all activations and Z values for backpropagation\n",
    "    cache = {\n",
    "        \"Z1\": Z1, \"A1\": A1,  # Store Z and A for Layer 1\n",
    "        \"Z2\": Z2, \"A2\": A2,  # Store Z and A for Layer 2\n",
    "        \"Z3\": Z3, \"A3\": A3,  # Store Z and A for Layer 3\n",
    "        \"Z4\": Z4, \"A4\": A4   # Store Z and A for Layer 4\n",
    "    }\n",
    "    \n",
    "    return A4, cache"
   ]
  },
  {
   "cell_type": "code",
   "execution_count": 17,
   "metadata": {},
   "outputs": [],
   "source": [
    "def relu_derivative(Z):\n",
    "    # Returns 1 where Z > 0, otherwise 0\n",
    "    return Z > 0\n",
    "\n",
    "def backpropagation(X, Y, cache, parameters):\n",
    "    m = X.shape[1]  # Number of examples\n",
    "\n",
    "    # Retrieve cached values\n",
    "    A1, A2, A3, A4 = cache['A1'], cache['A2'], cache['A3'], cache['A4']\n",
    "    Z1, Z2, Z3, Z4 = cache['Z1'], cache['Z2'], cache['Z3'], cache['Z4']\n",
    "\n",
    "    # Retrieve parameters\n",
    "    W2, W3, W4 = parameters['W2'], parameters['W3'], parameters['W4']\n",
    "\n",
    "    # Backpropagation: Output Layer\n",
    "    dZ4 = A4 - Y  # dZ^{[4]} = A^{[4]} - Y\n",
    "    dW4 = (1 / m) * np.dot(dZ4, A3.T)  # dW^{[4]} = (1/m) * dZ^{[4]} * A^{[3]T}\n",
    "    db4 = (1 / m) * np.sum(dZ4, axis=1, keepdims=True)  # db^{[4]} = (1/m) * sum(dZ^{[4]}, axis=1)\n",
    "\n",
    "    # Backpropagation: Layer 3 (Hidden Layer 3 -> Hidden Layer 2)\n",
    "    dZ3 = np.dot(W4.T, dZ4) * relu_derivative(Z3)  # dZ^{[3]} = W^{[4]T} * dZ^{[4]} * g'(Z^{[3]})\n",
    "    dW3 = (1 / m) * np.dot(dZ3, A2.T)  # dW^{[3]} = (1/m) * dZ^{[3]} * A^{[2]T}\n",
    "    db3 = (1 / m) * np.sum(dZ3, axis=1, keepdims=True)  # db^{[3]} = (1/m) * sum(dZ^{[3]}, axis=1)\n",
    "\n",
    "    # Backpropagation: Layer 2 (Hidden Layer 2 -> Hidden Layer 1)\n",
    "    dZ2 = np.dot(W3.T, dZ3) * relu_derivative(Z2)  # dZ^{[2]} = W^{[3]T} * dZ^{[3]} * g'(Z^{[2]})\n",
    "    dW2 = (1 / m) * np.dot(dZ2, A1.T)  # dW^{[2]} = (1/m) * dZ^{[2]} * A^{[1]T}\n",
    "    db2 = (1 / m) * np.sum(dZ2, axis=1, keepdims=True)  # db^{[2]} = (1/m) * sum(dZ^{[2]}, axis=1)\n",
    "\n",
    "    # Backpropagation: Layer 1 (Hidden Layer 1 -> Input Layer)\n",
    "    dZ1 = np.dot(W2.T, dZ2) * relu_derivative(Z1)  # dZ^{[1]} = W^{[2]T} * dZ^{[2]} * g'(Z^{[1]})\n",
    "    dW1 = (1 / m) * np.dot(dZ1, X.T)  # dW^{[1]} = (1/m) * dZ^{[1]} * X^T\n",
    "    db1 = (1 / m) * np.sum(dZ1, axis=1, keepdims=True)  # db^{[1]} = (1/m) * sum(dZ^{[1]}, axis=1)\n",
    "\n",
    "    # Store gradients in a dictionary\n",
    "    gradients = {\n",
    "        'dW1': dW1, 'db1': db1,\n",
    "        'dW2': dW2, 'db2': db2,\n",
    "        'dW3': dW3, 'db3': db3,\n",
    "        'dW4': dW4, 'db4': db4\n",
    "    }\n",
    "\n",
    "    return gradients"
   ]
  },
  {
   "cell_type": "code",
   "execution_count": 18,
   "metadata": {},
   "outputs": [],
   "source": [
    "def update_parameters(parameters, gradients, learning_rate):\n",
    "    # Update parameters for all layers\n",
    "    # Layer 1\n",
    "    parameters['W1'] = parameters['W1'] - learning_rate * gradients['dW1']  # Update weights for layer 1\n",
    "    parameters['b1'] = parameters['b1'] - learning_rate * gradients['db1']  # Update bias for layer 1\n",
    "\n",
    "    # Layer 2\n",
    "    parameters['W2'] = parameters['W2'] - learning_rate * gradients['dW2']  # Update weights for layer 2\n",
    "    parameters['b2'] = parameters['b2'] - learning_rate * gradients['db2']  # Update bias for layer 2\n",
    "\n",
    "    # Layer 3\n",
    "    parameters['W3'] = parameters['W3'] - learning_rate * gradients['dW3']  # Update weights for layer 3\n",
    "    parameters['b3'] = parameters['b3'] - learning_rate * gradients['db3']  # Update bias for layer 3\n",
    "\n",
    "    # Layer 4\n",
    "    parameters['W4'] = parameters['W4'] - learning_rate * gradients['dW4']  # Update weights for layer 4\n",
    "    parameters['b4'] = parameters['b4'] - learning_rate * gradients['db4']  # Update bias for layer 4\n",
    "\n",
    "    return parameters"
   ]
  },
  {
   "cell_type": "code",
   "execution_count": 19,
   "metadata": {},
   "outputs": [],
   "source": [
    "def compute_cost(A4, Y):\n",
    "    # Calculate the number of training examples\n",
    "    m = Y.shape[1]\n",
    "    # Define a small value to avoid division by zero\n",
    "    epsilon = 1e-15\n",
    "    # Clip the values of A4 to ensure they are not too close to 0 or 1\n",
    "    A4 = np.clip(A4, epsilon, 1 - epsilon)\n",
    "    # Calculate the cost using the formula for binary cross-entropy loss\n",
    "    cost = -np.sum(Y * np.log(A4)) / m\n",
    "    return cost"
   ]
  },
  {
   "cell_type": "code",
   "execution_count": 20,
   "metadata": {},
   "outputs": [],
   "source": [
    "def train_neural_network(X_train, Y_train, parameters, learning_rate=0.01, num_iterations=1000, print_cost=False):\n",
    "    costs = []  # Initialize a list to keep track of the cost at each epoch\n",
    "\n",
    "    for i in range(num_iterations):\n",
    "        # 1. Forward Propagation: Compute the output of the neural network\n",
    "        A4, cache = forward_propagation(X_train, parameters)\n",
    "        \n",
    "        # 2. Compute the cost: Calculate the difference between the predicted output and the actual output\n",
    "        cost = compute_cost(A4, Y_train)\n",
    "        \n",
    "        # 3. Backward Propagation: Compute the gradients of the cost with respect to the parameters\n",
    "        gradients = backpropagation(X_train, Y_train, cache, parameters)\n",
    "        \n",
    "        # 4. Update Parameters: Adjust the parameters to minimize the cost\n",
    "        parameters = update_parameters(parameters, gradients, learning_rate)\n",
    "        \n",
    "        # 5. Store and print the cost every 100 iterations\n",
    "        if i % 100 == 0:\n",
    "            costs.append(cost)  # Store the cost at this iteration\n",
    "            if print_cost:\n",
    "                print(f\"Cost after iteration {i}: {cost}\")  # Print the cost if print_cost is True\n",
    "\n",
    "    return costs"
   ]
  },
  {
   "cell_type": "code",
   "execution_count": 21,
   "metadata": {},
   "outputs": [],
   "source": [
    "def predict(X, parameters):\n",
    "    # Forward propagate the input X through the network to get the output\n",
    "    AL, _ = forward_propagation(X, parameters)\n",
    "    # Return the index of the maximum value along the 0th axis, which corresponds to the predicted class\n",
    "    return np.argmax(AL, axis=0)"
   ]
  },
  {
   "cell_type": "code",
   "execution_count": 22,
   "metadata": {},
   "outputs": [
    {
     "name": "stdout",
     "output_type": "stream",
     "text": [
      "Cost after iteration 0: 3.587006265007091\n"
     ]
    },
    {
     "name": "stdout",
     "output_type": "stream",
     "text": [
      "Cost after iteration 100: 0.08528232221674362\n",
      "Cost after iteration 200: 0.03164440909881338\n",
      "Cost after iteration 300: 0.016650407268010203\n",
      "Cost after iteration 400: 0.010406506005273255\n",
      "Cost after iteration 500: 0.0071909013288437235\n",
      "Cost after iteration 600: 0.005377799593959244\n",
      "Cost after iteration 700: 0.004233206978468673\n",
      "Cost after iteration 800: 0.003454485330834566\n",
      "Cost after iteration 900: 0.0028936369064050866\n",
      "Cost after iteration 1000: 0.002474251608162398\n",
      "Cost after iteration 1100: 0.00215227449463164\n",
      "Cost after iteration 1200: 0.0018985899744283002\n",
      "Cost after iteration 1300: 0.0016938856645185012\n",
      "Cost after iteration 1400: 0.0015256329435970695\n",
      "Cost after iteration 1500: 0.001385109619993957\n",
      "Cost after iteration 1600: 0.001266038004914456\n",
      "Cost after iteration 1700: 0.0011640461562080148\n",
      "Cost after iteration 1800: 0.00107582157159437\n",
      "Cost after iteration 1900: 0.0009990207344764503\n",
      "Cost after iteration 2000: 0.0009315560242434714\n",
      "Cost after iteration 2100: 0.0008718544949163916\n",
      "Cost after iteration 2200: 0.0008187658092385684\n",
      "Cost after iteration 2300: 0.0007712560054726636\n",
      "Cost after iteration 2400: 0.0007285086352330558\n",
      "Test Accuracy: 0.9778\n",
      "\n",
      "Classification Report:\n",
      "              precision    recall  f1-score   support\n",
      "\n",
      "           0       1.00      1.00      1.00        33\n",
      "           1       1.00      1.00      1.00        28\n",
      "           2       0.97      0.97      0.97        33\n",
      "           3       0.97      0.97      0.97        34\n",
      "           4       0.98      1.00      0.99        46\n",
      "           5       0.96      0.96      0.96        47\n",
      "           6       0.97      0.97      0.97        35\n",
      "           7       1.00      0.97      0.99        34\n",
      "           8       0.97      0.93      0.95        30\n",
      "           9       0.98      1.00      0.99        40\n",
      "\n",
      "    accuracy                           0.98       360\n",
      "   macro avg       0.98      0.98      0.98       360\n",
      "weighted avg       0.98      0.98      0.98       360\n",
      "\n"
     ]
    },
    {
     "data": {
      "image/png": "[encoded data removed]",
      "text/plain": [
       "<Figure size 800x600 with 1 Axes>"
      ]
     },
     "metadata": {},
     "output_type": "display_data"
    }
   ],
   "source": [
    "# Initialize the parameters for the neural network\n",
    "parameters = initialize_parameters()\n",
    "\n",
    "# Train the neural network with the specified parameters and hyperparameters\n",
    "cost = train_neural_network(X_train, y_train_one_hot, parameters, learning_rate=0.1, num_iterations=2500, print_cost=True)\n",
    "\n",
    "# Use the trained parameters to make predictions on the test set\n",
    "test_predictions = predict(X_test, parameters)\n",
    "\n",
    "# Calculate the accuracy of the predictions\n",
    "test_accuracy = accuracy_score(np.argmax(y_test_one_hot, axis=0), test_predictions)\n",
    "print(f\"Test Accuracy: {test_accuracy:.4f}\")  # Print the test accuracy\n",
    "\n",
    "# Generate and print the classification report for the predictions\n",
    "print(\"\\nClassification Report:\")\n",
    "print(classification_report(np.argmax(y_test_one_hot, axis=0), test_predictions))\n",
    "\n",
    "# Plot the cost over iterations to visualize the training process\n",
    "plt.figure(figsize=(8, 6))  # Set the figure size\n",
    "sns.lineplot(x=range(0, 2500, 100), y=cost, marker='o', color='#e74645', linewidth=2)  # Plot the cost\n",
    "plt.title('Cost vs. Iterations')  # Set the title\n",
    "plt.xlabel('Iterations')  # Set the x-axis label\n",
    "plt.ylabel('Cost')  # Set the y-axis label\n",
    "plt.show()  # Show the plot"
   ]
  }
 ],
 "metadata": {
  "kernelspec": {
   "display_name": "Python 3",
   "language": "python",
   "name": "python3"
  },
  "language_info": {
   "codemirror_mode": {
    "name": "ipython",
    "version": 3
   },
   "file_extension": ".py",
   "mimetype": "text/x-python",
   "name": "python",
   "nbconvert_exporter": "python",
   "pygments_lexer": "ipython3",
   "version": "3.12.0"
  }
 },
 "nbformat": 4,
 "nbformat_minor": 2
}
